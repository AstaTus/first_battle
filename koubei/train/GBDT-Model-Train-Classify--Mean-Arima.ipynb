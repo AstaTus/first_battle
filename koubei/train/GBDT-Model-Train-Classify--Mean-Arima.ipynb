{
 "cells": [
  {
   "cell_type": "code",
   "execution_count": 1,
   "metadata": {
    "collapsed": false
   },
   "outputs": [],
   "source": [
    "import numpy as np\n",
    "import pandas as pd\n",
    "import matplotlib.pyplot as plt\n",
    "import seaborn as sns\n",
    "from datetime import datetime\n",
    "import datetime\n",
    "import time\n",
    "\n",
    "from sys import path\n",
    "path.append(r'E:\\data_mining\\project\\IJCAI-17-口碑\\koubei')\n",
    "\n",
    "import predict\n",
    "import base\n",
    "import shop_classify as sc\n",
    "\n",
    "%load_ext autoreload\n",
    "%autoreload 2"
   ]
  },
  {
   "cell_type": "code",
   "execution_count": 2,
   "metadata": {
    "collapsed": true
   },
   "outputs": [],
   "source": [
    "from sklearn.ensemble import GradientBoostingClassifier\n",
    "from sklearn.ensemble import RandomForestClassifier\n",
    "from sklearn.model_selection import train_test_split\n",
    "from sklearn.model_selection import GridSearchCV\n",
    "from sklearn.metrics import classification_report\n",
    "from sklearn.model_selection import validation_curve\n",
    "from sklearn.model_selection import learning_curve\n",
    "from sklearn import metrics"
   ]
  },
  {
   "cell_type": "code",
   "execution_count": 3,
   "metadata": {
    "collapsed": true
   },
   "outputs": [],
   "source": [
    "def plot_learning_curve(estimator, title, X, y, ylim=None, cv=None,\n",
    "                        n_jobs=1, train_sizes=np.linspace(.1, 1.0, 5)):\n",
    "    \"\"\"\n",
    "    Generate a simple plot of the test and training learning curve.\n",
    "\n",
    "    Parameters\n",
    "    ----------\n",
    "    estimator : object type that implements the \"fit\" and \"predict\" methods\n",
    "        An object of that type which is cloned for each validation.\n",
    "\n",
    "    title : string\n",
    "        Title for the chart.\n",
    "\n",
    "    X : array-like, shape (n_samples, n_features)\n",
    "        Training vector, where n_samples is the number of samples and\n",
    "        n_features is the number of features.\n",
    "\n",
    "    y : array-like, shape (n_samples) or (n_samples, n_features), optional\n",
    "        Target relative to X for classification or regression;\n",
    "        None for unsupervised learning.\n",
    "\n",
    "    ylim : tuple, shape (ymin, ymax), optional\n",
    "        Defines minimum and maximum yvalues plotted.\n",
    "\n",
    "    cv : int, cross-validation generator or an iterable, optional\n",
    "        Determines the cross-validation splitting strategy.\n",
    "        Possible inputs for cv are:\n",
    "          - None, to use the default 3-fold cross-validation,\n",
    "          - integer, to specify the number of folds.\n",
    "          - An object to be used as a cross-validation generator.\n",
    "          - An iterable yielding train/test splits.\n",
    "\n",
    "        For integer/None inputs, if ``y`` is binary or multiclass,\n",
    "        :class:`StratifiedKFold` used. If the estimator is not a classifier\n",
    "        or if ``y`` is neither binary nor multiclass, :class:`KFold` is used.\n",
    "\n",
    "        Refer :ref:`User Guide <cross_validation>` for the various\n",
    "        cross-validators that can be used here.\n",
    "\n",
    "    n_jobs : integer, optional\n",
    "        Number of jobs to run in parallel (default 1).\n",
    "    \"\"\"\n",
    "    plt.figure()\n",
    "    plt.title(title)\n",
    "    if ylim is not None:\n",
    "        plt.ylim(*ylim)\n",
    "    plt.xlabel(\"Training examples\")\n",
    "    plt.ylabel(\"Score\")\n",
    "    train_sizes, train_scores, test_scores = learning_curve(\n",
    "        estimator, X, y, cv=cv, n_jobs=n_jobs, train_sizes=train_sizes)\n",
    "    train_scores_mean = np.mean(train_scores, axis=1)\n",
    "    train_scores_std = np.std(train_scores, axis=1)\n",
    "    test_scores_mean = np.mean(test_scores, axis=1)\n",
    "    test_scores_std = np.std(test_scores, axis=1)\n",
    "    plt.grid()\n",
    "\n",
    "    plt.fill_between(train_sizes, train_scores_mean - train_scores_std,\n",
    "                     train_scores_mean + train_scores_std, alpha=0.1,\n",
    "                     color=\"r\")\n",
    "    plt.fill_between(train_sizes, test_scores_mean - test_scores_std,\n",
    "                     test_scores_mean + test_scores_std, alpha=0.1, color=\"g\")\n",
    "    plt.plot(train_sizes, train_scores_mean, 'o-', color=\"r\",\n",
    "             label=\"Training score\")\n",
    "    plt.plot(train_sizes, test_scores_mean, 'o-', color=\"g\",\n",
    "             label=\"Cross-validation score\")\n",
    "\n",
    "    plt.legend(loc=\"best\")\n",
    "    return plt"
   ]
  },
  {
   "cell_type": "code",
   "execution_count": 4,
   "metadata": {
    "collapsed": true
   },
   "outputs": [],
   "source": [
    "today = datetime.date.today()"
   ]
  },
  {
   "cell_type": "code",
   "execution_count": 79,
   "metadata": {
    "collapsed": false
   },
   "outputs": [],
   "source": [
    "#读取训练集\n",
    "X_train_df = pd.read_csv('../data/train/mean_arima/X_train' + today.isoformat() + '.csv', index_col=0)\n",
    "y_train_df = pd.read_csv('../data/train/mean_arima/y_train' + today.isoformat() + '.csv', index_col=0)"
   ]
  },
  {
   "cell_type": "code",
   "execution_count": 80,
   "metadata": {
    "collapsed": false
   },
   "outputs": [],
   "source": [
    "# Split the dataset in two equal parts\n",
    "X_train, X_test, y_train, y_test = train_test_split(X_train_df, y_train_df['type'], random_state=0, test_size=0.5)"
   ]
  },
  {
   "cell_type": "code",
   "execution_count": 7,
   "metadata": {
    "collapsed": false
   },
   "outputs": [
    {
     "name": "stdout",
     "output_type": "stream",
     "text": [
      "Best parameters set found on development set:\n",
      "\n",
      "{'min_samples_leaf': 6, 'n_estimators': 60, 'max_depth': 3, 'learning_rate': 0.07, 'min_samples_split': 7}\n",
      "\n",
      "Grid scores on development set:\n",
      "\n",
      "0.315 (+/-0.119) for {'min_samples_leaf': 4, 'n_estimators': 40, 'max_depth': 3, 'learning_rate': 0.03, 'min_samples_split': 7}\n",
      "0.330 (+/-0.102) for {'min_samples_leaf': 4, 'n_estimators': 50, 'max_depth': 3, 'learning_rate': 0.03, 'min_samples_split': 7}\n",
      "0.356 (+/-0.144) for {'min_samples_leaf': 4, 'n_estimators': 60, 'max_depth': 3, 'learning_rate': 0.03, 'min_samples_split': 7}\n",
      "0.315 (+/-0.119) for {'min_samples_leaf': 4, 'n_estimators': 40, 'max_depth': 3, 'learning_rate': 0.03, 'min_samples_split': 10}\n",
      "0.330 (+/-0.102) for {'min_samples_leaf': 4, 'n_estimators': 50, 'max_depth': 3, 'learning_rate': 0.03, 'min_samples_split': 10}\n",
      "0.356 (+/-0.144) for {'min_samples_leaf': 4, 'n_estimators': 60, 'max_depth': 3, 'learning_rate': 0.03, 'min_samples_split': 10}\n",
      "0.315 (+/-0.119) for {'min_samples_leaf': 4, 'n_estimators': 40, 'max_depth': 3, 'learning_rate': 0.03, 'min_samples_split': 13}\n",
      "0.330 (+/-0.102) for {'min_samples_leaf': 4, 'n_estimators': 50, 'max_depth': 3, 'learning_rate': 0.03, 'min_samples_split': 13}\n",
      "0.356 (+/-0.144) for {'min_samples_leaf': 4, 'n_estimators': 60, 'max_depth': 3, 'learning_rate': 0.03, 'min_samples_split': 13}\n",
      "0.304 (+/-0.108) for {'min_samples_leaf': 6, 'n_estimators': 40, 'max_depth': 3, 'learning_rate': 0.03, 'min_samples_split': 7}\n",
      "0.330 (+/-0.125) for {'min_samples_leaf': 6, 'n_estimators': 50, 'max_depth': 3, 'learning_rate': 0.03, 'min_samples_split': 7}\n",
      "0.366 (+/-0.154) for {'min_samples_leaf': 6, 'n_estimators': 60, 'max_depth': 3, 'learning_rate': 0.03, 'min_samples_split': 7}\n",
      "0.304 (+/-0.108) for {'min_samples_leaf': 6, 'n_estimators': 40, 'max_depth': 3, 'learning_rate': 0.03, 'min_samples_split': 10}\n",
      "0.330 (+/-0.125) for {'min_samples_leaf': 6, 'n_estimators': 50, 'max_depth': 3, 'learning_rate': 0.03, 'min_samples_split': 10}\n",
      "0.366 (+/-0.154) for {'min_samples_leaf': 6, 'n_estimators': 60, 'max_depth': 3, 'learning_rate': 0.03, 'min_samples_split': 10}\n",
      "0.304 (+/-0.108) for {'min_samples_leaf': 6, 'n_estimators': 40, 'max_depth': 3, 'learning_rate': 0.03, 'min_samples_split': 13}\n",
      "0.330 (+/-0.125) for {'min_samples_leaf': 6, 'n_estimators': 50, 'max_depth': 3, 'learning_rate': 0.03, 'min_samples_split': 13}\n",
      "0.366 (+/-0.154) for {'min_samples_leaf': 6, 'n_estimators': 60, 'max_depth': 3, 'learning_rate': 0.03, 'min_samples_split': 13}\n",
      "0.387 (+/-0.135) for {'min_samples_leaf': 4, 'n_estimators': 40, 'max_depth': 3, 'learning_rate': 0.05, 'min_samples_split': 7}\n",
      "0.408 (+/-0.118) for {'min_samples_leaf': 4, 'n_estimators': 50, 'max_depth': 3, 'learning_rate': 0.05, 'min_samples_split': 7}\n",
      "0.408 (+/-0.118) for {'min_samples_leaf': 4, 'n_estimators': 60, 'max_depth': 3, 'learning_rate': 0.05, 'min_samples_split': 7}\n",
      "0.387 (+/-0.135) for {'min_samples_leaf': 4, 'n_estimators': 40, 'max_depth': 3, 'learning_rate': 0.05, 'min_samples_split': 10}\n",
      "0.408 (+/-0.118) for {'min_samples_leaf': 4, 'n_estimators': 50, 'max_depth': 3, 'learning_rate': 0.05, 'min_samples_split': 10}\n",
      "0.408 (+/-0.130) for {'min_samples_leaf': 4, 'n_estimators': 60, 'max_depth': 3, 'learning_rate': 0.05, 'min_samples_split': 10}\n",
      "0.397 (+/-0.120) for {'min_samples_leaf': 4, 'n_estimators': 40, 'max_depth': 3, 'learning_rate': 0.05, 'min_samples_split': 13}\n",
      "0.408 (+/-0.118) for {'min_samples_leaf': 4, 'n_estimators': 50, 'max_depth': 3, 'learning_rate': 0.05, 'min_samples_split': 13}\n",
      "0.413 (+/-0.121) for {'min_samples_leaf': 4, 'n_estimators': 60, 'max_depth': 3, 'learning_rate': 0.05, 'min_samples_split': 13}\n",
      "0.382 (+/-0.138) for {'min_samples_leaf': 6, 'n_estimators': 40, 'max_depth': 3, 'learning_rate': 0.05, 'min_samples_split': 7}\n",
      "0.408 (+/-0.133) for {'min_samples_leaf': 6, 'n_estimators': 50, 'max_depth': 3, 'learning_rate': 0.05, 'min_samples_split': 7}\n",
      "0.402 (+/-0.138) for {'min_samples_leaf': 6, 'n_estimators': 60, 'max_depth': 3, 'learning_rate': 0.05, 'min_samples_split': 7}\n",
      "0.382 (+/-0.138) for {'min_samples_leaf': 6, 'n_estimators': 40, 'max_depth': 3, 'learning_rate': 0.05, 'min_samples_split': 10}\n",
      "0.408 (+/-0.133) for {'min_samples_leaf': 6, 'n_estimators': 50, 'max_depth': 3, 'learning_rate': 0.05, 'min_samples_split': 10}\n",
      "0.402 (+/-0.138) for {'min_samples_leaf': 6, 'n_estimators': 60, 'max_depth': 3, 'learning_rate': 0.05, 'min_samples_split': 10}\n",
      "0.382 (+/-0.138) for {'min_samples_leaf': 6, 'n_estimators': 40, 'max_depth': 3, 'learning_rate': 0.05, 'min_samples_split': 13}\n",
      "0.413 (+/-0.148) for {'min_samples_leaf': 6, 'n_estimators': 50, 'max_depth': 3, 'learning_rate': 0.05, 'min_samples_split': 13}\n",
      "0.413 (+/-0.149) for {'min_samples_leaf': 6, 'n_estimators': 60, 'max_depth': 3, 'learning_rate': 0.05, 'min_samples_split': 13}\n",
      "0.408 (+/-0.125) for {'min_samples_leaf': 4, 'n_estimators': 40, 'max_depth': 3, 'learning_rate': 0.07, 'min_samples_split': 7}\n",
      "0.408 (+/-0.162) for {'min_samples_leaf': 4, 'n_estimators': 50, 'max_depth': 3, 'learning_rate': 0.07, 'min_samples_split': 7}\n",
      "0.428 (+/-0.141) for {'min_samples_leaf': 4, 'n_estimators': 60, 'max_depth': 3, 'learning_rate': 0.07, 'min_samples_split': 7}\n",
      "0.397 (+/-0.160) for {'min_samples_leaf': 4, 'n_estimators': 40, 'max_depth': 3, 'learning_rate': 0.07, 'min_samples_split': 10}\n",
      "0.402 (+/-0.142) for {'min_samples_leaf': 4, 'n_estimators': 50, 'max_depth': 3, 'learning_rate': 0.07, 'min_samples_split': 10}\n",
      "0.408 (+/-0.145) for {'min_samples_leaf': 4, 'n_estimators': 60, 'max_depth': 3, 'learning_rate': 0.07, 'min_samples_split': 10}\n",
      "0.413 (+/-0.148) for {'min_samples_leaf': 4, 'n_estimators': 40, 'max_depth': 3, 'learning_rate': 0.07, 'min_samples_split': 13}\n",
      "0.418 (+/-0.140) for {'min_samples_leaf': 4, 'n_estimators': 50, 'max_depth': 3, 'learning_rate': 0.07, 'min_samples_split': 13}\n",
      "0.428 (+/-0.124) for {'min_samples_leaf': 4, 'n_estimators': 60, 'max_depth': 3, 'learning_rate': 0.07, 'min_samples_split': 13}\n",
      "0.413 (+/-0.127) for {'min_samples_leaf': 6, 'n_estimators': 40, 'max_depth': 3, 'learning_rate': 0.07, 'min_samples_split': 7}\n",
      "0.428 (+/-0.115) for {'min_samples_leaf': 6, 'n_estimators': 50, 'max_depth': 3, 'learning_rate': 0.07, 'min_samples_split': 7}\n",
      "0.433 (+/-0.106) for {'min_samples_leaf': 6, 'n_estimators': 60, 'max_depth': 3, 'learning_rate': 0.07, 'min_samples_split': 7}\n",
      "0.413 (+/-0.127) for {'min_samples_leaf': 6, 'n_estimators': 40, 'max_depth': 3, 'learning_rate': 0.07, 'min_samples_split': 10}\n",
      "0.428 (+/-0.115) for {'min_samples_leaf': 6, 'n_estimators': 50, 'max_depth': 3, 'learning_rate': 0.07, 'min_samples_split': 10}\n",
      "0.433 (+/-0.106) for {'min_samples_leaf': 6, 'n_estimators': 60, 'max_depth': 3, 'learning_rate': 0.07, 'min_samples_split': 10}\n",
      "0.413 (+/-0.127) for {'min_samples_leaf': 6, 'n_estimators': 40, 'max_depth': 3, 'learning_rate': 0.07, 'min_samples_split': 13}\n",
      "0.418 (+/-0.120) for {'min_samples_leaf': 6, 'n_estimators': 50, 'max_depth': 3, 'learning_rate': 0.07, 'min_samples_split': 13}\n",
      "0.433 (+/-0.106) for {'min_samples_leaf': 6, 'n_estimators': 60, 'max_depth': 3, 'learning_rate': 0.07, 'min_samples_split': 13}\n",
      "             precision    recall  f1-score   support\n",
      "\n",
      "          0       0.86      0.96      0.91       819\n",
      "          1       0.65      0.32      0.43       181\n",
      "\n",
      "avg / total       0.83      0.85      0.82      1000\n",
      "\n",
      "\n"
     ]
    }
   ],
   "source": [
    "tuned_parameters = {'learning_rate':[0.03, 0.05, 0.07], 'n_estimators': [40, 50, 60],\n",
    "                     'min_samples_split': [7, 10, 13], 'min_samples_leaf': [4, 6], 'max_depth': [3]}\n",
    "\n",
    "\n",
    "rf = GradientBoostingClassifier(random_state=0)\n",
    "\n",
    "clf = GridSearchCV(rf, tuned_parameters, cv=4, scoring='recall')\n",
    "clf.fit(X_train, y_train)\n",
    "\n",
    "print(\"Best parameters set found on development set:\")\n",
    "print()\n",
    "print(clf.best_params_)\n",
    "print()\n",
    "print(\"Grid scores on development set:\")\n",
    "print()\n",
    "means = clf.cv_results_['mean_test_score']\n",
    "stds = clf.cv_results_['std_test_score']\n",
    "for mean, std, params in zip(means, stds, clf.cv_results_['params']):\n",
    "    print(\"%0.3f (+/-%0.03f) for %r\"\n",
    "          % (mean, std * 2, params))\n",
    "\n",
    "y_true, y_pred = y_test, clf.predict(X_test)\n",
    "print(classification_report(y_true, y_pred))\n",
    "print()"
   ]
  },
  {
   "cell_type": "code",
   "execution_count": 8,
   "metadata": {
    "collapsed": true
   },
   "outputs": [],
   "source": [
    "#######rRF"
   ]
  },
  {
   "cell_type": "code",
   "execution_count": 81,
   "metadata": {
    "collapsed": false
   },
   "outputs": [
    {
     "data": {
      "image/png": "[encoded data removed]",
      "text/plain": [
       "<matplotlib.figure.Figure at 0xb360278>"
      ]
     },
     "metadata": {},
     "output_type": "display_data"
    }
   ],
   "source": [
    "rf_classifier = RandomForestClassifier(\n",
    "    n_estimators=50, max_depth=3, min_samples_split=7, min_samples_leaf=4, n_jobs=2, random_state=0, class_weight=None)\n",
    "plot_learning_curve(rf_classifier, 'rf', X_train, y_train, cv=5)\n",
    "plt.show()"
   ]
  },
  {
   "cell_type": "code",
   "execution_count": 82,
   "metadata": {
    "collapsed": false
   },
   "outputs": [
    {
     "data": {
      "text/plain": [
       "RandomForestClassifier(bootstrap=True, class_weight=None, criterion='gini',\n",
       "            max_depth=3, max_features='auto', max_leaf_nodes=None,\n",
       "            min_impurity_split=1e-07, min_samples_leaf=4,\n",
       "            min_samples_split=7, min_weight_fraction_leaf=0.0,\n",
       "            n_estimators=50, n_jobs=2, oob_score=False, random_state=0,\n",
       "            verbose=0, warm_start=False)"
      ]
     },
     "execution_count": 82,
     "metadata": {},
     "output_type": "execute_result"
    }
   ],
   "source": [
    "rf_classifier.fit(X_train, y_train)"
   ]
  },
  {
   "cell_type": "code",
   "execution_count": 83,
   "metadata": {
    "collapsed": false
   },
   "outputs": [
    {
     "data": {
      "text/plain": [
       "0.83599999999999997"
      ]
     },
     "execution_count": 83,
     "metadata": {},
     "output_type": "execute_result"
    }
   ],
   "source": [
    "rf_classifier.score(X_test, y_test)"
   ]
  },
  {
   "cell_type": "code",
   "execution_count": 84,
   "metadata": {
    "collapsed": true
   },
   "outputs": [],
   "source": [
    "y_pred = rf_classifier.predict(X_test)"
   ]
  },
  {
   "cell_type": "code",
   "execution_count": 85,
   "metadata": {
    "collapsed": false
   },
   "outputs": [
    {
     "data": {
      "text/plain": [
       "0.68085106382978722"
      ]
     },
     "execution_count": 85,
     "metadata": {},
     "output_type": "execute_result"
    }
   ],
   "source": [
    "metrics.precision_score(y_test, y_pred, pos_label=1)"
   ]
  },
  {
   "cell_type": "code",
   "execution_count": 86,
   "metadata": {
    "collapsed": false
   },
   "outputs": [
    {
     "data": {
      "text/plain": [
       "0.17679558011049723"
      ]
     },
     "execution_count": 86,
     "metadata": {},
     "output_type": "execute_result"
    }
   ],
   "source": [
    "metrics.recall_score(y_test, y_pred, pos_label=1)"
   ]
  },
  {
   "cell_type": "code",
   "execution_count": 87,
   "metadata": {
    "collapsed": false
   },
   "outputs": [],
   "source": [
    "y_pred_df = pd.DataFrame(y_pred, index = y_test.index)"
   ]
  },
  {
   "cell_type": "code",
   "execution_count": 95,
   "metadata": {
    "collapsed": true
   },
   "outputs": [],
   "source": [
    "y_pred_df.to_csv('../data/train/mean_arima/y_predict_rf.csv')"
   ]
  },
  {
   "cell_type": "code",
   "execution_count": 96,
   "metadata": {
    "collapsed": false
   },
   "outputs": [
    {
     "data": {
      "text/plain": [
       "0    47\n",
       "dtype: int64"
      ]
     },
     "execution_count": 96,
     "metadata": {},
     "output_type": "execute_result"
    }
   ],
   "source": [
    "y_pred_df[y_pred_df[0] == 1].count()"
   ]
  },
  {
   "cell_type": "code",
   "execution_count": null,
   "metadata": {
    "collapsed": true
   },
   "outputs": [],
   "source": [
    "#######GBDT"
   ]
  },
  {
   "cell_type": "code",
   "execution_count": 52,
   "metadata": {
    "collapsed": false
   },
   "outputs": [
    {
     "data": {
      "image/png": "[encoded data removed]",
      "text/plain": [
       "<matplotlib.figure.Figure at 0xb79fd68>"
      ]
     },
     "metadata": {},
     "output_type": "display_data"
    }
   ],
   "source": [
    "#random_state=0, min_samples_split=20, max_depth=3, learning_rate=0.05, min_samples_leaf=3, n_estimators=50 0.081562\n",
    "learning_gbdt = GradientBoostingClassifier(random_state=0, min_samples_split=20, max_depth=3, learning_rate=0.05, min_samples_leaf=3, n_estimators=50)\n",
    "plot_learning_curve(learning_gbdt, 'gbdt', X_train, y_train, cv=5)\n",
    "plt.show()"
   ]
  },
  {
   "cell_type": "code",
   "execution_count": 53,
   "metadata": {
    "collapsed": false
   },
   "outputs": [
    {
     "data": {
      "text/plain": [
       "GradientBoostingClassifier(criterion='friedman_mse', init=None,\n",
       "              learning_rate=0.05, loss='deviance', max_depth=3,\n",
       "              max_features=None, max_leaf_nodes=None,\n",
       "              min_impurity_split=1e-07, min_samples_leaf=3,\n",
       "              min_samples_split=20, min_weight_fraction_leaf=0.0,\n",
       "              n_estimators=50, presort='auto', random_state=0,\n",
       "              subsample=1.0, verbose=0, warm_start=False)"
      ]
     },
     "execution_count": 53,
     "metadata": {},
     "output_type": "execute_result"
    }
   ],
   "source": [
    "learning_gbdt.fit(X_train, y_train)"
   ]
  },
  {
   "cell_type": "code",
   "execution_count": 54,
   "metadata": {
    "collapsed": false
   },
   "outputs": [
    {
     "data": {
      "text/plain": [
       "0.84899999999999998"
      ]
     },
     "execution_count": 54,
     "metadata": {},
     "output_type": "execute_result"
    }
   ],
   "source": [
    "learning_gbdt.score(X_test, y_test)"
   ]
  },
  {
   "cell_type": "code",
   "execution_count": 55,
   "metadata": {
    "collapsed": false
   },
   "outputs": [],
   "source": [
    "y_pred = learning_gbdt.predict(X_test)"
   ]
  },
  {
   "cell_type": "code",
   "execution_count": 56,
   "metadata": {
    "collapsed": false
   },
   "outputs": [
    {
     "data": {
      "text/plain": [
       "0.86069114470842334"
      ]
     },
     "execution_count": 56,
     "metadata": {},
     "output_type": "execute_result"
    }
   ],
   "source": [
    "metrics.precision_score(y_test, y_pred, pos_label=0)"
   ]
  },
  {
   "cell_type": "code",
   "execution_count": 57,
   "metadata": {
    "collapsed": false
   },
   "outputs": [
    {
     "data": {
      "text/plain": [
       "0.97313797313797312"
      ]
     },
     "execution_count": 57,
     "metadata": {},
     "output_type": "execute_result"
    }
   ],
   "source": [
    "metrics.recall_score(y_test, y_pred, pos_label=0)"
   ]
  },
  {
   "cell_type": "code",
   "execution_count": 58,
   "metadata": {
    "collapsed": false
   },
   "outputs": [],
   "source": [
    "y_pred_df = pd.DataFrame(y_pred, index=y_test.index)"
   ]
  },
  {
   "cell_type": "code",
   "execution_count": 59,
   "metadata": {
    "collapsed": false
   },
   "outputs": [],
   "source": [
    "y_pred_df.to_csv('../data/train/mean_arima/y_predict_gbdt.csv')"
   ]
  },
  {
   "cell_type": "code",
   "execution_count": null,
   "metadata": {
    "collapsed": true
   },
   "outputs": [],
   "source": []
  }
 ],
 "metadata": {
  "anaconda-cloud": {},
  "kernelspec": {
   "display_name": "Python [conda root]",
   "language": "python",
   "name": "conda-root-py"
  },
  "language_info": {
   "codemirror_mode": {
    "name": "ipython",
    "version": 3
   },
   "file_extension": ".py",
   "mimetype": "text/x-python",
   "name": "python",
   "nbconvert_exporter": "python",
   "pygments_lexer": "ipython3",
   "version": "3.5.2"
  }
 },
 "nbformat": 4,
 "nbformat_minor": 1
}
