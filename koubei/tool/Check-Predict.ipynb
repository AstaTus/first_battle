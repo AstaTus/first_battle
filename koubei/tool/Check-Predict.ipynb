{
 "cells": [
  {
   "cell_type": "code",
   "execution_count": 1,
   "metadata": {
    "collapsed": false
   },
   "outputs": [
    {
     "name": "stderr",
     "output_type": "stream",
     "text": [
      "C:\\Program Files\\Anaconda3\\lib\\site-packages\\matplotlib\\__init__.py:1357: UserWarning:  This call to matplotlib.use() has no effect\n",
      "because the backend has already been chosen;\n",
      "matplotlib.use() must be called *before* pylab, matplotlib.pyplot,\n",
      "or matplotlib.backends is imported for the first time.\n",
      "\n",
      "  warnings.warn(_use_error_msg)\n"
     ]
    }
   ],
   "source": [
    "import numpy as np\n",
    "import pandas as pd\n",
    "import matplotlib.pyplot as plt\n",
    "import seaborn as sns\n",
    "from datetime import datetime\n",
    "import datetime\n",
    "import time\n",
    "from sklearn import preprocessing\n",
    "from sys import path\n",
    "path.append(r'E:\\data_mining\\project\\IJCAI-17-口碑\\koubei')\n",
    "import base\n",
    "import predict\n",
    "\n",
    "import matplotlib\n",
    "myfont = matplotlib.font_manager.FontProperties(fname=r'C:/Windows/Fonts/msyh.ttf')\n",
    "matplotlib.use('qt4agg')  \n",
    "#指定默认字体  \n",
    "matplotlib.rcParams['font.sans-serif'] = ['SimHei']   \n",
    "matplotlib.rcParams['font.family']='sans-serif'  \n",
    "#解决负号'-'显示为方块的问题  \n",
    "matplotlib.rcParams['axes.unicode_minus'] = False"
   ]
  },
  {
   "cell_type": "code",
   "execution_count": 2,
   "metadata": {
    "collapsed": true
   },
   "outputs": [],
   "source": [
    "#读取user_pay_count\n",
    "user_pay_counts = base.ReadUserPayCountCSV();\n",
    "#读取开店时间数据\n",
    "shop_open_dates = base.ReadShopOpenDateCSV();\n",
    "###读取商家信息\n",
    "shop_infos = base.ReadShopInfoCSV();\n",
    "##读取城市名称对照表\n",
    "city_names = base.ReadCityNameCSV();\n",
    "#读取休假表\n",
    "calenders = base.ReadCalendarCSV();"
   ]
  },
  {
   "cell_type": "code",
   "execution_count": 3,
   "metadata": {
    "collapsed": false
   },
   "outputs": [],
   "source": [
    "mean_3_3_3_prediction = pd.read_csv('../data/predict/mean/3_3_3_prediction.txt', sep='\\t', index_col=0, encoding='UTF-8')"
   ]
  },
  {
   "cell_type": "code",
   "execution_count": 4,
   "metadata": {
    "collapsed": false
   },
   "outputs": [],
   "source": [
    "arima_prediction = pd.read_csv('../data/predict/arima/arima_prediction.txt', sep='\\t', index_col=0, encoding='UTF-8')\n",
    "arima_prediction = predict.FixFinalPredict(arima_prediction)"
   ]
  },
  {
   "cell_type": "code",
   "execution_count": 5,
   "metadata": {
    "collapsed": true
   },
   "outputs": [],
   "source": [
    "blend_prediction = pd.read_csv('../data/predict/classify_3/blend_prediction.txt', sep='\\t', index_col=0, encoding='UTF-8')"
   ]
  },
  {
   "cell_type": "code",
   "execution_count": 6,
   "metadata": {
    "collapsed": false
   },
   "outputs": [],
   "source": [
    "predictions = [mean_3_3_3_prediction, arima_prediction, blend_prediction]\n",
    "names = ['mean', 'arima','blend']"
   ]
  },
  {
   "cell_type": "code",
   "execution_count": 7,
   "metadata": {
    "collapsed": true
   },
   "outputs": [],
   "source": [
    "def plotShopPayCounts(shop_id, date_range, predicts, names, predict_num):\n",
    "    counts = base.countShopPayTimePeriods(user_pay_counts, shop_id, date_range, [datetime.timedelta(hours=0), datetime.timedelta(hours=23)])\n",
    "    #counts = base.WipeInvalidUserPayCount(counts)\n",
    "    counts['holiday'] = calenders.loc[counts.index.strftime('%Y-%m-%d')]['daytype'].values\n",
    "    info = shop_infos.ix[shop_id]\n",
    "    weathers = base.readWeatherData(city_names.loc[info['city']])\n",
    "    counts['weather'] = weathers.loc[counts.index]['desc'].values\n",
    "    print(counts['count'].values)\n",
    "    counts = counts.reset_index(drop=True)\n",
    "    \n",
    "    train_index = np.array(range(len(counts.index)))\n",
    "    predict_index = np.array(range(len(counts.index), len(counts.index) + predict_num))\n",
    "    mean_index = np.array(range(len(counts.index)- 7, len(counts.index)))\n",
    "    f, (ax) = plt.subplots(1, 1, figsize=(10, 5))\n",
    "    ax.plot(train_index, counts['count'])\n",
    "    \n",
    "    temp = counts[counts['holiday'] == 1]\n",
    "    ax.scatter(temp.index, temp['count'], color='r')\n",
    "    temp = counts[counts['holiday'] == 2]\n",
    "    ax.scatter(temp.index, temp['count'], color='g')\n",
    "    temp = counts[counts['holiday'] == 3]\n",
    "    ax.scatter(temp.index, temp['count'], color='b')\n",
    "    temp = counts[counts['holiday'] == 4]\n",
    "    ax.scatter(temp.index, temp['count'], color='k')\n",
    "    temp = counts[counts['holiday'] == 5]\n",
    "    ax.scatter(temp.index, temp['count'], color='y')\n",
    "    \n",
    "    for i, name in enumerate(names):\n",
    "        ax.plot(predict_index, predicts[i].loc[id], label=name)\n",
    "        #print(\"%s : %s\"%(name, predicts[i].loc[id]))\n",
    "    \n",
    "#     ax.text(left, bottom, 'left top',\n",
    "#         horizontalalignment='left',\n",
    "#         verticalalignment='top',\n",
    "#         transform=ax.transAxes)\n",
    "    \n",
    "    plt.title(info.cate_1_name + ' ' + info.cate_2_name + ('' if info.cate_3_name is None else info.cate_3_name), fontproperties=myfont)\n",
    "    mean_value = np.mean(counts['count'][mean_index])\n",
    "    print('pre_week_mean_value=' + str(mean_value))\n",
    "    ax.axhline(y=mean_value, linewidth=1, color='r')\n",
    "    plt.legend()\n",
    "    plt.show()"
   ]
  },
  {
   "cell_type": "code",
   "execution_count": null,
   "metadata": {
    "collapsed": true
   },
   "outputs": [],
   "source": []
  },
  {
   "cell_type": "code",
   "execution_count": 8,
   "metadata": {
    "collapsed": false
   },
   "outputs": [],
   "source": [
    "diff_prediciton = (mean_3_3_3_prediction.mean(axis=1) - arima_prediction.mean(axis=1))#.sort_values()"
   ]
  },
  {
   "cell_type": "code",
   "execution_count": 9,
   "metadata": {
    "collapsed": true
   },
   "outputs": [],
   "source": [
    "def judgeDiffIntersectType(s):\n",
    "    #不相交 且mean 大于arima\n",
    "    if len(s[s >= 0]) == 14:\n",
    "        return 1\n",
    "    #不相交 且mean 小于arima\n",
    "    elif len(s[s <= 0]) == 14:\n",
    "        return 2\n",
    "    #相交\n",
    "    else:\n",
    "        return 0"
   ]
  },
  {
   "cell_type": "code",
   "execution_count": 9,
   "metadata": {
    "collapsed": false
   },
   "outputs": [
    {
     "data": {
      "text/plain": [
       "2"
      ]
     },
     "execution_count": 9,
     "metadata": {},
     "output_type": "execute_result"
    }
   ],
   "source": [
    "judgeDiffIntersectType(mean_3_3_3_prediction.loc[742] - arima_prediction.loc[742])"
   ]
  },
  {
   "cell_type": "code",
   "execution_count": 289,
   "metadata": {
    "collapsed": false
   },
   "outputs": [
    {
     "data": {
      "text/plain": [
       "825    -187.500000\n",
       "286    -169.000000\n",
       "731    -154.142857\n",
       "1998   -143.285714\n",
       "742    -141.000000\n",
       "1571   -134.285714\n",
       "1350   -129.000000\n",
       "1145   -119.357143\n",
       "1881   -103.285714\n",
       "272    -102.714286\n",
       "1469    -91.071429\n",
       "1269    -86.785714\n",
       "1556    -81.071429\n",
       "700     -80.928571\n",
       "501     -80.142857\n",
       "768     -79.285714\n",
       "407     -78.000000\n",
       "1631    -72.642857\n",
       "428     -69.500000\n",
       "1116    -65.714286\n",
       "88      -64.142857\n",
       "1661    -62.785714\n",
       "1464    -60.571429\n",
       "275     -58.428571\n",
       "23      -57.071429\n",
       "1620    -55.142857\n",
       "489     -52.714286\n",
       "1526    -52.357143\n",
       "1765    -51.357143\n",
       "1925    -50.928571\n",
       "803     -50.500000\n",
       "1759    -49.428571\n",
       "1591    -48.000000\n",
       "1229    -47.428571\n",
       "1462    -45.928571\n",
       "1825    -45.142857\n",
       "835     -43.928571\n",
       "368     -42.714286\n",
       "1295    -42.500000\n",
       "826     -41.928571\n",
       "1060    -40.571429\n",
       "571     -38.714286\n",
       "789     -38.142857\n",
       "1796    -36.857143\n",
       "1610    -36.857143\n",
       "1275    -36.714286\n",
       "1292    -36.714286\n",
       "1383    -34.000000\n",
       "900     -33.500000\n",
       "1465    -33.000000\n",
       "dtype: float64"
      ]
     },
     "execution_count": 289,
     "metadata": {},
     "output_type": "execute_result"
    }
   ],
   "source": [
    "diff_prediciton.sort_values().head(50)"
   ]
  },
  {
   "cell_type": "code",
   "execution_count": 11,
   "metadata": {
    "collapsed": false
   },
   "outputs": [
    {
     "ename": "NameError",
     "evalue": "name 'intersect_df' is not defined",
     "output_type": "error",
     "traceback": [
      "\u001b[0;31m---------------------------------------------------------------------------\u001b[0m",
      "\u001b[0;31mNameError\u001b[0m                                 Traceback (most recent call last)",
      "\u001b[0;32m<ipython-input-11-51a70cf3949e>\u001b[0m in \u001b[0;36m<module>\u001b[0;34m()\u001b[0m\n\u001b[0;32m----> 1\u001b[0;31m \u001b[0mintersect_df\u001b[0m\u001b[1;33m[\u001b[0m\u001b[0mintersect_df\u001b[0m \u001b[1;33m!=\u001b[0m \u001b[1;36m0\u001b[0m\u001b[1;33m]\u001b[0m\u001b[1;33m\u001b[0m\u001b[0m\n\u001b[0m",
      "\u001b[0;31mNameError\u001b[0m: name 'intersect_df' is not defined"
     ]
    }
   ],
   "source": [
    "intersect_df[intersect_df != 0]"
   ]
  },
  {
   "cell_type": "code",
   "execution_count": 81,
   "metadata": {
    "collapsed": true
   },
   "outputs": [],
   "source": [
    "\n",
    "arima_arr = [742,825,286,272,731,1571,1350,1296,1145,1998,1881,1469,1556,407,501,1631,1269,428,308,142,1116,88,1464,275,1925,23,1462,460,1620,5]"
   ]
  },
  {
   "cell_type": "code",
   "execution_count": null,
   "metadata": {
    "collapsed": true
   },
   "outputs": [],
   "source": [
    "arima_arr = [742,825,286,272,1350,1296,1145,1998,1881,1469,1556,407,501,1631,1269,428,308,88,275,1925,23,1462,5]\n",
    "arima_arr2 = [768,489,1526,1765,1591,1229,1825,1295,1060]"
   ]
  },
  {
   "cell_type": "code",
   "execution_count": 115,
   "metadata": {
    "collapsed": true
   },
   "outputs": [],
   "source": [
    "i = 0\n",
    "22 236 253 418 468 473 488 631 699 767 825 1046 1049 1053 1069 1108 1306 1461 1463 1520 1525 1555 1586 1658 1687 1720 1807 1856 1924 1981\t1"
   ]
  },
  {
   "cell_type": "code",
   "execution_count": 10,
   "metadata": {
    "collapsed": false
   },
   "outputs": [],
   "source": [
    "y_test = pd.read_csv('../data/predict/classify_3/y_test_rf.csv', index_col=0, encoding='UTF-8')"
   ]
  },
  {
   "cell_type": "code",
   "execution_count": 12,
   "metadata": {
    "collapsed": false
   },
   "outputs": [],
   "source": [
    "y_test_positive = y_test[y_test['0'] == 0]"
   ]
  },
  {
   "cell_type": "code",
   "execution_count": 13,
   "metadata": {
    "collapsed": false
   },
   "outputs": [
    {
     "data": {
      "text/html": [
       "<div>\n",
       "<table border=\"1\" class=\"dataframe\">\n",
       "  <thead>\n",
       "    <tr style=\"text-align: right;\">\n",
       "      <th></th>\n",
       "      <th>0</th>\n",
       "    </tr>\n",
       "  </thead>\n",
       "  <tbody>\n",
       "    <tr>\n",
       "      <th>1</th>\n",
       "      <td>0</td>\n",
       "    </tr>\n",
       "    <tr>\n",
       "      <th>3</th>\n",
       "      <td>0</td>\n",
       "    </tr>\n",
       "    <tr>\n",
       "      <th>4</th>\n",
       "      <td>0</td>\n",
       "    </tr>\n",
       "    <tr>\n",
       "      <th>5</th>\n",
       "      <td>0</td>\n",
       "    </tr>\n",
       "    <tr>\n",
       "      <th>6</th>\n",
       "      <td>0</td>\n",
       "    </tr>\n",
       "    <tr>\n",
       "      <th>7</th>\n",
       "      <td>0</td>\n",
       "    </tr>\n",
       "    <tr>\n",
       "      <th>8</th>\n",
       "      <td>0</td>\n",
       "    </tr>\n",
       "    <tr>\n",
       "      <th>9</th>\n",
       "      <td>0</td>\n",
       "    </tr>\n",
       "    <tr>\n",
       "      <th>10</th>\n",
       "      <td>0</td>\n",
       "    </tr>\n",
       "    <tr>\n",
       "      <th>11</th>\n",
       "      <td>0</td>\n",
       "    </tr>\n",
       "    <tr>\n",
       "      <th>12</th>\n",
       "      <td>0</td>\n",
       "    </tr>\n",
       "    <tr>\n",
       "      <th>13</th>\n",
       "      <td>0</td>\n",
       "    </tr>\n",
       "    <tr>\n",
       "      <th>14</th>\n",
       "      <td>0</td>\n",
       "    </tr>\n",
       "    <tr>\n",
       "      <th>15</th>\n",
       "      <td>0</td>\n",
       "    </tr>\n",
       "    <tr>\n",
       "      <th>16</th>\n",
       "      <td>0</td>\n",
       "    </tr>\n",
       "    <tr>\n",
       "      <th>17</th>\n",
       "      <td>0</td>\n",
       "    </tr>\n",
       "    <tr>\n",
       "      <th>18</th>\n",
       "      <td>0</td>\n",
       "    </tr>\n",
       "    <tr>\n",
       "      <th>19</th>\n",
       "      <td>0</td>\n",
       "    </tr>\n",
       "    <tr>\n",
       "      <th>20</th>\n",
       "      <td>0</td>\n",
       "    </tr>\n",
       "    <tr>\n",
       "      <th>21</th>\n",
       "      <td>0</td>\n",
       "    </tr>\n",
       "    <tr>\n",
       "      <th>24</th>\n",
       "      <td>0</td>\n",
       "    </tr>\n",
       "    <tr>\n",
       "      <th>25</th>\n",
       "      <td>0</td>\n",
       "    </tr>\n",
       "    <tr>\n",
       "      <th>26</th>\n",
       "      <td>0</td>\n",
       "    </tr>\n",
       "    <tr>\n",
       "      <th>27</th>\n",
       "      <td>0</td>\n",
       "    </tr>\n",
       "    <tr>\n",
       "      <th>28</th>\n",
       "      <td>0</td>\n",
       "    </tr>\n",
       "    <tr>\n",
       "      <th>29</th>\n",
       "      <td>0</td>\n",
       "    </tr>\n",
       "    <tr>\n",
       "      <th>30</th>\n",
       "      <td>0</td>\n",
       "    </tr>\n",
       "    <tr>\n",
       "      <th>31</th>\n",
       "      <td>0</td>\n",
       "    </tr>\n",
       "    <tr>\n",
       "      <th>32</th>\n",
       "      <td>0</td>\n",
       "    </tr>\n",
       "    <tr>\n",
       "      <th>33</th>\n",
       "      <td>0</td>\n",
       "    </tr>\n",
       "    <tr>\n",
       "      <th>...</th>\n",
       "      <td>...</td>\n",
       "    </tr>\n",
       "    <tr>\n",
       "      <th>1965</th>\n",
       "      <td>0</td>\n",
       "    </tr>\n",
       "    <tr>\n",
       "      <th>1966</th>\n",
       "      <td>0</td>\n",
       "    </tr>\n",
       "    <tr>\n",
       "      <th>1967</th>\n",
       "      <td>0</td>\n",
       "    </tr>\n",
       "    <tr>\n",
       "      <th>1968</th>\n",
       "      <td>0</td>\n",
       "    </tr>\n",
       "    <tr>\n",
       "      <th>1970</th>\n",
       "      <td>0</td>\n",
       "    </tr>\n",
       "    <tr>\n",
       "      <th>1971</th>\n",
       "      <td>0</td>\n",
       "    </tr>\n",
       "    <tr>\n",
       "      <th>1972</th>\n",
       "      <td>0</td>\n",
       "    </tr>\n",
       "    <tr>\n",
       "      <th>1974</th>\n",
       "      <td>0</td>\n",
       "    </tr>\n",
       "    <tr>\n",
       "      <th>1975</th>\n",
       "      <td>0</td>\n",
       "    </tr>\n",
       "    <tr>\n",
       "      <th>1976</th>\n",
       "      <td>0</td>\n",
       "    </tr>\n",
       "    <tr>\n",
       "      <th>1977</th>\n",
       "      <td>0</td>\n",
       "    </tr>\n",
       "    <tr>\n",
       "      <th>1978</th>\n",
       "      <td>0</td>\n",
       "    </tr>\n",
       "    <tr>\n",
       "      <th>1979</th>\n",
       "      <td>0</td>\n",
       "    </tr>\n",
       "    <tr>\n",
       "      <th>1980</th>\n",
       "      <td>0</td>\n",
       "    </tr>\n",
       "    <tr>\n",
       "      <th>1981</th>\n",
       "      <td>0</td>\n",
       "    </tr>\n",
       "    <tr>\n",
       "      <th>1985</th>\n",
       "      <td>0</td>\n",
       "    </tr>\n",
       "    <tr>\n",
       "      <th>1986</th>\n",
       "      <td>0</td>\n",
       "    </tr>\n",
       "    <tr>\n",
       "      <th>1987</th>\n",
       "      <td>0</td>\n",
       "    </tr>\n",
       "    <tr>\n",
       "      <th>1988</th>\n",
       "      <td>0</td>\n",
       "    </tr>\n",
       "    <tr>\n",
       "      <th>1989</th>\n",
       "      <td>0</td>\n",
       "    </tr>\n",
       "    <tr>\n",
       "      <th>1990</th>\n",
       "      <td>0</td>\n",
       "    </tr>\n",
       "    <tr>\n",
       "      <th>1991</th>\n",
       "      <td>0</td>\n",
       "    </tr>\n",
       "    <tr>\n",
       "      <th>1992</th>\n",
       "      <td>0</td>\n",
       "    </tr>\n",
       "    <tr>\n",
       "      <th>1993</th>\n",
       "      <td>0</td>\n",
       "    </tr>\n",
       "    <tr>\n",
       "      <th>1994</th>\n",
       "      <td>0</td>\n",
       "    </tr>\n",
       "    <tr>\n",
       "      <th>1995</th>\n",
       "      <td>0</td>\n",
       "    </tr>\n",
       "    <tr>\n",
       "      <th>1997</th>\n",
       "      <td>0</td>\n",
       "    </tr>\n",
       "    <tr>\n",
       "      <th>1998</th>\n",
       "      <td>0</td>\n",
       "    </tr>\n",
       "    <tr>\n",
       "      <th>1999</th>\n",
       "      <td>0</td>\n",
       "    </tr>\n",
       "    <tr>\n",
       "      <th>2000</th>\n",
       "      <td>0</td>\n",
       "    </tr>\n",
       "  </tbody>\n",
       "</table>\n",
       "<p>1658 rows × 1 columns</p>\n",
       "</div>"
      ],
      "text/plain": [
       "      0\n",
       "1     0\n",
       "3     0\n",
       "4     0\n",
       "5     0\n",
       "6     0\n",
       "7     0\n",
       "8     0\n",
       "9     0\n",
       "10    0\n",
       "11    0\n",
       "12    0\n",
       "13    0\n",
       "14    0\n",
       "15    0\n",
       "16    0\n",
       "17    0\n",
       "18    0\n",
       "19    0\n",
       "20    0\n",
       "21    0\n",
       "24    0\n",
       "25    0\n",
       "26    0\n",
       "27    0\n",
       "28    0\n",
       "29    0\n",
       "30    0\n",
       "31    0\n",
       "32    0\n",
       "33    0\n",
       "...  ..\n",
       "1965  0\n",
       "1966  0\n",
       "1967  0\n",
       "1968  0\n",
       "1970  0\n",
       "1971  0\n",
       "1972  0\n",
       "1974  0\n",
       "1975  0\n",
       "1976  0\n",
       "1977  0\n",
       "1978  0\n",
       "1979  0\n",
       "1980  0\n",
       "1981  0\n",
       "1985  0\n",
       "1986  0\n",
       "1987  0\n",
       "1988  0\n",
       "1989  0\n",
       "1990  0\n",
       "1991  0\n",
       "1992  0\n",
       "1993  0\n",
       "1994  0\n",
       "1995  0\n",
       "1997  0\n",
       "1998  0\n",
       "1999  0\n",
       "2000  0\n",
       "\n",
       "[1658 rows x 1 columns]"
      ]
     },
     "execution_count": 13,
     "metadata": {},
     "output_type": "execute_result"
    }
   ],
   "source": [
    "y_test_positive"
   ]
  },
  {
   "cell_type": "code",
   "execution_count": 14,
   "metadata": {
    "collapsed": false
   },
   "outputs": [],
   "source": [
    "i = 0"
   ]
  },
  {
   "cell_type": "code",
   "execution_count": 16,
   "metadata": {
    "collapsed": true
   },
   "outputs": [],
   "source": [
    "id = 1350"
   ]
  },
  {
   "cell_type": "code",
   "execution_count": 29,
   "metadata": {
    "collapsed": false,
    "scrolled": false
   },
   "outputs": [
    {
     "name": "stdout",
     "output_type": "stream",
     "text": [
      "16\n",
      "2016-10-11 00:00:00\n",
      "[41 49 30 69 63 40 42 58 41 43 57 50 67 38 38 39 48 50 38 38 32]\n",
      "pre_week_mean_value=40.42857142857143\n"
     ]
    },
    {
     "data": {
      "image/png": "[encoded data removed]",
      "text/plain": [
       "<matplotlib.figure.Figure at 0xb5a6470>"
      ]
     },
     "metadata": {},
     "output_type": "display_data"
    }
   ],
   "source": [
    "id = y_test_positive.index[i]\n",
    "i = i + 1\n",
    "#id = 1966\n",
    "print(id)\n",
    "#open_time = shop_open_dates.loc[id]['date'];\n",
    "open_time = pd.to_datetime('2016-10-11')\n",
    "start_time = open_time;\n",
    "end_time = pd.to_datetime('2016-10-31')\n",
    "print(open_time)\n",
    "plotShopPayCounts(id, [start_time, end_time], predictions, names, 14)"
   ]
  },
  {
   "cell_type": "code",
   "execution_count": null,
   "metadata": {
    "collapsed": true
   },
   "outputs": [],
   "source": []
  },
  {
   "cell_type": "code",
   "execution_count": null,
   "metadata": {
    "collapsed": true
   },
   "outputs": [],
   "source": []
  }
 ],
 "metadata": {
  "anaconda-cloud": {},
  "kernelspec": {
   "display_name": "Python [conda root]",
   "language": "python",
   "name": "conda-root-py"
  },
  "language_info": {
   "codemirror_mode": {
    "name": "ipython",
    "version": 3
   },
   "file_extension": ".py",
   "mimetype": "text/x-python",
   "name": "python",
   "nbconvert_exporter": "python",
   "pygments_lexer": "ipython3",
   "version": "3.5.2"
  }
 },
 "nbformat": 4,
 "nbformat_minor": 1
}
