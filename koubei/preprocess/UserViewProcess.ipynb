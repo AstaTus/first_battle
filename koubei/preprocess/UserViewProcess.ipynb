{
 "cells": [
  {
   "cell_type": "code",
   "execution_count": 1,
   "metadata": {
    "collapsed": false
   },
   "outputs": [],
   "source": [
    "import numpy as np\n",
    "import pandas as pd\n",
    "from datetime import datetime"
   ]
  },
  {
   "cell_type": "code",
   "execution_count": 2,
   "metadata": {
    "collapsed": true
   },
   "outputs": [],
   "source": [
    "user_view_df = pd.read_csv(\"./data/dataset/dataset/user_view.txt\",encoding='UTF-8', header=None, names=['user_id', 'shop_id', 'date'], parse_dates=[2])\n",
    "extra_user_view_df = pd.read_csv(\"./data/dataset/dataset/extra_user_view/20170112/extra_user_view.txt\",encoding='UTF-8',header=None, names=['user_id', 'shop_id', 'date'], parse_dates=[2])\n",
    "user_view_df = pd.concat([user_view_df, extra_user_view_df])"
   ]
  },
  {
   "cell_type": "code",
   "execution_count": 3,
   "metadata": {
    "collapsed": false
   },
   "outputs": [],
   "source": [
    "grouped = user_view_df.groupby(['shop_id','date'])\n",
    "user_view_df = grouped.count()\n",
    "user_view_df.reset_index(inplace=True)\n",
    "#user_view_count_df = user_view_count_df.set_index('shop_id')\n",
    "user_view_df.rename(columns={'user_id':'count'}, inplace = True)\n",
    "count_pivot = user_view_df.pivot(index='shop_id', columns='date', values='count')\n",
    "count_pivot.columns.name = None"
   ]
  },
  {
   "cell_type": "code",
   "execution_count": 4,
   "metadata": {
    "collapsed": false,
    "scrolled": true
   },
   "outputs": [
    {
     "data": {
      "text/html": [
       "<div>\n",
       "<table border=\"1\" class=\"dataframe\">\n",
       "  <thead>\n",
       "    <tr style=\"text-align: right;\">\n",
       "      <th></th>\n",
       "      <th>2015-06-25 00:00:00</th>\n",
       "      <th>2015-06-25 01:00:00</th>\n",
       "      <th>2015-06-25 02:00:00</th>\n",
       "      <th>2015-06-25 03:00:00</th>\n",
       "      <th>2015-06-25 04:00:00</th>\n",
       "      <th>2015-06-25 05:00:00</th>\n",
       "      <th>2015-06-25 06:00:00</th>\n",
       "      <th>2015-06-25 07:00:00</th>\n",
       "      <th>2015-06-25 08:00:00</th>\n",
       "      <th>2015-06-25 09:00:00</th>\n",
       "      <th>...</th>\n",
       "      <th>2016-10-31 15:00:00</th>\n",
       "      <th>2016-10-31 16:00:00</th>\n",
       "      <th>2016-10-31 17:00:00</th>\n",
       "      <th>2016-10-31 18:00:00</th>\n",
       "      <th>2016-10-31 19:00:00</th>\n",
       "      <th>2016-10-31 20:00:00</th>\n",
       "      <th>2016-10-31 21:00:00</th>\n",
       "      <th>2016-10-31 22:00:00</th>\n",
       "      <th>2016-10-31 23:00:00</th>\n",
       "      <th>2016-11-01 00:00:00</th>\n",
       "    </tr>\n",
       "    <tr>\n",
       "      <th>shop_id</th>\n",
       "      <th></th>\n",
       "      <th></th>\n",
       "      <th></th>\n",
       "      <th></th>\n",
       "      <th></th>\n",
       "      <th></th>\n",
       "      <th></th>\n",
       "      <th></th>\n",
       "      <th></th>\n",
       "      <th></th>\n",
       "      <th></th>\n",
       "      <th></th>\n",
       "      <th></th>\n",
       "      <th></th>\n",
       "      <th></th>\n",
       "      <th></th>\n",
       "      <th></th>\n",
       "      <th></th>\n",
       "      <th></th>\n",
       "      <th></th>\n",
       "      <th></th>\n",
       "    </tr>\n",
       "  </thead>\n",
       "  <tbody>\n",
       "  </tbody>\n",
       "</table>\n",
       "<p>0 rows × 11881 columns</p>\n",
       "</div>"
      ],
      "text/plain": [
       "Empty DataFrame\n",
       "Columns: [2015-06-25 00:00:00, 2015-06-25 01:00:00, 2015-06-25 02:00:00, 2015-06-25 03:00:00, 2015-06-25 04:00:00, 2015-06-25 05:00:00, 2015-06-25 06:00:00, 2015-06-25 07:00:00, 2015-06-25 08:00:00, 2015-06-25 09:00:00, 2015-06-25 10:00:00, 2015-06-25 11:00:00, 2015-06-25 12:00:00, 2015-06-25 13:00:00, 2015-06-25 14:00:00, 2015-06-25 15:00:00, 2015-06-25 16:00:00, 2015-06-25 17:00:00, 2015-06-25 18:00:00, 2015-06-25 19:00:00, 2015-06-25 20:00:00, 2015-06-25 21:00:00, 2015-06-25 22:00:00, 2015-06-25 23:00:00, 2015-06-26 00:00:00, 2015-06-26 01:00:00, 2015-06-26 02:00:00, 2015-06-26 03:00:00, 2015-06-26 04:00:00, 2015-06-26 05:00:00, 2015-06-26 06:00:00, 2015-06-26 07:00:00, 2015-06-26 08:00:00, 2015-06-26 09:00:00, 2015-06-26 10:00:00, 2015-06-26 11:00:00, 2015-06-26 12:00:00, 2015-06-26 13:00:00, 2015-06-26 14:00:00, 2015-06-26 15:00:00, 2015-06-26 16:00:00, 2015-06-26 17:00:00, 2015-06-26 18:00:00, 2015-06-26 19:00:00, 2015-06-26 20:00:00, 2015-06-26 21:00:00, 2015-06-26 22:00:00, 2015-06-26 23:00:00, 2015-06-27 00:00:00, 2015-06-27 01:00:00, 2015-06-27 02:00:00, 2015-06-27 03:00:00, 2015-06-27 04:00:00, 2015-06-27 05:00:00, 2015-06-27 06:00:00, 2015-06-27 07:00:00, 2015-06-27 08:00:00, 2015-06-27 09:00:00, 2015-06-27 10:00:00, 2015-06-27 11:00:00, 2015-06-27 12:00:00, 2015-06-27 13:00:00, 2015-06-27 14:00:00, 2015-06-27 15:00:00, 2015-06-27 16:00:00, 2015-06-27 17:00:00, 2015-06-27 18:00:00, 2015-06-27 19:00:00, 2015-06-27 20:00:00, 2015-06-27 21:00:00, 2015-06-27 22:00:00, 2015-06-27 23:00:00, 2015-06-28 00:00:00, 2015-06-28 01:00:00, 2015-06-28 02:00:00, 2015-06-28 03:00:00, 2015-06-28 04:00:00, 2015-06-28 05:00:00, 2015-06-28 06:00:00, 2015-06-28 07:00:00, 2015-06-28 08:00:00, 2015-06-28 09:00:00, 2015-06-28 10:00:00, 2015-06-28 11:00:00, 2015-06-28 12:00:00, 2015-06-28 13:00:00, 2015-06-28 14:00:00, 2015-06-28 15:00:00, 2015-06-28 16:00:00, 2015-06-28 17:00:00, 2015-06-28 18:00:00, 2015-06-28 19:00:00, 2015-06-28 20:00:00, 2015-06-28 21:00:00, 2015-06-28 22:00:00, 2015-06-28 23:00:00, 2015-06-29 00:00:00, 2015-06-29 01:00:00, 2015-06-29 02:00:00, 2015-06-29 03:00:00, ...]\n",
       "Index: []\n",
       "\n",
       "[0 rows x 11881 columns]"
      ]
     },
     "execution_count": 4,
     "metadata": {},
     "output_type": "execute_result"
    }
   ],
   "source": [
    "time_index=pd.date_range(start='6/25/2015', end='11/1/2016', freq='H')\n",
    "user_view_count_df = pd.DataFrame(data=None, index=None, columns=time_index, dtype=None, copy=False)\n",
    "user_view_count_df.index.name = 'shop_id'\n",
    "user_view_count_df = user_view_count_df.append(count_pivot)"
   ]
  },
  {
   "cell_type": "code",
   "execution_count": 13,
   "metadata": {
    "collapsed": false
   },
   "outputs": [],
   "source": [
    "lack = set(range(1, 2001)) - set(user_view_count_df.index.values)\n",
    "for id in lack:\n",
    "    user_view_count_df.ix[id] = 0"
   ]
  },
  {
   "cell_type": "code",
   "execution_count": 17,
   "metadata": {
    "collapsed": false
   },
   "outputs": [],
   "source": [
    "user_view_count_df = user_view_count_df.fillna(0)\n",
    "user_view_count_df = user_view_count_df.astype(np.int32)\n",
    "user_view_count_df = user_view_count_df.sort_index()"
   ]
  },
  {
   "cell_type": "code",
   "execution_count": 22,
   "metadata": {
    "collapsed": true
   },
   "outputs": [],
   "source": [
    "user_view_count_df.to_csv(\"./data/dataset/dataset/user_view_count.txt\", sep='\\t', index=True, encoding='UTF-8')"
   ]
  },
  {
   "cell_type": "code",
   "execution_count": 21,
   "metadata": {
    "collapsed": false
   },
   "outputs": [],
   "source": []
  },
  {
   "cell_type": "code",
   "execution_count": null,
   "metadata": {
    "collapsed": true
   },
   "outputs": [],
   "source": []
  }
 ],
 "metadata": {
  "kernelspec": {
   "display_name": "Python [conda root]",
   "language": "python",
   "name": "conda-root-py"
  },
  "language_info": {
   "codemirror_mode": {
    "name": "ipython",
    "version": 3
   },
   "file_extension": ".py",
   "mimetype": "text/x-python",
   "name": "python",
   "nbconvert_exporter": "python",
   "pygments_lexer": "ipython3",
   "version": "3.5.2"
  }
 },
 "nbformat": 4,
 "nbformat_minor": 1
}
