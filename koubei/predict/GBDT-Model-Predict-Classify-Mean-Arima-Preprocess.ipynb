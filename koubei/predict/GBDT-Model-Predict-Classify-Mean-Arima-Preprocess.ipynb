{
 "cells": [
  {
   "cell_type": "code",
   "execution_count": 1,
   "metadata": {
    "collapsed": true
   },
   "outputs": [],
   "source": [
    "import numpy as np\n",
    "import pandas as pd\n",
    "import matplotlib.pyplot as plt\n",
    "import seaborn as sns\n",
    "from datetime import datetime\n",
    "import datetime\n",
    "import time\n",
    "from sklearn import preprocessing\n",
    "\n",
    "from sys import path\n",
    "path.append(r'E:\\data_mining\\project\\IJCAI-17-口碑\\koubei')\n",
    "import base\n",
    "import predict"
   ]
  },
  {
   "cell_type": "code",
   "execution_count": 2,
   "metadata": {
    "collapsed": true
   },
   "outputs": [],
   "source": [
    "#读取user_pay_count\n",
    "user_pay_counts = base.ReadUserPayCountCSV();\n",
    "#读取开店时间数据\n",
    "shop_open_dates = base.ReadShopOpenDateCSV();\n",
    "###读取商家信息\n",
    "shop_infos = base.ReadShopInfoCSV();\n",
    "##读取城市名称对照表\n",
    "city_names = base.ReadCityNameCSV();\n",
    "#读取休假表\n",
    "calenders = base.ReadCalendarCSV();"
   ]
  },
  {
   "cell_type": "code",
   "execution_count": 3,
   "metadata": {
    "collapsed": false
   },
   "outputs": [],
   "source": [
    "train_data = pd.read_csv('../data/predict/fill_predict_data.txt', sep='\\t', index_col=0, encoding='UTF-8')\n",
    "train_data.columns = np.array(range(21))"
   ]
  },
  {
   "cell_type": "code",
   "execution_count": 4,
   "metadata": {
    "collapsed": false
   },
   "outputs": [],
   "source": [
    "mean_3_3_3_prediction = pd.read_csv('../data/predict/mean/3_3_3_prediction.txt', sep='\\t', index_col=0, encoding='UTF-8')"
   ]
  },
  {
   "cell_type": "code",
   "execution_count": 5,
   "metadata": {
    "collapsed": true
   },
   "outputs": [],
   "source": [
    "arima_prediction = pd.read_csv('../data/predict/arima/arima_prediction.txt', sep='\\t', index_col=0, encoding='UTF-8')\n",
    "arima_prediction = predict.FixFinalPredict(arima_prediction)"
   ]
  },
  {
   "cell_type": "code",
   "execution_count": 6,
   "metadata": {
    "collapsed": true
   },
   "outputs": [],
   "source": [
    "def judgePredIntersectType(s):\n",
    "    #不相交 且mean 大于arima\n",
    "    if len(s[s >= 0]) == 14:\n",
    "        return 1\n",
    "    #不相交 且mean 小于arima\n",
    "    elif len(s[s <= 0]) == 14:\n",
    "        return 2\n",
    "    #相交\n",
    "    else:\n",
    "        return 0"
   ]
  },
  {
   "cell_type": "code",
   "execution_count": 7,
   "metadata": {
    "collapsed": true
   },
   "outputs": [],
   "source": [
    "def judgeMeanIntersectType(s):\n",
    "    #不相交 且mean 小于pred\n",
    "    if len(s[s >= 0]) == 14:\n",
    "        return 1\n",
    "    #不相交 且mean 大于pred\n",
    "    elif len(s[s <= 0]) == 14:\n",
    "        return 2\n",
    "    #相交\n",
    "    else:\n",
    "        return 0"
   ]
  },
  {
   "cell_type": "code",
   "execution_count": 8,
   "metadata": {
    "collapsed": false
   },
   "outputs": [],
   "source": [
    "train_df = pd.DataFrame()"
   ]
  },
  {
   "cell_type": "code",
   "execution_count": 9,
   "metadata": {
    "collapsed": true
   },
   "outputs": [],
   "source": [
    "intersects = mean_3_3_3_prediction - arima_prediction\n",
    "intersects = intersects.apply(judgePredIntersectType, axis=1)\n",
    "train_df['pred_intersect'] = intersects"
   ]
  },
  {
   "cell_type": "code",
   "execution_count": 10,
   "metadata": {
    "collapsed": true
   },
   "outputs": [],
   "source": [
    "train_df['pre_week_mean'] = train_data[np.array(range(14, 21))].mean(axis=1).astype(np.int)"
   ]
  },
  {
   "cell_type": "code",
   "execution_count": 11,
   "metadata": {
    "collapsed": false
   },
   "outputs": [],
   "source": [
    "intersects = arima_prediction.sub(train_df['pre_week_mean'].squeeze(), axis=0)\n",
    "intersects = intersects.apply(judgeMeanIntersectType, axis=1)\n",
    "train_df['mean_arima_intersect'] = intersects"
   ]
  },
  {
   "cell_type": "code",
   "execution_count": 12,
   "metadata": {
    "collapsed": true
   },
   "outputs": [],
   "source": [
    "intersects = mean_3_3_3_prediction.sub(train_df['pre_week_mean'].squeeze(), axis=0)\n",
    "intersects = intersects.apply(judgeMeanIntersectType, axis=1)\n",
    "train_df['mean_mean_intersect'] = intersects"
   ]
  },
  {
   "cell_type": "code",
   "execution_count": 13,
   "metadata": {
    "collapsed": true
   },
   "outputs": [],
   "source": [
    "X_train_data = train_data[np.array(range(21))]"
   ]
  },
  {
   "cell_type": "code",
   "execution_count": 14,
   "metadata": {
    "collapsed": true
   },
   "outputs": [],
   "source": [
    "X_train_df = pd.DataFrame()\n",
    "X_train_df['max'] = X_train_data.max(axis=1)\n",
    "X_train_df['min'] = X_train_data.min(axis=1)\n",
    "X_train_df['std'] = X_train_data.std(axis=1)\n",
    "X_train_df['var'] = X_train_data.var(axis=1)\n",
    "X_train_df['mean'] = X_train_data.mean(axis=1)\n",
    "X_train_df['median'] = X_train_data.median(axis=1)"
   ]
  },
  {
   "cell_type": "code",
   "execution_count": 15,
   "metadata": {
    "collapsed": true
   },
   "outputs": [],
   "source": [
    "X_train_df['mean_max'] = mean_3_3_3_prediction.max(axis=1)\n",
    "X_train_df['mean_min'] = mean_3_3_3_prediction.min(axis=1)\n",
    "X_train_df['mean_std'] = mean_3_3_3_prediction.std(axis=1)\n",
    "X_train_df['mean_var'] = mean_3_3_3_prediction.var(axis=1)\n",
    "X_train_df['mean_mean'] = mean_3_3_3_prediction.mean(axis=1)\n",
    "X_train_df['mean_median'] = mean_3_3_3_prediction.median(axis=1)\n",
    "\n",
    "X_train_df['arima_max'] = arima_prediction.max(axis=1)\n",
    "X_train_df['arima_min'] = arima_prediction.min(axis=1)\n",
    "X_train_df['arima_std'] = arima_prediction.std(axis=1)\n",
    "X_train_df['arima_var'] = arima_prediction.var(axis=1)\n",
    "X_train_df['arima_mean'] = arima_prediction.mean(axis=1)\n",
    "X_train_df['arima_median'] = arima_prediction.median(axis=1)"
   ]
  },
  {
   "cell_type": "code",
   "execution_count": 16,
   "metadata": {
    "collapsed": true
   },
   "outputs": [],
   "source": [
    "X_train_df['diff_arima_max'] = arima_prediction.max(axis=1) - X_train_data.max(axis=1)\n",
    "X_train_df['diff_arima_min'] = arima_prediction.min(axis=1) - X_train_data.min(axis=1)\n",
    "X_train_df['diff_arima_std'] = arima_prediction.std(axis=1) - X_train_data.std(axis=1)\n",
    "X_train_df['diff_arima_var'] = arima_prediction.var(axis=1)- X_train_data.var(axis=1)\n",
    "X_train_df['diff_arima_mean'] = arima_prediction.mean(axis=1) - X_train_data.mean(axis=1)\n",
    "X_train_df['diff_arima_median'] = arima_prediction.median(axis=1) - X_train_data.median(axis=1)\n",
    "\n",
    "X_train_df['diff_mean_max'] = mean_3_3_3_prediction.max(axis=1) - X_train_data.max(axis=1)\n",
    "X_train_df['diff_mean_min'] = mean_3_3_3_prediction.min(axis=1) - X_train_data.min(axis=1)\n",
    "X_train_df['diff_mean_std'] = mean_3_3_3_prediction.std(axis=1) - X_train_data.std(axis=1)\n",
    "X_train_df['diff_mean_var'] = mean_3_3_3_prediction.var(axis=1) - X_train_data.var(axis=1)\n",
    "X_train_df['diff_mean_mean'] = mean_3_3_3_prediction.mean(axis=1) - X_train_data.mean(axis=1)\n",
    "X_train_df['diff_mean_median'] = mean_3_3_3_prediction.median(axis=1) - X_train_data.median(axis=1)\n",
    "\n",
    "X_train_df['diff_mean_arima_max'] = mean_3_3_3_prediction.max(axis=1) - arima_prediction.max(axis=1)\n",
    "X_train_df['diff_mean_arima_min'] = mean_3_3_3_prediction.min(axis=1) - arima_prediction.min(axis=1)\n",
    "X_train_df['diff_mean_arima_std'] = mean_3_3_3_prediction.std(axis=1) - arima_prediction.std(axis=1)\n",
    "X_train_df['diff_mean_arima_var'] = mean_3_3_3_prediction.var(axis=1) - arima_prediction.var(axis=1)\n",
    "X_train_df['diff_mean_arima_mean'] = mean_3_3_3_prediction.mean(axis=1) - arima_prediction.mean(axis=1)\n",
    "X_train_df['diff_mean_arima_median'] = mean_3_3_3_prediction.median(axis=1) - arima_prediction.median(axis=1)"
   ]
  },
  {
   "cell_type": "code",
   "execution_count": 17,
   "metadata": {
    "collapsed": true
   },
   "outputs": [],
   "source": [
    "X_train_scaled = preprocessing.scale(X_train_df.values)\n",
    "X_train_df = pd.DataFrame(X_train_scaled)\n",
    "X_train_df = X_train_df.set_index(np.array(range(1, 2001)))"
   ]
  },
  {
   "cell_type": "code",
   "execution_count": 18,
   "metadata": {
    "collapsed": true
   },
   "outputs": [],
   "source": [
    "X_train_df = pd.merge(X_train_df,  pd.get_dummies(train_df['pred_intersect'], prefix='pred_intersect').astype(np.int), left_index=True, right_index=True)"
   ]
  },
  {
   "cell_type": "code",
   "execution_count": 19,
   "metadata": {
    "collapsed": true
   },
   "outputs": [],
   "source": [
    "X_train_df = pd.merge(X_train_df,  pd.get_dummies(train_df['mean_arima_intersect'], prefix='mean_arima_intersect').astype(np.int), left_index=True, right_index=True)"
   ]
  },
  {
   "cell_type": "code",
   "execution_count": 20,
   "metadata": {
    "collapsed": true
   },
   "outputs": [],
   "source": [
    "X_train_df = pd.merge(X_train_df,  pd.get_dummies(train_df['mean_mean_intersect'], prefix='mean_mean_intersect').astype(np.int), left_index=True, right_index=True)"
   ]
  },
  {
   "cell_type": "code",
   "execution_count": 21,
   "metadata": {
    "collapsed": true
   },
   "outputs": [],
   "source": [
    "today = datetime.date.today()"
   ]
  },
  {
   "cell_type": "code",
   "execution_count": 33,
   "metadata": {
    "collapsed": true
   },
   "outputs": [],
   "source": [
    "X_train_df.to_csv('../data/predict/mean_arima/X_test' + today.isoformat() + '.csv')"
   ]
  },
  {
   "cell_type": "code",
   "execution_count": null,
   "metadata": {
    "collapsed": true
   },
   "outputs": [],
   "source": []
  }
 ],
 "metadata": {
  "anaconda-cloud": {},
  "kernelspec": {
   "display_name": "Python [conda root]",
   "language": "python",
   "name": "conda-root-py"
  },
  "language_info": {
   "codemirror_mode": {
    "name": "ipython",
    "version": 3
   },
   "file_extension": ".py",
   "mimetype": "text/x-python",
   "name": "python",
   "nbconvert_exporter": "python",
   "pygments_lexer": "ipython3",
   "version": "3.5.2"
  }
 },
 "nbformat": 4,
 "nbformat_minor": 1
}
