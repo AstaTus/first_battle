{
 "cells": [
  {
   "cell_type": "code",
   "execution_count": 1,
   "metadata": {
    "collapsed": true
   },
   "outputs": [],
   "source": [
    "import numpy as np\n",
    "import pandas as pd\n",
    "import matplotlib.pyplot as plt\n",
    "import seaborn as sns\n",
    "from datetime import datetime\n",
    "import datetime\n",
    "import time\n",
    "\n",
    "from sys import path\n",
    "path.append(r'E:\\data_mining\\project\\IJCAI-17-口碑\\koubei')\n",
    "\n",
    "import predict\n",
    "import base\n",
    "import shop_classify as sc\n",
    "\n",
    "%load_ext autoreload\n",
    "%autoreload 2"
   ]
  },
  {
   "cell_type": "code",
   "execution_count": 2,
   "metadata": {
    "collapsed": true
   },
   "outputs": [],
   "source": [
    "mean_3_3_3_prediction = pd.read_csv('../data/predict/3_3_3_prediction.txt', sep='\\t', index_col=0, encoding='UTF-8')"
   ]
  },
  {
   "cell_type": "code",
   "execution_count": 15,
   "metadata": {
    "collapsed": false
   },
   "outputs": [],
   "source": [
    "arima_prediction = pd.read_csv('../data/predict/arima_prediction.txt', sep='\\t', index_col=0, encoding='UTF-8')"
   ]
  },
  {
   "cell_type": "code",
   "execution_count": 16,
   "metadata": {
    "collapsed": false
   },
   "outputs": [],
   "source": [
    "arima_prediction = predict.FixFinalPredict(arima_prediction)"
   ]
  },
  {
   "cell_type": "code",
   "execution_count": 29,
   "metadata": {
    "collapsed": false
   },
   "outputs": [],
   "source": [
    "diff = mean_3_3_3_prediction - arima_prediction\n",
    "diff_mean = diff.mean(axis = 1).sort_values()"
   ]
  },
  {
   "cell_type": "code",
   "execution_count": 37,
   "metadata": {
    "collapsed": false
   },
   "outputs": [
    {
     "data": {
      "text/plain": [
       "51"
      ]
     },
     "execution_count": 37,
     "metadata": {},
     "output_type": "execute_result"
    }
   ],
   "source": [
    "len(diff_mean[abs(diff_mean) > 50])"
   ]
  },
  {
   "cell_type": "code",
   "execution_count": 49,
   "metadata": {
    "collapsed": false
   },
   "outputs": [
    {
     "data": {
      "text/plain": [
       "0     450\n",
       "1     450\n",
       "2     450\n",
       "3     423\n",
       "4     367\n",
       "5     393\n",
       "6     450\n",
       "7     450\n",
       "8     450\n",
       "9     450\n",
       "10    423\n",
       "11    367\n",
       "12    393\n",
       "13    450\n",
       "Name: 115, dtype: int64"
      ]
     },
     "execution_count": 49,
     "metadata": {},
     "output_type": "execute_result"
    }
   ],
   "source": [
    "mean_3_3_3_prediction.loc[115].T"
   ]
  },
  {
   "cell_type": "code",
   "execution_count": 50,
   "metadata": {
    "collapsed": false
   },
   "outputs": [
    {
     "data": {
      "text/plain": [
       "0     327\n",
       "1     333\n",
       "2     338\n",
       "3     343\n",
       "4     346\n",
       "5     349\n",
       "6     351\n",
       "7     353\n",
       "8     354\n",
       "9     355\n",
       "10    356\n",
       "11    357\n",
       "12    357\n",
       "13    358\n",
       "Name: 115, dtype: int64"
      ]
     },
     "execution_count": 50,
     "metadata": {},
     "output_type": "execute_result"
    }
   ],
   "source": [
    "arima_prediction.loc[115].T"
   ]
  },
  {
   "cell_type": "code",
   "execution_count": 41,
   "metadata": {
    "collapsed": false
   },
   "outputs": [
    {
     "data": {
      "text/plain": [
       "742    -205.500000\n",
       "825    -187.500000\n",
       "286    -169.000000\n",
       "272    -159.714286\n",
       "731    -154.142857\n",
       "1571   -134.285714\n",
       "1350   -129.000000\n",
       "1296   -123.357143\n",
       "1145   -119.357143\n",
       "1998   -110.857143\n",
       "1881   -103.285714\n",
       "1469    -91.071429\n",
       "1556    -81.071429\n",
       "407     -78.000000\n",
       "501     -74.928571\n",
       "1631    -72.642857\n",
       "1269    -71.714286\n",
       "428     -69.500000\n",
       "308     -68.142857\n",
       "142     -67.714286\n",
       "1116    -65.714286\n",
       "88      -64.142857\n",
       "1464    -60.785714\n",
       "275     -58.428571\n",
       "1925    -58.142857\n",
       "23      -58.071429\n",
       "1462    -56.857143\n",
       "460     -56.428571\n",
       "1620    -55.142857\n",
       "5       -54.428571\n",
       "           ...    \n",
       "530      37.785714\n",
       "580      40.642857\n",
       "1071     40.857143\n",
       "1704     40.857143\n",
       "1831     42.071429\n",
       "1370     42.142857\n",
       "1898     42.285714\n",
       "656      43.285714\n",
       "313      43.714286\n",
       "452      43.785714\n",
       "810      47.214286\n",
       "1954     47.714286\n",
       "1786     48.142857\n",
       "1818     48.714286\n",
       "297      48.857143\n",
       "1650     50.928571\n",
       "779      51.500000\n",
       "1226     51.500000\n",
       "491      51.642857\n",
       "1535     53.214286\n",
       "512      56.857143\n",
       "1438     57.285714\n",
       "1305     60.142857\n",
       "465      65.928571\n",
       "1465     68.000000\n",
       "58       71.214286\n",
       "1478     74.285714\n",
       "1914     75.714286\n",
       "115      77.785714\n",
       "1707    232.428571\n",
       "dtype: float64"
      ]
     },
     "execution_count": 41,
     "metadata": {},
     "output_type": "execute_result"
    }
   ],
   "source": [
    "diff_mean"
   ]
  },
  {
   "cell_type": "code",
   "execution_count": 32,
   "metadata": {
    "collapsed": false
   },
   "outputs": [],
   "source": [
    "predicts = {}\n",
    "for id in range(1, 2001):\n",
    "    if abs(diff_mean[id]) > 50:\n",
    "        predicts[id] = arima_prediction.loc[id]\n",
    "    else:\n",
    "        predicts[id] = mean_3_3_3_prediction.loc[id]"
   ]
  },
  {
   "cell_type": "code",
   "execution_count": 38,
   "metadata": {
    "collapsed": true
   },
   "outputs": [],
   "source": [
    "blend_df  = pd.DataFrame(predicts)\n",
    "blend_df = blend_df.T\n",
    "blend_df = predict.FixFinalPredict(blend_df)"
   ]
  },
  {
   "cell_type": "code",
   "execution_count": 40,
   "metadata": {
    "collapsed": false
   },
   "outputs": [],
   "source": [
    "blend_df.to_csv(\"../data/predict/3_3_3_AND_arima_predict.csv\", index=True, header=None, encoding='UTF-8')"
   ]
  },
  {
   "cell_type": "code",
   "execution_count": null,
   "metadata": {
    "collapsed": true
   },
   "outputs": [],
   "source": []
  }
 ],
 "metadata": {
  "kernelspec": {
   "display_name": "Python [conda root]",
   "language": "python",
   "name": "conda-root-py"
  },
  "language_info": {
   "codemirror_mode": {
    "name": "ipython",
    "version": 3
   },
   "file_extension": ".py",
   "mimetype": "text/x-python",
   "name": "python",
   "nbconvert_exporter": "python",
   "pygments_lexer": "ipython3",
   "version": "3.5.2"
  }
 },
 "nbformat": 4,
 "nbformat_minor": 1
}
