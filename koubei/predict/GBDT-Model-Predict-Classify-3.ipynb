{
 "cells": [
  {
   "cell_type": "code",
   "execution_count": 1,
   "metadata": {
    "collapsed": false
   },
   "outputs": [],
   "source": [
    "import numpy as np\n",
    "import pandas as pd\n",
    "import matplotlib.pyplot as plt\n",
    "import seaborn as sns\n",
    "from datetime import datetime\n",
    "import datetime\n",
    "import time\n",
    "\n",
    "from sys import path\n",
    "path.append(r'E:\\data_mining\\project\\IJCAI-17-口碑\\koubei')\n",
    "\n",
    "import predict\n",
    "import base\n",
    "import shop_classify as sc\n",
    "\n",
    "%load_ext autoreload\n",
    "%autoreload 2"
   ]
  },
  {
   "cell_type": "code",
   "execution_count": 2,
   "metadata": {
    "collapsed": true
   },
   "outputs": [],
   "source": [
    "from sklearn.ensemble import GradientBoostingClassifier\n",
    "from sklearn.ensemble import RandomForestClassifier\n",
    "from sklearn.model_selection import train_test_split\n",
    "from sklearn.model_selection import GridSearchCV\n",
    "from sklearn.metrics import classification_report\n",
    "from sklearn.model_selection import validation_curve\n",
    "from sklearn.model_selection import learning_curve\n",
    "from sklearn import metrics"
   ]
  },
  {
   "cell_type": "code",
   "execution_count": 3,
   "metadata": {
    "collapsed": true
   },
   "outputs": [],
   "source": [
    "def plot_learning_curve(estimator, title, X, y, ylim=None, cv=None,\n",
    "                        n_jobs=1, train_sizes=np.linspace(.1, 1.0, 5)):\n",
    "    \"\"\"\n",
    "    Generate a simple plot of the test and training learning curve.\n",
    "\n",
    "    Parameters\n",
    "    ----------\n",
    "    estimator : object type that implements the \"fit\" and \"predict\" methods\n",
    "        An object of that type which is cloned for each validation.\n",
    "\n",
    "    title : string\n",
    "        Title for the chart.\n",
    "\n",
    "    X : array-like, shape (n_samples, n_features)\n",
    "        Training vector, where n_samples is the number of samples and\n",
    "        n_features is the number of features.\n",
    "\n",
    "    y : array-like, shape (n_samples) or (n_samples, n_features), optional\n",
    "        Target relative to X for classification or regression;\n",
    "        None for unsupervised learning.\n",
    "\n",
    "    ylim : tuple, shape (ymin, ymax), optional\n",
    "        Defines minimum and maximum yvalues plotted.\n",
    "\n",
    "    cv : int, cross-validation generator or an iterable, optional\n",
    "        Determines the cross-validation splitting strategy.\n",
    "        Possible inputs for cv are:\n",
    "          - None, to use the default 3-fold cross-validation,\n",
    "          - integer, to specify the number of folds.\n",
    "          - An object to be used as a cross-validation generator.\n",
    "          - An iterable yielding train/test splits.\n",
    "\n",
    "        For integer/None inputs, if ``y`` is binary or multiclass,\n",
    "        :class:`StratifiedKFold` used. If the estimator is not a classifier\n",
    "        or if ``y`` is neither binary nor multiclass, :class:`KFold` is used.\n",
    "\n",
    "        Refer :ref:`User Guide <cross_validation>` for the various\n",
    "        cross-validators that can be used here.\n",
    "\n",
    "    n_jobs : integer, optional\n",
    "        Number of jobs to run in parallel (default 1).\n",
    "    \"\"\"\n",
    "    plt.figure()\n",
    "    plt.title(title)\n",
    "    if ylim is not None:\n",
    "        plt.ylim(*ylim)\n",
    "    plt.xlabel(\"Training examples\")\n",
    "    plt.ylabel(\"Score\")\n",
    "    train_sizes, train_scores, test_scores = learning_curve(\n",
    "        estimator, X, y, cv=cv, n_jobs=n_jobs, train_sizes=train_sizes)\n",
    "    train_scores_mean = np.mean(train_scores, axis=1)\n",
    "    train_scores_std = np.std(train_scores, axis=1)\n",
    "    test_scores_mean = np.mean(test_scores, axis=1)\n",
    "    test_scores_std = np.std(test_scores, axis=1)\n",
    "    plt.grid()\n",
    "\n",
    "    plt.fill_between(train_sizes, train_scores_mean - train_scores_std,\n",
    "                     train_scores_mean + train_scores_std, alpha=0.1,\n",
    "                     color=\"r\")\n",
    "    plt.fill_between(train_sizes, test_scores_mean - test_scores_std,\n",
    "                     test_scores_mean + test_scores_std, alpha=0.1, color=\"g\")\n",
    "    plt.plot(train_sizes, train_scores_mean, 'o-', color=\"r\",\n",
    "             label=\"Training score\")\n",
    "    plt.plot(train_sizes, test_scores_mean, 'o-', color=\"g\",\n",
    "             label=\"Cross-validation score\")\n",
    "\n",
    "    plt.legend(loc=\"best\")\n",
    "    return plt"
   ]
  },
  {
   "cell_type": "code",
   "execution_count": null,
   "metadata": {
    "collapsed": true
   },
   "outputs": [],
   "source": []
  },
  {
   "cell_type": "code",
   "execution_count": 9,
   "metadata": {
    "collapsed": false
   },
   "outputs": [
    {
     "ename": "NameError",
     "evalue": "name 'X_train' is not defined",
     "output_type": "error",
     "traceback": [
      "\u001b[0;31m---------------------------------------------------------------------------\u001b[0m",
      "\u001b[0;31mNameError\u001b[0m                                 Traceback (most recent call last)",
      "\u001b[0;32m<ipython-input-9-e67bda084c71>\u001b[0m in \u001b[0;36m<module>\u001b[0;34m()\u001b[0m\n\u001b[1;32m      6\u001b[0m \u001b[1;33m\u001b[0m\u001b[0m\n\u001b[1;32m      7\u001b[0m \u001b[0mclf\u001b[0m \u001b[1;33m=\u001b[0m \u001b[0mGridSearchCV\u001b[0m\u001b[1;33m(\u001b[0m\u001b[0mrf\u001b[0m\u001b[1;33m,\u001b[0m \u001b[0mtuned_parameters\u001b[0m\u001b[1;33m,\u001b[0m \u001b[0mcv\u001b[0m\u001b[1;33m=\u001b[0m\u001b[1;36m4\u001b[0m\u001b[1;33m,\u001b[0m \u001b[0mscoring\u001b[0m\u001b[1;33m=\u001b[0m\u001b[1;34m'recall'\u001b[0m\u001b[1;33m)\u001b[0m\u001b[1;33m\u001b[0m\u001b[0m\n\u001b[0;32m----> 8\u001b[0;31m \u001b[0mclf\u001b[0m\u001b[1;33m.\u001b[0m\u001b[0mfit\u001b[0m\u001b[1;33m(\u001b[0m\u001b[0mX_train\u001b[0m\u001b[1;33m,\u001b[0m \u001b[0my_train\u001b[0m\u001b[1;33m)\u001b[0m\u001b[1;33m\u001b[0m\u001b[0m\n\u001b[0m\u001b[1;32m      9\u001b[0m \u001b[1;33m\u001b[0m\u001b[0m\n\u001b[1;32m     10\u001b[0m \u001b[0mprint\u001b[0m\u001b[1;33m(\u001b[0m\u001b[1;34m\"Best parameters set found on development set:\"\u001b[0m\u001b[1;33m)\u001b[0m\u001b[1;33m\u001b[0m\u001b[0m\n",
      "\u001b[0;31mNameError\u001b[0m: name 'X_train' is not defined"
     ]
    }
   ],
   "source": [
    "#'learning_rate':[0.03, 0.05, 0.07], \n",
    "tuned_parameters = {'n_estimators': [50, 60, 70], 'min_samples_split': [7, 10, 13], 'min_samples_leaf': [5, 7, 9], 'max_depth': [3,4,5]}\n",
    "\n",
    "\n",
    "rf = RandomForestClassifier(random_state=0)\n",
    "\n",
    "clf = GridSearchCV(rf, tuned_parameters, cv=4, scoring='recall')\n",
    "clf.fit(X_train, y_train)\n",
    "\n",
    "print(\"Best parameters set found on development set:\")\n",
    "print()\n",
    "print(clf.best_params_)\n",
    "print()\n",
    "print(\"Grid scores on development set:\")\n",
    "print()\n",
    "means = clf.cv_results_['mean_test_score']\n",
    "stds = clf.cv_results_['std_test_score']\n",
    "for mean, std, params in zip(means, stds, clf.cv_results_['params']):\n",
    "    print(\"%0.3f (+/-%0.03f) for %r\"\n",
    "          % (mean, std * 2, params))\n",
    "\n",
    "y_true, y_pred = y_test, clf.predict(X_test)\n",
    "print(classification_report(y_true, y_pred))\n",
    "print()"
   ]
  },
  {
   "cell_type": "code",
   "execution_count": null,
   "metadata": {
    "collapsed": true
   },
   "outputs": [],
   "source": []
  },
  {
   "cell_type": "code",
   "execution_count": 4,
   "metadata": {
    "collapsed": false
   },
   "outputs": [],
   "source": [
    "mean_3_3_3_prediction = pd.read_csv('../data/predict/mean/3_3_3_prediction.txt', sep='\\t', index_col=0, encoding='UTF-8')\n",
    "blend_prediction = pd.read_csv('../data/predict/classify_3/blend_prediction.txt', sep='\\t', index_col=0, encoding='UTF-8')\n",
    "arima_prediction = pd.read_csv('../data/predict/arima/arima_prediction.txt', sep='\\t', index_col=0, encoding='UTF-8')"
   ]
  },
  {
   "cell_type": "code",
   "execution_count": 5,
   "metadata": {
    "collapsed": false
   },
   "outputs": [],
   "source": [
    "#读取训练集\n",
    "X_train_df = pd.read_csv(\"../data/train/classify_3/X_train.csv\", index_col=0)\n",
    "y_train_df = pd.read_csv(\"../data/train/classify_3/y_train.csv\", index_col=0)"
   ]
  },
  {
   "cell_type": "code",
   "execution_count": 6,
   "metadata": {
    "collapsed": true
   },
   "outputs": [],
   "source": [
    "today = datetime.date.today()\n",
    "X_test = pd.read_csv(\"../data/predict/classify_3/X_test.csv\", index_col=0)"
   ]
  },
  {
   "cell_type": "code",
   "execution_count": 7,
   "metadata": {
    "collapsed": false
   },
   "outputs": [],
   "source": [
    "# Split the dataset in two equal parts\n",
    "X_train, X_validation, y_train, y_validation = train_test_split(X_train_df, y_train_df['type'], random_state=1, test_size=0.25)"
   ]
  },
  {
   "cell_type": "code",
   "execution_count": 8,
   "metadata": {
    "collapsed": true
   },
   "outputs": [],
   "source": [
    "#######rRF"
   ]
  },
  {
   "cell_type": "code",
   "execution_count": 12,
   "metadata": {
    "collapsed": false
   },
   "outputs": [
    {
     "data": {
      "image/png": "[encoded data removed]",
      "text/plain": [
       "<matplotlib.figure.Figure at 0xb7fbb38>"
      ]
     },
     "metadata": {},
     "output_type": "display_data"
    }
   ],
   "source": [
    "\n",
    "#An_estimators=60, max_depth=5, min_samples_split=13, min_samples_leaf=5, n_jobs=2, random_state=0, class_weight=None\n",
    "rf_classifier = RandomForestClassifier(\n",
    "    n_estimators=200, max_depth=6, min_samples_split=30, min_samples_leaf=15, n_jobs=2, random_state=0, class_weight=None)\n",
    "plot_learning_curve(rf_classifier, 'rf', X_train, y_train, cv=5)\n",
    "plt.show()"
   ]
  },
  {
   "cell_type": "code",
   "execution_count": 21,
   "metadata": {
    "collapsed": false
   },
   "outputs": [
    {
     "data": {
      "text/plain": [
       "RandomForestClassifier(bootstrap=True, class_weight=None, criterion='gini',\n",
       "            max_depth=5, max_features='auto', max_leaf_nodes=None,\n",
       "            min_impurity_split=1e-07, min_samples_leaf=5,\n",
       "            min_samples_split=13, min_weight_fraction_leaf=0.0,\n",
       "            n_estimators=60, n_jobs=2, oob_score=False, random_state=0,\n",
       "            verbose=0, warm_start=False)"
      ]
     },
     "execution_count": 21,
     "metadata": {},
     "output_type": "execute_result"
    }
   ],
   "source": [
    "rf_classifier.fit(X_train, y_train)"
   ]
  },
  {
   "cell_type": "code",
   "execution_count": 22,
   "metadata": {
    "collapsed": false
   },
   "outputs": [
    {
     "data": {
      "text/plain": [
       "0.76000000000000001"
      ]
     },
     "execution_count": 22,
     "metadata": {},
     "output_type": "execute_result"
    }
   ],
   "source": [
    "rf_classifier.score(X_validation, y_validation)"
   ]
  },
  {
   "cell_type": "code",
   "execution_count": 23,
   "metadata": {
    "collapsed": true
   },
   "outputs": [],
   "source": [
    "y_pred = rf_classifier.predict(X_validation)"
   ]
  },
  {
   "cell_type": "code",
   "execution_count": 24,
   "metadata": {
    "collapsed": false
   },
   "outputs": [
    {
     "data": {
      "text/plain": [
       "0.77014218009478674"
      ]
     },
     "execution_count": 24,
     "metadata": {},
     "output_type": "execute_result"
    }
   ],
   "source": [
    "metrics.precision_score(y_validation, y_pred, pos_label=0)"
   ]
  },
  {
   "cell_type": "code",
   "execution_count": 25,
   "metadata": {
    "collapsed": false
   },
   "outputs": [
    {
     "data": {
      "text/plain": [
       "0.93390804597701149"
      ]
     },
     "execution_count": 25,
     "metadata": {},
     "output_type": "execute_result"
    }
   ],
   "source": [
    "metrics.recall_score(y_validation, y_pred, pos_label=0)"
   ]
  },
  {
   "cell_type": "code",
   "execution_count": 26,
   "metadata": {
    "collapsed": false
   },
   "outputs": [
    {
     "data": {
      "text/plain": [
       "0.70512820512820518"
      ]
     },
     "execution_count": 26,
     "metadata": {},
     "output_type": "execute_result"
    }
   ],
   "source": [
    "metrics.precision_score(y_validation, y_pred, pos_label=1)"
   ]
  },
  {
   "cell_type": "code",
   "execution_count": 27,
   "metadata": {
    "collapsed": false
   },
   "outputs": [
    {
     "data": {
      "text/plain": [
       "0.36184210526315791"
      ]
     },
     "execution_count": 27,
     "metadata": {},
     "output_type": "execute_result"
    }
   ],
   "source": [
    "metrics.recall_score(y_validation, y_pred, pos_label=1)"
   ]
  },
  {
   "cell_type": "code",
   "execution_count": 28,
   "metadata": {
    "collapsed": false
   },
   "outputs": [
    {
     "data": {
      "text/plain": [
       "0    78\n",
       "dtype: int64"
      ]
     },
     "execution_count": 28,
     "metadata": {},
     "output_type": "execute_result"
    }
   ],
   "source": [
    "y_pred_df = pd.DataFrame(y_pred, index=y_validation.index)\n",
    "y_pred_df[y_pred_df[0] == 1].count()"
   ]
  },
  {
   "cell_type": "code",
   "execution_count": 29,
   "metadata": {
    "collapsed": true
   },
   "outputs": [],
   "source": [
    "y_pred_df.to_csv('../data/train/classify_3/y_predict_rf.csv')"
   ]
  },
  {
   "cell_type": "code",
   "execution_count": 30,
   "metadata": {
    "collapsed": false
   },
   "outputs": [],
   "source": [
    "y_test = rf_classifier.predict(X_test)\n",
    "y_test_df = pd.DataFrame(y_test)\n",
    "y_test_df = y_test_df.set_index(np.array(range(1, 2001)))"
   ]
  },
  {
   "cell_type": "code",
   "execution_count": 31,
   "metadata": {
    "collapsed": false
   },
   "outputs": [
    {
     "data": {
      "text/plain": [
       "0    342\n",
       "dtype: int64"
      ]
     },
     "execution_count": 31,
     "metadata": {},
     "output_type": "execute_result"
    }
   ],
   "source": [
    "y_test_df[y_test_df[0] == 1].count()"
   ]
  },
  {
   "cell_type": "code",
   "execution_count": 32,
   "metadata": {
    "collapsed": false
   },
   "outputs": [],
   "source": [
    "y_test_df.to_csv('../data/predict/classify_3/y_test_rf.csv')"
   ]
  },
  {
   "cell_type": "code",
   "execution_count": 57,
   "metadata": {
    "collapsed": true
   },
   "outputs": [],
   "source": [
    "manual_y_test_df = y_test_df"
   ]
  },
  {
   "cell_type": "code",
   "execution_count": 55,
   "metadata": {
    "collapsed": true
   },
   "outputs": [],
   "source": [
    "manual_mean_arr = [810, 1016, 1086, 1543, 1749]"
   ]
  },
  {
   "cell_type": "code",
   "execution_count": 56,
   "metadata": {
    "collapsed": true
   },
   "outputs": [],
   "source": [
    "manual_arima_arr = [23, 75, 81, 96, 599, 603, 625, 632, 633, 641, 680, 684, 685, 693, 708, 733, 742, 750, 768, 826, 835, \n",
    "                    841, 908, 912, 921, 1047, 1054, 1060, 1097, 1099, 1122, 1136, 1145, 1154, 1179, 1350, 1240, 1295, 1307, \n",
    "                    1319, 1463, 1526, 1545, 1552, 1556, 1569, 1587, 1632, 1636, 1659, 1808, 1857, 1870, 1896, 1918, \n",
    "                    1925, 1933, 1973, 1982]"
   ]
  },
  {
   "cell_type": "code",
   "execution_count": 62,
   "metadata": {
    "collapsed": false
   },
   "outputs": [],
   "source": [
    "manual_y_test.loc[manual_mean_arr] = 0\n",
    "manual_y_test.loc[manual_arima_arr] = 2"
   ]
  },
  {
   "cell_type": "code",
   "execution_count": 61,
   "metadata": {
    "collapsed": false
   },
   "outputs": [
    {
     "data": {
      "text/plain": [
       "0    0\n",
       "Name: 1543, dtype: int64"
      ]
     },
     "execution_count": 61,
     "metadata": {},
     "output_type": "execute_result"
    }
   ],
   "source": [
    "manual_y_test.loc[1543]"
   ]
  },
  {
   "cell_type": "code",
   "execution_count": 65,
   "metadata": {
    "collapsed": true
   },
   "outputs": [],
   "source": [
    "combine_prediction = {}\n",
    "for id in range(1, 2001):\n",
    "    if y_test_df.loc[id].values == 0:\n",
    "        combine_prediction[id] = mean_3_3_3_prediction.loc[id].values;\n",
    "    elif y_test_df.loc[id].values == 1:\n",
    "        combine_prediction[id] = blend_prediction.loc[id].values;\n",
    "    elif y_test_df.loc[id].values == 2:\n",
    "        combine_prediction[id] = arima_prediction.loc[id].values;\n",
    "        \n",
    "combine_prediction = pd.DataFrame.from_dict(combine_prediction, orient='index')"
   ]
  },
  {
   "cell_type": "code",
   "execution_count": 33,
   "metadata": {
    "collapsed": false
   },
   "outputs": [
    {
     "name": "stdout",
     "output_type": "stream",
     "text": [
      "2\n",
      "22\n",
      "23\n",
      "55\n",
      "64\n",
      "68\n",
      "75\n",
      "76\n",
      "78\n",
      "81\n",
      "96\n",
      "99\n",
      "103\n",
      "109\n",
      "123\n",
      "125\n",
      "126\n",
      "130\n",
      "131\n",
      "143\n",
      "150\n",
      "155\n",
      "167\n",
      "170\n",
      "178\n",
      "184\n",
      "185\n",
      "190\n",
      "203\n",
      "216\n",
      "219\n",
      "222\n",
      "230\n",
      "232\n",
      "236\n",
      "237\n",
      "238\n",
      "254\n",
      "257\n",
      "259\n",
      "265\n",
      "267\n",
      "270\n",
      "274\n",
      "276\n",
      "281\n",
      "290\n",
      "308\n",
      "319\n",
      "326\n",
      "327\n",
      "329\n",
      "340\n",
      "343\n",
      "347\n",
      "354\n",
      "357\n",
      "363\n",
      "364\n",
      "374\n",
      "381\n",
      "384\n",
      "387\n",
      "393\n",
      "394\n",
      "407\n",
      "411\n",
      "419\n",
      "420\n",
      "422\n",
      "428\n",
      "436\n",
      "440\n",
      "445\n",
      "454\n",
      "461\n",
      "465\n",
      "469\n",
      "474\n",
      "483\n",
      "484\n",
      "487\n",
      "488\n",
      "489\n",
      "490\n",
      "492\n",
      "498\n",
      "501\n",
      "510\n",
      "512\n",
      "520\n",
      "540\n",
      "549\n",
      "550\n",
      "556\n",
      "573\n",
      "581\n",
      "586\n",
      "589\n",
      "599\n",
      "603\n",
      "625\n",
      "626\n",
      "627\n",
      "632\n",
      "633\n",
      "635\n",
      "636\n",
      "641\n",
      "643\n",
      "659\n",
      "660\n",
      "661\n",
      "669\n",
      "680\n",
      "683\n",
      "684\n",
      "685\n",
      "687\n",
      "690\n",
      "693\n",
      "698\n",
      "700\n",
      "706\n",
      "707\n",
      "708\n",
      "718\n",
      "733\n",
      "735\n",
      "739\n",
      "741\n",
      "742\n",
      "750\n",
      "758\n",
      "759\n",
      "761\n",
      "763\n",
      "768\n",
      "774\n",
      "784\n",
      "794\n",
      "807\n",
      "810\n",
      "811\n",
      "813\n",
      "821\n",
      "823\n",
      "826\n",
      "828\n",
      "832\n",
      "835\n",
      "841\n",
      "845\n",
      "861\n",
      "878\n",
      "880\n",
      "891\n",
      "908\n",
      "912\n",
      "920\n",
      "921\n",
      "927\n",
      "930\n",
      "947\n",
      "956\n",
      "963\n",
      "969\n",
      "983\n",
      "993\n",
      "996\n",
      "1003\n",
      "1010\n",
      "1016\n",
      "1024\n",
      "1039\n",
      "1040\n",
      "1046\n",
      "1047\n",
      "1048\n",
      "1050\n",
      "1053\n",
      "1054\n",
      "1058\n",
      "1060\n",
      "1064\n",
      "1070\n",
      "1075\n",
      "1078\n",
      "1079\n",
      "1080\n",
      "1086\n",
      "1091\n",
      "1096\n",
      "1097\n",
      "1099\n",
      "1103\n",
      "1105\n",
      "1106\n",
      "1111\n",
      "1120\n",
      "1122\n",
      "1125\n",
      "1132\n",
      "1136\n",
      "1137\n",
      "1138\n",
      "1144\n",
      "1145\n",
      "1154\n",
      "1169\n",
      "1179\n",
      "1192\n",
      "1194\n",
      "1198\n",
      "1200\n",
      "1206\n",
      "1232\n",
      "1237\n",
      "1239\n",
      "1240\n",
      "1243\n",
      "1259\n",
      "1260\n",
      "1262\n",
      "1269\n",
      "1282\n",
      "1290\n",
      "1295\n",
      "1300\n",
      "1305\n",
      "1307\n",
      "1319\n",
      "1330\n",
      "1333\n",
      "1334\n",
      "1336\n",
      "1347\n",
      "1367\n",
      "1382\n",
      "1385\n",
      "1386\n",
      "1400\n",
      "1401\n",
      "1405\n",
      "1408\n",
      "1425\n",
      "1433\n",
      "1437\n",
      "1439\n",
      "1441\n",
      "1442\n",
      "1448\n",
      "1451\n",
      "1454\n",
      "1457\n",
      "1462\n",
      "1463\n",
      "1464\n",
      "1466\n",
      "1474\n",
      "1480\n",
      "1481\n",
      "1482\n",
      "1488\n",
      "1492\n",
      "1503\n",
      "1510\n",
      "1511\n",
      "1513\n",
      "1526\n",
      "1543\n",
      "1545\n",
      "1547\n",
      "1548\n",
      "1550\n",
      "1552\n",
      "1556\n",
      "1569\n",
      "1574\n",
      "1587\n",
      "1588\n",
      "1592\n",
      "1598\n",
      "1600\n",
      "1607\n",
      "1609\n",
      "1621\n",
      "1622\n",
      "1627\n",
      "1631\n",
      "1632\n",
      "1634\n",
      "1636\n",
      "1651\n",
      "1657\n",
      "1659\n",
      "1663\n",
      "1665\n",
      "1674\n",
      "1688\n",
      "1701\n",
      "1705\n",
      "1715\n",
      "1721\n",
      "1731\n",
      "1734\n",
      "1749\n",
      "1755\n",
      "1765\n",
      "1766\n",
      "1772\n",
      "1788\n",
      "1792\n",
      "1793\n",
      "1802\n",
      "1803\n",
      "1808\n",
      "1809\n",
      "1812\n",
      "1816\n",
      "1822\n",
      "1847\n",
      "1849\n",
      "1850\n",
      "1857\n",
      "1870\n",
      "1889\n",
      "1891\n",
      "1896\n",
      "1918\n",
      "1919\n",
      "1925\n",
      "1933\n",
      "1956\n",
      "1960\n",
      "1962\n",
      "1969\n",
      "1973\n",
      "1982\n",
      "1983\n",
      "1984\n",
      "1996\n"
     ]
    }
   ],
   "source": [
    "combine_prediction = {}\n",
    "for id in range(1, 2001):\n",
    "    if y_test_df.loc[id].values == 0:\n",
    "        combine_prediction[id] = mean_3_3_3_prediction.loc[id].values;\n",
    "    else:\n",
    "        print(id)\n",
    "        combine_prediction[id] = blend_prediction.loc[id].values;\n",
    "        \n",
    "combine_prediction = pd.DataFrame.from_dict(combine_prediction, orient='index')"
   ]
  },
  {
   "cell_type": "code",
   "execution_count": 66,
   "metadata": {
    "collapsed": true
   },
   "outputs": [],
   "source": [
    "combine_prediction = predict.FixFinalPredict(combine_prediction)"
   ]
  },
  {
   "cell_type": "code",
   "execution_count": 67,
   "metadata": {
    "collapsed": false
   },
   "outputs": [],
   "source": [
    "combine_prediction.to_csv('../data/predict/classify_3/prediction_rf_342_0_75_A_M' + today.isoformat() + '.csv', index=True, header=None, encoding='UTF-8')"
   ]
  },
  {
   "cell_type": "code",
   "execution_count": null,
   "metadata": {
    "collapsed": true
   },
   "outputs": [],
   "source": []
  },
  {
   "cell_type": "code",
   "execution_count": null,
   "metadata": {
    "collapsed": true
   },
   "outputs": [],
   "source": [
    "#######GBDT"
   ]
  },
  {
   "cell_type": "code",
   "execution_count": 36,
   "metadata": {
    "collapsed": false
   },
   "outputs": [
    {
     "data": {
      "image/png": "[encoded data removed]",
      "text/plain": [
       "<matplotlib.figure.Figure at 0xb474240>"
      ]
     },
     "metadata": {},
     "output_type": "display_data"
    }
   ],
   "source": [
    "#A(random_state=0, min_samples_split=20, max_depth=3, learning_rate=0.07, min_samples_leaf=6, n_estimators=40) 0.0847\n",
    "#B(random_state=0, min_samples_split=25, max_depth=4, learning_rate=0.07, min_samples_leaf=6, n_estimators=20)0.0841\n",
    "#C(random_state=0, min_samples_split=13, max_depth=3, learning_rate=0.07, min_samples_leaf=6, n_estimators=60)\n",
    "learning_gbdt = GradientBoostingClassifier(random_state=0, min_samples_split=20, max_depth=3, learning_rate=0.07, min_samples_leaf=6, n_estimators=50)\n",
    "plot_learning_curve(learning_gbdt, 'gbdt', X_train, y_train, cv=5)\n",
    "plt.show()"
   ]
  },
  {
   "cell_type": "code",
   "execution_count": 37,
   "metadata": {
    "collapsed": false
   },
   "outputs": [
    {
     "data": {
      "text/plain": [
       "GradientBoostingClassifier(criterion='friedman_mse', init=None,\n",
       "              learning_rate=0.07, loss='deviance', max_depth=3,\n",
       "              max_features=None, max_leaf_nodes=None,\n",
       "              min_impurity_split=1e-07, min_samples_leaf=6,\n",
       "              min_samples_split=20, min_weight_fraction_leaf=0.0,\n",
       "              n_estimators=50, presort='auto', random_state=0,\n",
       "              subsample=1.0, verbose=0, warm_start=False)"
      ]
     },
     "execution_count": 37,
     "metadata": {},
     "output_type": "execute_result"
    }
   ],
   "source": [
    "learning_gbdt.fit(X_train, y_train)"
   ]
  },
  {
   "cell_type": "code",
   "execution_count": 38,
   "metadata": {
    "collapsed": false
   },
   "outputs": [
    {
     "data": {
      "text/plain": [
       "0.752"
      ]
     },
     "execution_count": 38,
     "metadata": {},
     "output_type": "execute_result"
    }
   ],
   "source": [
    "learning_gbdt.score(X_validation, y_validation)"
   ]
  },
  {
   "cell_type": "code",
   "execution_count": 39,
   "metadata": {
    "collapsed": false
   },
   "outputs": [
    {
     "data": {
      "text/plain": [
       "0.77014218009478674"
      ]
     },
     "execution_count": 39,
     "metadata": {},
     "output_type": "execute_result"
    }
   ],
   "source": [
    "metrics.precision_score(y_validation, y_pred, pos_label=0)"
   ]
  },
  {
   "cell_type": "code",
   "execution_count": 40,
   "metadata": {
    "collapsed": false
   },
   "outputs": [
    {
     "data": {
      "text/plain": [
       "0.93390804597701149"
      ]
     },
     "execution_count": 40,
     "metadata": {},
     "output_type": "execute_result"
    }
   ],
   "source": [
    "metrics.recall_score(y_validation, y_pred, pos_label=0)"
   ]
  },
  {
   "cell_type": "code",
   "execution_count": 41,
   "metadata": {
    "collapsed": false
   },
   "outputs": [
    {
     "data": {
      "text/plain": [
       "0.70512820512820518"
      ]
     },
     "execution_count": 41,
     "metadata": {},
     "output_type": "execute_result"
    }
   ],
   "source": [
    "metrics.precision_score(y_validation, y_pred, pos_label=1)"
   ]
  },
  {
   "cell_type": "code",
   "execution_count": 42,
   "metadata": {
    "collapsed": false
   },
   "outputs": [
    {
     "data": {
      "text/plain": [
       "0.36184210526315791"
      ]
     },
     "execution_count": 42,
     "metadata": {},
     "output_type": "execute_result"
    }
   ],
   "source": [
    "metrics.recall_score(y_validation, y_pred, pos_label=1)"
   ]
  },
  {
   "cell_type": "code",
   "execution_count": 43,
   "metadata": {
    "collapsed": false
   },
   "outputs": [],
   "source": [
    "y_pred = learning_gbdt.predict(X_validation)"
   ]
  },
  {
   "cell_type": "code",
   "execution_count": 44,
   "metadata": {
    "collapsed": false
   },
   "outputs": [
    {
     "data": {
      "text/plain": [
       "0    90\n",
       "dtype: int64"
      ]
     },
     "execution_count": 44,
     "metadata": {},
     "output_type": "execute_result"
    }
   ],
   "source": [
    "y_pred_df = pd.DataFrame(y_pred, index=y_validation.index)\n",
    "y_pred_df[y_pred_df[0] == 1].count()"
   ]
  },
  {
   "cell_type": "code",
   "execution_count": 45,
   "metadata": {
    "collapsed": true
   },
   "outputs": [],
   "source": [
    "y_pred_df.to_csv('../data/train/classify_3/y_predict_gbdt.csv')"
   ]
  },
  {
   "cell_type": "code",
   "execution_count": 46,
   "metadata": {
    "collapsed": true
   },
   "outputs": [],
   "source": [
    "X_test = pd.read_csv(\"../data/predict/classify_3/X_test.csv\", index_col=0)"
   ]
  },
  {
   "cell_type": "code",
   "execution_count": null,
   "metadata": {
    "collapsed": true
   },
   "outputs": [],
   "source": []
  },
  {
   "cell_type": "code",
   "execution_count": 47,
   "metadata": {
    "collapsed": false
   },
   "outputs": [],
   "source": [
    "y_test = learning_gbdt.predict(X_test)\n",
    "y_test_df = pd.DataFrame(y_test)\n",
    "y_test_df = y_test_df.set_index(np.array(range(1, 2001)))"
   ]
  },
  {
   "cell_type": "code",
   "execution_count": null,
   "metadata": {
    "collapsed": false
   },
   "outputs": [],
   "source": []
  },
  {
   "cell_type": "code",
   "execution_count": null,
   "metadata": {
    "collapsed": false
   },
   "outputs": [],
   "source": []
  },
  {
   "cell_type": "code",
   "execution_count": 48,
   "metadata": {
    "collapsed": false
   },
   "outputs": [
    {
     "data": {
      "text/plain": [
       "0    580\n",
       "dtype: int64"
      ]
     },
     "execution_count": 48,
     "metadata": {},
     "output_type": "execute_result"
    }
   ],
   "source": [
    "y_test_df[y_test_df[0] == 1].count()"
   ]
  },
  {
   "cell_type": "code",
   "execution_count": 49,
   "metadata": {
    "collapsed": false
   },
   "outputs": [],
   "source": [
    "y_test_df.to_csv('../data/predict/classify_3/y_test_580.csv')"
   ]
  },
  {
   "cell_type": "code",
   "execution_count": 169,
   "metadata": {
    "collapsed": true
   },
   "outputs": [],
   "source": [
    "arima_arr = [742,825,286,272,1350,1296,1145,1998,1881,1469,1556,407,501,1631,1269,428,308,88,275,1925,23,1462,5,768,489,1526,1765,1591,1229,1825,1295,1060]"
   ]
  },
  {
   "cell_type": "code",
   "execution_count": 171,
   "metadata": {
    "collapsed": true
   },
   "outputs": [],
   "source": [
    "# combine_prediction = {}\n",
    "# for id in range(1, 2001):\n",
    "#     if id in arima_arr:\n",
    "#         combine_prediction[id] = arima_prediction.loc[id].values;\n",
    "#     else:\n",
    "#         combine_prediction[id] = mean_3_3_3_prediction.loc[id].values;\n",
    "        \n",
    "# combine_prediction = pd.DataFrame.from_dict(combine_prediction, orient='index')"
   ]
  },
  {
   "cell_type": "code",
   "execution_count": 50,
   "metadata": {
    "collapsed": false
   },
   "outputs": [
    {
     "name": "stdout",
     "output_type": "stream",
     "text": [
      "2\n",
      "5\n",
      "14\n",
      "18\n",
      "20\n",
      "22\n",
      "23\n",
      "24\n",
      "28\n",
      "31\n",
      "40\n",
      "43\n",
      "60\n",
      "64\n",
      "66\n",
      "68\n",
      "71\n",
      "76\n",
      "78\n",
      "81\n",
      "96\n",
      "99\n",
      "103\n",
      "106\n",
      "108\n",
      "109\n",
      "111\n",
      "123\n",
      "126\n",
      "130\n",
      "131\n",
      "136\n",
      "150\n",
      "155\n",
      "157\n",
      "158\n",
      "163\n",
      "167\n",
      "168\n",
      "170\n",
      "172\n",
      "178\n",
      "184\n",
      "185\n",
      "190\n",
      "201\n",
      "205\n",
      "216\n",
      "219\n",
      "221\n",
      "225\n",
      "228\n",
      "230\n",
      "232\n",
      "236\n",
      "237\n",
      "238\n",
      "241\n",
      "242\n",
      "252\n",
      "254\n",
      "257\n",
      "258\n",
      "259\n",
      "260\n",
      "261\n",
      "265\n",
      "267\n",
      "268\n",
      "272\n",
      "274\n",
      "276\n",
      "278\n",
      "280\n",
      "281\n",
      "286\n",
      "302\n",
      "308\n",
      "317\n",
      "319\n",
      "320\n",
      "322\n",
      "323\n",
      "332\n",
      "339\n",
      "340\n",
      "341\n",
      "343\n",
      "349\n",
      "354\n",
      "357\n",
      "362\n",
      "363\n",
      "364\n",
      "367\n",
      "372\n",
      "374\n",
      "376\n",
      "381\n",
      "383\n",
      "384\n",
      "385\n",
      "387\n",
      "390\n",
      "393\n",
      "396\n",
      "400\n",
      "407\n",
      "419\n",
      "420\n",
      "422\n",
      "425\n",
      "428\n",
      "430\n",
      "439\n",
      "440\n",
      "445\n",
      "446\n",
      "450\n",
      "454\n",
      "461\n",
      "463\n",
      "465\n",
      "469\n",
      "471\n",
      "474\n",
      "477\n",
      "478\n",
      "480\n",
      "481\n",
      "483\n",
      "484\n",
      "488\n",
      "489\n",
      "491\n",
      "492\n",
      "494\n",
      "496\n",
      "498\n",
      "499\n",
      "501\n",
      "510\n",
      "514\n",
      "515\n",
      "516\n",
      "526\n",
      "535\n",
      "540\n",
      "541\n",
      "543\n",
      "544\n",
      "556\n",
      "558\n",
      "561\n",
      "563\n",
      "573\n",
      "576\n",
      "584\n",
      "586\n",
      "587\n",
      "589\n",
      "590\n",
      "596\n",
      "597\n",
      "599\n",
      "606\n",
      "609\n",
      "612\n",
      "623\n",
      "625\n",
      "626\n",
      "627\n",
      "632\n",
      "633\n",
      "634\n",
      "635\n",
      "636\n",
      "641\n",
      "643\n",
      "644\n",
      "646\n",
      "651\n",
      "653\n",
      "659\n",
      "661\n",
      "666\n",
      "667\n",
      "669\n",
      "673\n",
      "680\n",
      "683\n",
      "684\n",
      "685\n",
      "687\n",
      "689\n",
      "690\n",
      "692\n",
      "693\n",
      "698\n",
      "700\n",
      "706\n",
      "707\n",
      "708\n",
      "713\n",
      "718\n",
      "720\n",
      "724\n",
      "726\n",
      "727\n",
      "733\n",
      "739\n",
      "741\n",
      "742\n",
      "750\n",
      "754\n",
      "756\n",
      "758\n",
      "761\n",
      "763\n",
      "764\n",
      "768\n",
      "770\n",
      "774\n",
      "780\n",
      "784\n",
      "790\n",
      "792\n",
      "796\n",
      "807\n",
      "808\n",
      "810\n",
      "813\n",
      "815\n",
      "817\n",
      "820\n",
      "821\n",
      "822\n",
      "823\n",
      "825\n",
      "826\n",
      "828\n",
      "832\n",
      "833\n",
      "835\n",
      "838\n",
      "841\n",
      "842\n",
      "845\n",
      "851\n",
      "855\n",
      "856\n",
      "857\n",
      "861\n",
      "863\n",
      "880\n",
      "889\n",
      "891\n",
      "894\n",
      "899\n",
      "908\n",
      "912\n",
      "913\n",
      "917\n",
      "919\n",
      "920\n",
      "921\n",
      "924\n",
      "927\n",
      "932\n",
      "938\n",
      "945\n",
      "946\n",
      "952\n",
      "963\n",
      "966\n",
      "971\n",
      "982\n",
      "983\n",
      "991\n",
      "993\n",
      "996\n",
      "997\n",
      "1003\n",
      "1007\n",
      "1008\n",
      "1010\n",
      "1014\n",
      "1016\n",
      "1020\n",
      "1024\n",
      "1030\n",
      "1036\n",
      "1044\n",
      "1046\n",
      "1047\n",
      "1048\n",
      "1050\n",
      "1053\n",
      "1054\n",
      "1058\n",
      "1060\n",
      "1064\n",
      "1067\n",
      "1070\n",
      "1075\n",
      "1078\n",
      "1079\n",
      "1080\n",
      "1081\n",
      "1082\n",
      "1086\n",
      "1088\n",
      "1089\n",
      "1091\n",
      "1096\n",
      "1097\n",
      "1099\n",
      "1103\n",
      "1105\n",
      "1111\n",
      "1115\n",
      "1120\n",
      "1122\n",
      "1123\n",
      "1125\n",
      "1128\n",
      "1129\n",
      "1136\n",
      "1137\n",
      "1138\n",
      "1144\n",
      "1145\n",
      "1147\n",
      "1154\n",
      "1159\n",
      "1160\n",
      "1166\n",
      "1177\n",
      "1179\n",
      "1183\n",
      "1188\n",
      "1191\n",
      "1192\n",
      "1194\n",
      "1198\n",
      "1202\n",
      "1205\n",
      "1206\n",
      "1210\n",
      "1212\n",
      "1222\n",
      "1224\n",
      "1231\n",
      "1232\n",
      "1237\n",
      "1239\n",
      "1240\n",
      "1242\n",
      "1243\n",
      "1259\n",
      "1260\n",
      "1262\n",
      "1265\n",
      "1268\n",
      "1269\n",
      "1273\n",
      "1275\n",
      "1279\n",
      "1282\n",
      "1290\n",
      "1292\n",
      "1294\n",
      "1300\n",
      "1303\n",
      "1305\n",
      "1307\n",
      "1311\n",
      "1316\n",
      "1324\n",
      "1327\n",
      "1328\n",
      "1329\n",
      "1330\n",
      "1333\n",
      "1334\n",
      "1336\n",
      "1338\n",
      "1343\n",
      "1347\n",
      "1350\n",
      "1362\n",
      "1367\n",
      "1375\n",
      "1382\n",
      "1384\n",
      "1385\n",
      "1386\n",
      "1388\n",
      "1389\n",
      "1400\n",
      "1401\n",
      "1408\n",
      "1415\n",
      "1425\n",
      "1431\n",
      "1433\n",
      "1437\n",
      "1439\n",
      "1441\n",
      "1442\n",
      "1443\n",
      "1447\n",
      "1448\n",
      "1451\n",
      "1454\n",
      "1457\n",
      "1462\n",
      "1463\n",
      "1464\n",
      "1465\n",
      "1467\n",
      "1474\n",
      "1480\n",
      "1481\n",
      "1482\n",
      "1487\n",
      "1488\n",
      "1491\n",
      "1492\n",
      "1496\n",
      "1497\n",
      "1499\n",
      "1503\n",
      "1504\n",
      "1505\n",
      "1506\n",
      "1507\n",
      "1509\n",
      "1510\n",
      "1511\n",
      "1513\n",
      "1517\n",
      "1519\n",
      "1520\n",
      "1522\n",
      "1526\n",
      "1529\n",
      "1535\n",
      "1537\n",
      "1538\n",
      "1540\n",
      "1543\n",
      "1547\n",
      "1548\n",
      "1549\n",
      "1550\n",
      "1551\n",
      "1552\n",
      "1556\n",
      "1569\n",
      "1581\n",
      "1582\n",
      "1587\n",
      "1588\n",
      "1590\n",
      "1591\n",
      "1592\n",
      "1598\n",
      "1606\n",
      "1607\n",
      "1609\n",
      "1618\n",
      "1621\n",
      "1622\n",
      "1627\n",
      "1628\n",
      "1631\n",
      "1632\n",
      "1634\n",
      "1635\n",
      "1636\n",
      "1650\n",
      "1651\n",
      "1657\n",
      "1659\n",
      "1665\n",
      "1666\n",
      "1674\n",
      "1688\n",
      "1690\n",
      "1691\n",
      "1693\n",
      "1696\n",
      "1702\n",
      "1705\n",
      "1708\n",
      "1713\n",
      "1715\n",
      "1721\n",
      "1723\n",
      "1725\n",
      "1728\n",
      "1731\n",
      "1733\n",
      "1734\n",
      "1739\n",
      "1741\n",
      "1744\n",
      "1749\n",
      "1755\n",
      "1765\n",
      "1766\n",
      "1772\n",
      "1778\n",
      "1788\n",
      "1792\n",
      "1793\n",
      "1798\n",
      "1799\n",
      "1802\n",
      "1803\n",
      "1804\n",
      "1808\n",
      "1809\n",
      "1816\n",
      "1822\n",
      "1825\n",
      "1827\n",
      "1828\n",
      "1834\n",
      "1836\n",
      "1846\n",
      "1847\n",
      "1849\n",
      "1850\n",
      "1853\n",
      "1857\n",
      "1863\n",
      "1866\n",
      "1870\n",
      "1885\n",
      "1887\n",
      "1888\n",
      "1891\n",
      "1893\n",
      "1895\n",
      "1896\n",
      "1897\n",
      "1899\n",
      "1900\n",
      "1904\n",
      "1909\n",
      "1910\n",
      "1912\n",
      "1918\n",
      "1919\n",
      "1920\n",
      "1925\n",
      "1933\n",
      "1947\n",
      "1950\n",
      "1953\n",
      "1956\n",
      "1960\n",
      "1962\n",
      "1964\n",
      "1965\n",
      "1969\n",
      "1973\n",
      "1977\n",
      "1979\n",
      "1980\n",
      "1981\n",
      "1982\n",
      "1983\n",
      "1984\n",
      "1986\n",
      "1988\n",
      "1995\n",
      "1996\n"
     ]
    }
   ],
   "source": [
    "combine_prediction = {}\n",
    "for id in range(1, 2001):\n",
    "    if y_test_df.loc[id].values == 0:\n",
    "        combine_prediction[id] = mean_3_3_3_prediction.loc[id].values;\n",
    "    else:\n",
    "        print(id)\n",
    "        combine_prediction[id] = blend_prediction.loc[id].values;\n",
    "        \n",
    "combine_prediction = pd.DataFrame.from_dict(combine_prediction, orient='index')"
   ]
  },
  {
   "cell_type": "code",
   "execution_count": 51,
   "metadata": {
    "collapsed": true
   },
   "outputs": [],
   "source": [
    "combine_prediction = predict.FixFinalPredict(combine_prediction)"
   ]
  },
  {
   "cell_type": "code",
   "execution_count": 52,
   "metadata": {
    "collapsed": false
   },
   "outputs": [],
   "source": [
    "combine_prediction.to_csv('../data/predict/classify_3/prediction_gbdt_580_C_' + today.isoformat() + '.csv', index=True, header=None, encoding='UTF-8')"
   ]
  },
  {
   "cell_type": "code",
   "execution_count": null,
   "metadata": {
    "collapsed": true
   },
   "outputs": [],
   "source": []
  }
 ],
 "metadata": {
  "anaconda-cloud": {},
  "kernelspec": {
   "display_name": "Python [conda root]",
   "language": "python",
   "name": "conda-root-py"
  },
  "language_info": {
   "codemirror_mode": {
    "name": "ipython",
    "version": 3
   },
   "file_extension": ".py",
   "mimetype": "text/x-python",
   "name": "python",
   "nbconvert_exporter": "python",
   "pygments_lexer": "ipython3",
   "version": "3.5.2"
  }
 },
 "nbformat": 4,
 "nbformat_minor": 1
}
