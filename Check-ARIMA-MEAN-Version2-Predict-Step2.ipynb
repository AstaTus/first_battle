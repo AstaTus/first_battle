{
 "cells": [
  {
   "cell_type": "code",
   "execution_count": 1,
   "metadata": {
    "collapsed": false
   },
   "outputs": [
    {
     "name": "stderr",
     "output_type": "stream",
     "text": [
      "C:\\Program Files\\Anaconda3\\lib\\site-packages\\matplotlib\\__init__.py:1357: UserWarning:  This call to matplotlib.use() has no effect\n",
      "because the backend has already been chosen;\n",
      "matplotlib.use() must be called *before* pylab, matplotlib.pyplot,\n",
      "or matplotlib.backends is imported for the first time.\n",
      "\n",
      "  warnings.warn(_use_error_msg)\n"
     ]
    }
   ],
   "source": [
    "import numpy as np\n",
    "import pandas as pd\n",
    "import matplotlib.pyplot as plt\n",
    "import seaborn as sns\n",
    "from datetime import datetime\n",
    "import datetime\n",
    "import time\n",
    "import predict\n",
    "import base\n",
    "import shop_classify as sc\n",
    "\n",
    "import matplotlib\n",
    "myfont = matplotlib.font_manager.FontProperties(fname=r'C:/Windows/Fonts/msyh.ttf')\n",
    "matplotlib.use('qt4agg')  \n",
    "#指定默认字体  \n",
    "matplotlib.rcParams['font.sans-serif'] = ['SimHei']   \n",
    "matplotlib.rcParams['font.family']='sans-serif'  \n",
    "#解决负号'-'显示为方块的问题  \n",
    "matplotlib.rcParams['axes.unicode_minus'] = False \n",
    "\n",
    "%load_ext autoreload\n",
    "%autoreload 2"
   ]
  },
  {
   "cell_type": "code",
   "execution_count": 2,
   "metadata": {
    "collapsed": true
   },
   "outputs": [],
   "source": [
    "#读取休假表\n",
    "calenders = base.ReadCalendarCSV();\n",
    "#读取user_pay_count\n",
    "user_pay_counts = base.ReadUserPayCountCSV();\n",
    "###读取处理过的商家信息\n",
    "shop_infos = base.ReadProcessShopInfoCSV();\n",
    "##读取城市名称对照表\n",
    "city_names = base.ReadCityNameCSV();\n",
    "#读取开店时间数据\n",
    "shop_open_dates = base.ReadShopOpenDateCSV();\n"
   ]
  },
  {
   "cell_type": "code",
   "execution_count": 3,
   "metadata": {
    "collapsed": true
   },
   "outputs": [],
   "source": [
    "%reload_ext autoreload"
   ]
  },
  {
   "cell_type": "code",
   "execution_count": 4,
   "metadata": {
    "collapsed": true
   },
   "outputs": [],
   "source": [
    "###读取处理过的商家信息\n",
    "shop_infos = base.ReadProcessShopInfoCSV();"
   ]
  },
  {
   "cell_type": "code",
   "execution_count": 5,
   "metadata": {
    "collapsed": true
   },
   "outputs": [],
   "source": [
    "names = ['2_2_1', '2_2_2', '3_3_1', '3_3_2', '3_3_3', 'arima']\n",
    "predict_predictions = []\n",
    "\n",
    "for i in range(len(names)):\n",
    "    predict_predictions.append(pd.read_csv(\"./data/dataset/dataset/shop_classify/check/predict/\" + names[i] + \"_prediction.txt\", sep='\\t', encoding='UTF-8', index_col=0))"
   ]
  },
  {
   "cell_type": "code",
   "execution_count": 6,
   "metadata": {
    "collapsed": true
   },
   "outputs": [],
   "source": [
    "#生成训练集"
   ]
  },
  {
   "cell_type": "code",
   "execution_count": 7,
   "metadata": {
    "collapsed": true
   },
   "outputs": [],
   "source": [
    "#真实数据2016-9-20~~2016-9-20 + 2016-11-10~~2016-10-24\n",
    "#calculatePeriodParams(shop_open_dates, user_pay_counts, calenders, start_time, end_time):"
   ]
  },
  {
   "cell_type": "code",
   "execution_count": 8,
   "metadata": {
    "collapsed": true
   },
   "outputs": [],
   "source": [
    "predict_pay_counts = pd.read_csv(\"./data/dataset/dataset/shop_classify/check/predict/preprocess_data.txt\", sep=\"\\t\", encoding='UTF-8', index_col=0)"
   ]
  },
  {
   "cell_type": "code",
   "execution_count": 9,
   "metadata": {
    "collapsed": true
   },
   "outputs": [],
   "source": [
    "predict_pay_counts.columns = range(0,21)"
   ]
  },
  {
   "cell_type": "code",
   "execution_count": null,
   "metadata": {
    "collapsed": false
   },
   "outputs": [],
   "source": []
  },
  {
   "cell_type": "code",
   "execution_count": 10,
   "metadata": {
    "collapsed": false
   },
   "outputs": [],
   "source": [
    "week_num = 3\n",
    "\n",
    "func_names = ['mean', 'std', 'max', 'min']\n",
    "funcs = [np.mean, np.std, np.max, np.min]\n",
    "real_params = {}\n",
    "\n",
    "for t in range(len(func_names)):\n",
    "    params = []\n",
    "    for w in range(week_num):\n",
    "        params.append(funcs[t](predict_pay_counts[np.array(range(w*7, w*7+6))],axis=1))\n",
    "    \n",
    "    real_params[func_names[t]] = params"
   ]
  },
  {
   "cell_type": "code",
   "execution_count": 11,
   "metadata": {
    "collapsed": false
   },
   "outputs": [
    {
     "name": "stdout",
     "output_type": "stream",
     "text": [
      "0\n",
      "1\n",
      "2\n",
      "3\n",
      "4\n",
      "5\n"
     ]
    }
   ],
   "source": [
    "predict_params = []\n",
    "weeks = [['0', '1', '2', '3', '4', '5', '6'],['7', '8', '9', '10', '11', '12', '13']]\n",
    "\n",
    "for i in range(len(names)):\n",
    "    print(i)\n",
    "    for w in weeks:\n",
    "        predction = predict_predictions[i][w];\n",
    "        predict_params.append([predction.mean(axis=1), predction.std(axis=1), predction.max(axis=1), predction.min(axis=1)])"
   ]
  },
  {
   "cell_type": "code",
   "execution_count": 12,
   "metadata": {
    "collapsed": false
   },
   "outputs": [],
   "source": [
    "def initFeatures(t):\n",
    "    X_train_df = pd.DataFrame()\n",
    "    X_train_df['mean1'] = real_params['mean'][0]\n",
    "    X_train_df['mean2'] = real_params['mean'][1]\n",
    "    X_train_df['mean3'] = real_params['mean'][2]\n",
    "    X_train_df['std1'] = real_params['std'][0]\n",
    "    X_train_df['std2'] = real_params['std'][1]\n",
    "    X_train_df['std3'] = real_params['std'][2]\n",
    "    X_train_df['min1'] = real_params['min'][0]\n",
    "    X_train_df['min2'] = real_params['min'][1]\n",
    "    X_train_df['min3'] = real_params['min'][2]\n",
    "    X_train_df['max1'] = real_params['max'][0]\n",
    "    X_train_df['max2'] = real_params['max'][1]\n",
    "    X_train_df['max3'] = real_params['max'][2]\n",
    "    X_train_df['mean_diff1'] = real_params['mean'][0] - real_params['mean'][1]\n",
    "    X_train_df['mean_diff2'] = real_params['mean'][1] - real_params['mean'][2]\n",
    "    X_train_df['mean_diff3'] = real_params['mean'][2] - real_params['mean'][0]\n",
    "\n",
    "    X_train_df['std_diff1'] = real_params['std'][0] - real_params['std'][1]\n",
    "    X_train_df['std_diff2'] = real_params['std'][1] - real_params['std'][2]\n",
    "    X_train_df['std_diff3'] = real_params['std'][2] - real_params['std'][0]\n",
    "\n",
    "    X_train_df['max_diff1'] = real_params['max'][0] - real_params['max'][1]\n",
    "    X_train_df['max_diff2'] = real_params['max'][1] - real_params['max'][2]\n",
    "    X_train_df['max_diff3'] = real_params['max'][2] - real_params['max'][0]\n",
    "\n",
    "    X_train_df['min_diff1'] = real_params['min'][0] - real_params['min'][1]\n",
    "    X_train_df['min_diff2'] = real_params['min'][1] - real_params['min'][2]\n",
    "    X_train_df['min_diff3'] = real_params['min'][2] - real_params['min'][0]\n",
    "\n",
    "#     if t == '3_1':\n",
    "#         X_train_df['mean4_pred_1'] = predict_params[0][0]\n",
    "#         X_train_df['std4_pred_1'] = predict_params[0][1]\n",
    "#         X_train_df['max4_pred_1'] = predict_params[0][2]\n",
    "#         X_train_df['min4_pred_1'] = predict_params[0][3]\n",
    "#     elif t == '3_2':\n",
    "#         X_train_df['mean4_pred_1'] = predict_params[1][0]\n",
    "#         X_train_df['std4_pred_1'] = predict_params[1][1]\n",
    "#         X_train_df['max4_pred_1'] = predict_params[1][2]\n",
    "#         X_train_df['min4_pred_1'] = predict_params[1][3]\n",
    "#     elif t == '3_3':\n",
    "#         X_train_df['mean4_pred_1'] = predict_params[2][0]\n",
    "#         X_train_df['std4_pred_1'] = predict_params[2][1]\n",
    "#         X_train_df['max4_pred_1'] = predict_params[2][2]\n",
    "#         X_train_df['min4_pred_1'] = predict_params[2][3]\n",
    "\n",
    "\n",
    "    X_train_df = X_train_df.astype(np.int)\n",
    "    X_train_df = pd.concat([X_train_df, shop_infos], axis=1)\n",
    "    return X_train_df;"
   ]
  },
  {
   "cell_type": "code",
   "execution_count": 13,
   "metadata": {
    "collapsed": false
   },
   "outputs": [],
   "source": [
    "mean_type = '3_3_3'\n",
    "X_predict_df = initFeatures(mean_type)"
   ]
  },
  {
   "cell_type": "code",
   "execution_count": 14,
   "metadata": {
    "collapsed": false
   },
   "outputs": [],
   "source": [
    "#[\"2_2_1\", '2_2_2', '3_3_1', '3_3_2', '3_3_3', 'arima']\n",
    "#[\"2_2_1\", '2_2_2', '3_3_1', '3_3_2', '3_3_3', 'arima']\n",
    "def changeType(name):\n",
    "    if name == 'arima':\n",
    "        return 1\n",
    "    else:\n",
    "        return 0;"
   ]
  },
  {
   "cell_type": "code",
   "execution_count": 15,
   "metadata": {
    "collapsed": false
   },
   "outputs": [],
   "source": [
    "X_predict_df.to_csv(\"./data/dataset/dataset/shop_classify/check/predict/X_predict.txt\", sep='\\t', index=True, encoding='UTF-8')"
   ]
  },
  {
   "cell_type": "code",
   "execution_count": 120,
   "metadata": {
    "collapsed": true
   },
   "outputs": [],
   "source": [
    "%reload_ext autoreload"
   ]
  },
  {
   "cell_type": "code",
   "execution_count": null,
   "metadata": {
    "collapsed": true
   },
   "outputs": [],
   "source": []
  }
 ],
 "metadata": {
  "anaconda-cloud": {},
  "kernelspec": {
   "display_name": "Python [conda root]",
   "language": "python",
   "name": "conda-root-py"
  },
  "language_info": {
   "codemirror_mode": {
    "name": "ipython",
    "version": 3
   },
   "file_extension": ".py",
   "mimetype": "text/x-python",
   "name": "python",
   "nbconvert_exporter": "python",
   "pygments_lexer": "ipython3",
   "version": "3.5.2"
  }
 },
 "nbformat": 4,
 "nbformat_minor": 1
}
