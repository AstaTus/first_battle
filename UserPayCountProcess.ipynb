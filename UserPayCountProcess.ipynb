{
 "cells": [
  {
   "cell_type": "code",
   "execution_count": null,
   "metadata": {
    "collapsed": false
   },
   "outputs": [],
   "source": [
    "import re\n",
    "import sys\n",
    "import os\n",
    "import numpy as np\n",
    "import pandas as pd\n",
    "import matplotlib.pyplot as plt\n",
    "import seaborn as sns\n",
    "from datetime import datetime\n",
    "import datetime\n",
    "###user_pay表处理\n",
    "\n",
    "# def SplitTimeStr(time_stamp):\n",
    "#     arr = time_stamp.split(' ')\n",
    "#     time = arr[1].split(':')[0]\n",
    "#     return time\n",
    "\n",
    "# def SplitDateStr(time_stamp):\n",
    "#     arr = time_stamp.split(' ')\n",
    "#     date = arr[0]\n",
    "#     return date\n",
    "\n",
    "#统计每家店每个时间段的消费次数\n",
    "#定义表格式\n",
    "#'7/1/2015到2016.10.30（除去2015.12.12）\n",
    "time_index=pd.date_range(start='6/25/2015', end='11/1/2016', freq='H')\n",
    "user_pay_count_df = pd.DataFrame(data=None, index=None, columns=time_index, dtype=None, copy=False)\n",
    "user_pay_count_df.insert(0,'shop_id',None)\n",
    "user_pay_count_df=user_pay_count_df.astype(np.str)\n",
    "user_pay_count_df.columns = user_pay_count_df.columns.astype(np.str)\n",
    "user_pay_count_df\n",
    "\n",
    "#（69674110,3）\n",
    "user_pay_reader = pd.read_csv(\"./data/dataset/dataset/user_pay.txt\",\n",
    "                         encoding='UTF-8',header=None,\n",
    "                        names=['user_id','shop_id','time_stamp'],chunksize=100000)\n",
    "index = 0;\n",
    "for chunk in user_pay_reader:\n",
    "#     chunk['date'] = chunk['time_stamp'].apply(SplitDateStr)\n",
    "#     chunk['time'] = chunk['time_stamp'].apply(SplitTimeStr)\n",
    "#     print(chunk['date'])\n",
    "#     print(chunk['time'])\n",
    "#     print(index)\n",
    "    grouped = chunk.groupby(['shop_id','time_stamp'])\n",
    "    #计数\n",
    "    count_chunk = grouped.count()\n",
    "    count_chunk.reset_index(inplace=True)\n",
    "    count_chunk.rename(columns={'user_id':'count'}, inplace = True)\n",
    "    count_pivot = count_chunk.pivot(index='shop_id', columns='time_stamp', values='count')\n",
    "    count_pivot.reset_index(drop=True)\n",
    "    count_pivot.columns.name = None\n",
    "    count_pivot.insert(0,'shop_id',count_pivot.index)\n",
    "    count_pivot.reset_index(drop=True, inplace=True)\n",
    "    #合并\n",
    "    user_pay_count_df = user_pay_count_df.append(count_pivot,ignore_index=True)\n",
    "#     index = index + 1\n",
    "#     if index == 3:\n",
    "#         break\n",
    "\n",
    "user_pay_count_df = user_pay_count_df.fillna(0)\n",
    "user_pay_count_df = user_pay_count_df.astype(np.int)\n",
    "user_pay_count_df"
   ]
  },
  {
   "cell_type": "code",
   "execution_count": null,
   "metadata": {
    "collapsed": true
   },
   "outputs": [],
   "source": [
    "#count_pivot中有的而user_pay_count_df中没有\n",
    "#print(list(set(count_pivot.columns).difference(set(user_pay_count_df.columns))))"
   ]
  },
  {
   "cell_type": "code",
   "execution_count": null,
   "metadata": {
    "collapsed": false
   },
   "outputs": [],
   "source": [
    "user_pay_count_df = user_pay_count_df.sort_values('shop_id')\n",
    "user_pay_count_df = user_pay_count_df.reset_index(drop=True)\n",
    "m = user_pay_count_df.shape[0]\n",
    "#通shop_id相加\n",
    "current_shop_id = user_pay_count_df.loc[0, 'shop_id']\n",
    "current_shop_topi = 0\n",
    "for i in range(1,m):\n",
    "    #print('left = %d, right = %d'%(user_pay_count_df.ix[i]['shop_id'], current_shop_id))\n",
    "    if user_pay_count_df.loc[i, 'shop_id'] == current_shop_id:\n",
    "        user_pay_count_df.ix[current_shop_topi] = user_pay_count_df.loc[current_shop_topi][:] + user_pay_count_df.loc[i][:]\n",
    "        user_pay_count_df.iloc[current_shop_topi]['shop_id'] = current_shop_id\n",
    "        #print(\"x = %d, y = %d, r = %d\"%(user_pay_count_df.loc[current_shop_topi]['2016-10-31 18:00:00'], user_pay_count_df.loc[current_shop_topi]['2016-10-31 18:00:00'], user_pay_count_df.loc[i]['2016-10-31 18:00:00']))\n",
    "    else:\n",
    "        current_shop_id = user_pay_count_df.loc[i, 'shop_id']\n",
    "        current_shop_topi = i\n",
    "\n",
    "#去重\n",
    "user_pay_count_df = user_pay_count_df.drop_duplicates(subset='shop_id', keep='first')\n",
    "user_pay_count_df"
   ]
  },
  {
   "cell_type": "code",
   "execution_count": 5,
   "metadata": {
    "collapsed": false
   },
   "outputs": [
    {
     "ename": "ValueError",
     "evalue": "labels ['shop_id'] not contained in axis",
     "output_type": "error",
     "traceback": [
      "\u001b[0;31m---------------------------------------------------------------------------\u001b[0m",
      "\u001b[0;31mValueError\u001b[0m                                Traceback (most recent call last)",
      "\u001b[0;32m<ipython-input-5-5bc887a415ff>\u001b[0m in \u001b[0;36m<module>\u001b[0;34m()\u001b[0m\n\u001b[1;32m      1\u001b[0m \u001b[0muser_pay_count_df\u001b[0m \u001b[1;33m=\u001b[0m \u001b[0muser_pay_count_df\u001b[0m\u001b[1;33m.\u001b[0m\u001b[0mreset_index\u001b[0m\u001b[1;33m(\u001b[0m\u001b[0mdrop\u001b[0m\u001b[1;33m=\u001b[0m\u001b[1;32mTrue\u001b[0m\u001b[1;33m)\u001b[0m\u001b[1;33m\u001b[0m\u001b[0m\n\u001b[1;32m      2\u001b[0m \u001b[0muser_pay_count_df\u001b[0m\u001b[1;33m.\u001b[0m\u001b[0mindex\u001b[0m \u001b[1;33m=\u001b[0m \u001b[0muser_pay_count_df\u001b[0m\u001b[1;33m[\u001b[0m\u001b[1;34m'shop_id'\u001b[0m\u001b[1;33m]\u001b[0m\u001b[1;33m\u001b[0m\u001b[0m\n\u001b[0;32m----> 3\u001b[0;31m \u001b[0muser_pay_count_df\u001b[0m \u001b[1;33m=\u001b[0m \u001b[0muser_pay_count_df\u001b[0m\u001b[1;33m.\u001b[0m\u001b[0mdrop\u001b[0m\u001b[1;33m(\u001b[0m\u001b[1;34m'shop_id'\u001b[0m\u001b[1;33m)\u001b[0m\u001b[1;33m\u001b[0m\u001b[0m\n\u001b[0m",
      "\u001b[0;32mC:\\Program Files\\Anaconda3\\lib\\site-packages\\pandas\\core\\generic.py\u001b[0m in \u001b[0;36mdrop\u001b[0;34m(self, labels, axis, level, inplace, errors)\u001b[0m\n\u001b[1;32m   1875\u001b[0m                 \u001b[0mnew_axis\u001b[0m \u001b[1;33m=\u001b[0m \u001b[0maxis\u001b[0m\u001b[1;33m.\u001b[0m\u001b[0mdrop\u001b[0m\u001b[1;33m(\u001b[0m\u001b[0mlabels\u001b[0m\u001b[1;33m,\u001b[0m \u001b[0mlevel\u001b[0m\u001b[1;33m=\u001b[0m\u001b[0mlevel\u001b[0m\u001b[1;33m,\u001b[0m \u001b[0merrors\u001b[0m\u001b[1;33m=\u001b[0m\u001b[0merrors\u001b[0m\u001b[1;33m)\u001b[0m\u001b[1;33m\u001b[0m\u001b[0m\n\u001b[1;32m   1876\u001b[0m             \u001b[1;32melse\u001b[0m\u001b[1;33m:\u001b[0m\u001b[1;33m\u001b[0m\u001b[0m\n\u001b[0;32m-> 1877\u001b[0;31m                 \u001b[0mnew_axis\u001b[0m \u001b[1;33m=\u001b[0m \u001b[0maxis\u001b[0m\u001b[1;33m.\u001b[0m\u001b[0mdrop\u001b[0m\u001b[1;33m(\u001b[0m\u001b[0mlabels\u001b[0m\u001b[1;33m,\u001b[0m \u001b[0merrors\u001b[0m\u001b[1;33m=\u001b[0m\u001b[0merrors\u001b[0m\u001b[1;33m)\u001b[0m\u001b[1;33m\u001b[0m\u001b[0m\n\u001b[0m\u001b[1;32m   1878\u001b[0m             \u001b[0mdropped\u001b[0m \u001b[1;33m=\u001b[0m \u001b[0mself\u001b[0m\u001b[1;33m.\u001b[0m\u001b[0mreindex\u001b[0m\u001b[1;33m(\u001b[0m\u001b[1;33m**\u001b[0m\u001b[1;33m{\u001b[0m\u001b[0maxis_name\u001b[0m\u001b[1;33m:\u001b[0m \u001b[0mnew_axis\u001b[0m\u001b[1;33m}\u001b[0m\u001b[1;33m)\u001b[0m\u001b[1;33m\u001b[0m\u001b[0m\n\u001b[1;32m   1879\u001b[0m             \u001b[1;32mtry\u001b[0m\u001b[1;33m:\u001b[0m\u001b[1;33m\u001b[0m\u001b[0m\n",
      "\u001b[0;32mC:\\Program Files\\Anaconda3\\lib\\site-packages\\pandas\\indexes\\base.py\u001b[0m in \u001b[0;36mdrop\u001b[0;34m(self, labels, errors)\u001b[0m\n\u001b[1;32m   3049\u001b[0m             \u001b[1;32mif\u001b[0m \u001b[0merrors\u001b[0m \u001b[1;33m!=\u001b[0m \u001b[1;34m'ignore'\u001b[0m\u001b[1;33m:\u001b[0m\u001b[1;33m\u001b[0m\u001b[0m\n\u001b[1;32m   3050\u001b[0m                 raise ValueError('labels %s not contained in axis' %\n\u001b[0;32m-> 3051\u001b[0;31m                                  labels[mask])\n\u001b[0m\u001b[1;32m   3052\u001b[0m             \u001b[0mindexer\u001b[0m \u001b[1;33m=\u001b[0m \u001b[0mindexer\u001b[0m\u001b[1;33m[\u001b[0m\u001b[1;33m~\u001b[0m\u001b[0mmask\u001b[0m\u001b[1;33m]\u001b[0m\u001b[1;33m\u001b[0m\u001b[0m\n\u001b[1;32m   3053\u001b[0m         \u001b[1;32mreturn\u001b[0m \u001b[0mself\u001b[0m\u001b[1;33m.\u001b[0m\u001b[0mdelete\u001b[0m\u001b[1;33m(\u001b[0m\u001b[0mindexer\u001b[0m\u001b[1;33m)\u001b[0m\u001b[1;33m\u001b[0m\u001b[0m\n",
      "\u001b[0;31mValueError\u001b[0m: labels ['shop_id'] not contained in axis"
     ]
    }
   ],
   "source": [
    "user_pay_count_df = user_pay_count_df.reset_index(drop=True)\n",
    "user_pay_count_df.index = user_pay_count_df['shop_id']\n"
   ]
  },
  {
   "cell_type": "code",
   "execution_count": 6,
   "metadata": {
    "collapsed": true
   },
   "outputs": [],
   "source": [
    "user_pay_count_df = user_pay_count_df.drop('shop_id',axis=1)\n"
   ]
  },
  {
   "cell_type": "code",
   "execution_count": 10,
   "metadata": {
    "collapsed": false,
    "scrolled": true
   },
   "outputs": [],
   "source": [
    "user_pay_count_df = user_pay_count_df.drop('2015-06-25 00:00:00',axis=1)"
   ]
  },
  {
   "cell_type": "code",
   "execution_count": 11,
   "metadata": {
    "collapsed": true
   },
   "outputs": [],
   "source": [
    "user_pay_count_df.to_csv(\"./data/dataset/dataset/user_pay_count.txt\", sep='\\t', index=True, encoding='UTF-8')"
   ]
  },
  {
   "cell_type": "code",
   "execution_count": null,
   "metadata": {
    "collapsed": true
   },
   "outputs": [],
   "source": []
  }
 ],
 "metadata": {
  "kernelspec": {
   "display_name": "Python [conda root]",
   "language": "python",
   "name": "conda-root-py"
  },
  "language_info": {
   "codemirror_mode": {
    "name": "ipython",
    "version": 3
   },
   "file_extension": ".py",
   "mimetype": "text/x-python",
   "name": "python",
   "nbconvert_exporter": "python",
   "pygments_lexer": "ipython3",
   "version": "3.5.2"
  }
 },
 "nbformat": 4,
 "nbformat_minor": 1
}
