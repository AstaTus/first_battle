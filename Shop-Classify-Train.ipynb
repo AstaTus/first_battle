{
 "cells": [
  {
   "cell_type": "code",
   "execution_count": 3,
   "metadata": {
    "collapsed": false
   },
   "outputs": [
    {
     "name": "stdout",
     "output_type": "stream",
     "text": [
      "The autoreload extension is already loaded. To reload it, use:\n",
      "  %reload_ext autoreload\n"
     ]
    }
   ],
   "source": [
    "import numpy as np\n",
    "import pandas as pd\n",
    "import matplotlib.pyplot as plt\n",
    "import seaborn as sns\n",
    "from datetime import datetime\n",
    "import datetime\n",
    "import time\n",
    "import predict\n",
    "import base\n",
    "import shop_classify as sc\n",
    "\n",
    "%load_ext autoreload\n",
    "%autoreload 2"
   ]
  },
  {
   "cell_type": "code",
   "execution_count": 4,
   "metadata": {
    "collapsed": false
   },
   "outputs": [],
   "source": [
    "from sklearn.ensemble import GradientBoostingClassifier\n",
    "from sklearn.model_selection import train_test_split\n",
    "from sklearn.model_selection import GridSearchCV\n",
    "from sklearn.metrics import classification_report"
   ]
  },
  {
   "cell_type": "code",
   "execution_count": 16,
   "metadata": {
    "collapsed": false
   },
   "outputs": [],
   "source": [
    "#读取测试集\n",
    "X_train_df = pd.read_csv(\"./data/dataset/dataset/shop_classify/train/X_train.txt\", sep='\\t', index_col=0, encoding='UTF-8')\n",
    "y_train_df = pd.read_csv(\"./data/dataset/dataset/shop_classify/train/y_train.txt\", sep='\\t', index_col=0, encoding='UTF-8')"
   ]
  },
  {
   "cell_type": "code",
   "execution_count": 6,
   "metadata": {
    "collapsed": true
   },
   "outputs": [],
   "source": [
    "%reload_ext autoreload"
   ]
  },
  {
   "cell_type": "code",
   "execution_count": 7,
   "metadata": {
    "collapsed": false
   },
   "outputs": [],
   "source": [
    "# kf = KFold(len(test_train_df), n_folds=5, shuffle=True, random_state=4)"
   ]
  },
  {
   "cell_type": "code",
   "execution_count": 8,
   "metadata": {
    "collapsed": false
   },
   "outputs": [],
   "source": [
    "\n",
    "#max_features=None, max_leaf_nodes=None\n",
    "\n",
    "# for train_index, test_index in kf:\n",
    "#     print(\"TRAIN:\", train_index, \"TEST:\", test_index)\n",
    "#     X_train, X_test = X_train_df.loc[train_index], X_train_df.loc[test_index]\n",
    "#     y_train, y_test = y_train_df.loc[train_index], y_train_df.loc[test_index]\n",
    "    "
   ]
  },
  {
   "cell_type": "code",
   "execution_count": 17,
   "metadata": {
    "collapsed": true
   },
   "outputs": [],
   "source": [
    "# Split the dataset in two equal parts\n",
    "X_train, X_test, y_train, y_test = train_test_split(X_train_df.values, y_train_df['type'].values, random_state=0)              "
   ]
  },
  {
   "cell_type": "code",
   "execution_count": 18,
   "metadata": {
    "collapsed": false
   },
   "outputs": [
    {
     "data": {
      "text/plain": [
       "array([[ -4,   0,   4, ..., -57,  -8,  -1],\n",
       "       [ -1, -10,  11, ...,  -3, -16,   4],\n",
       "       [-94,  13,  81, ..., -72,  -1,  76],\n",
       "       ..., \n",
       "       [  6,   8, -15, ..., -13,  10, -35],\n",
       "       [ -1,  22, -21, ..., -44,  52, -28],\n",
       "       [  1, -26,  24, ...,   5, -41,  29]], dtype=int64)"
      ]
     },
     "execution_count": 18,
     "metadata": {},
     "output_type": "execute_result"
    }
   ],
   "source": [
    "X_train"
   ]
  },
  {
   "cell_type": "code",
   "execution_count": 19,
   "metadata": {
    "collapsed": false
   },
   "outputs": [
    {
     "name": "stdout",
     "output_type": "stream",
     "text": [
      "Best parameters set found on development set:\n",
      "\n",
      "{'n_estimators': 100, 'min_samples_leaf': 1, 'learning_rate': 0.07, 'max_depth': 3, 'min_samples_split': 3}\n",
      "\n",
      "Grid scores on development set:\n",
      "\n",
      "0.793 (+/-0.028) for {'n_estimators': 80, 'min_samples_leaf': 1, 'learning_rate': 0.05, 'max_depth': 3, 'min_samples_split': 2}\n",
      "0.791 (+/-0.032) for {'n_estimators': 100, 'min_samples_leaf': 1, 'learning_rate': 0.05, 'max_depth': 3, 'min_samples_split': 2}\n",
      "0.793 (+/-0.029) for {'n_estimators': 120, 'min_samples_leaf': 1, 'learning_rate': 0.05, 'max_depth': 3, 'min_samples_split': 2}\n",
      "0.793 (+/-0.026) for {'n_estimators': 80, 'min_samples_leaf': 1, 'learning_rate': 0.05, 'max_depth': 3, 'min_samples_split': 3}\n",
      "0.793 (+/-0.029) for {'n_estimators': 100, 'min_samples_leaf': 1, 'learning_rate': 0.05, 'max_depth': 3, 'min_samples_split': 3}\n",
      "0.792 (+/-0.028) for {'n_estimators': 120, 'min_samples_leaf': 1, 'learning_rate': 0.05, 'max_depth': 3, 'min_samples_split': 3}\n",
      "0.793 (+/-0.025) for {'n_estimators': 80, 'min_samples_leaf': 1, 'learning_rate': 0.05, 'max_depth': 3, 'min_samples_split': 4}\n",
      "0.793 (+/-0.027) for {'n_estimators': 100, 'min_samples_leaf': 1, 'learning_rate': 0.05, 'max_depth': 3, 'min_samples_split': 4}\n",
      "0.793 (+/-0.025) for {'n_estimators': 120, 'min_samples_leaf': 1, 'learning_rate': 0.05, 'max_depth': 3, 'min_samples_split': 4}\n",
      "0.793 (+/-0.021) for {'n_estimators': 80, 'min_samples_leaf': 2, 'learning_rate': 0.05, 'max_depth': 3, 'min_samples_split': 2}\n",
      "0.795 (+/-0.023) for {'n_estimators': 100, 'min_samples_leaf': 2, 'learning_rate': 0.05, 'max_depth': 3, 'min_samples_split': 2}\n",
      "0.794 (+/-0.030) for {'n_estimators': 120, 'min_samples_leaf': 2, 'learning_rate': 0.05, 'max_depth': 3, 'min_samples_split': 2}\n",
      "0.793 (+/-0.021) for {'n_estimators': 80, 'min_samples_leaf': 2, 'learning_rate': 0.05, 'max_depth': 3, 'min_samples_split': 3}\n",
      "0.795 (+/-0.023) for {'n_estimators': 100, 'min_samples_leaf': 2, 'learning_rate': 0.05, 'max_depth': 3, 'min_samples_split': 3}\n",
      "0.794 (+/-0.030) for {'n_estimators': 120, 'min_samples_leaf': 2, 'learning_rate': 0.05, 'max_depth': 3, 'min_samples_split': 3}\n",
      "0.793 (+/-0.021) for {'n_estimators': 80, 'min_samples_leaf': 2, 'learning_rate': 0.05, 'max_depth': 3, 'min_samples_split': 4}\n",
      "0.795 (+/-0.023) for {'n_estimators': 100, 'min_samples_leaf': 2, 'learning_rate': 0.05, 'max_depth': 3, 'min_samples_split': 4}\n",
      "0.794 (+/-0.030) for {'n_estimators': 120, 'min_samples_leaf': 2, 'learning_rate': 0.05, 'max_depth': 3, 'min_samples_split': 4}\n",
      "0.794 (+/-0.026) for {'n_estimators': 80, 'min_samples_leaf': 1, 'learning_rate': 0.07, 'max_depth': 3, 'min_samples_split': 2}\n",
      "0.792 (+/-0.017) for {'n_estimators': 100, 'min_samples_leaf': 1, 'learning_rate': 0.07, 'max_depth': 3, 'min_samples_split': 2}\n",
      "0.791 (+/-0.023) for {'n_estimators': 120, 'min_samples_leaf': 1, 'learning_rate': 0.07, 'max_depth': 3, 'min_samples_split': 2}\n",
      "0.793 (+/-0.026) for {'n_estimators': 80, 'min_samples_leaf': 1, 'learning_rate': 0.07, 'max_depth': 3, 'min_samples_split': 3}\n",
      "0.795 (+/-0.017) for {'n_estimators': 100, 'min_samples_leaf': 1, 'learning_rate': 0.07, 'max_depth': 3, 'min_samples_split': 3}\n",
      "0.789 (+/-0.018) for {'n_estimators': 120, 'min_samples_leaf': 1, 'learning_rate': 0.07, 'max_depth': 3, 'min_samples_split': 3}\n",
      "0.793 (+/-0.025) for {'n_estimators': 80, 'min_samples_leaf': 1, 'learning_rate': 0.07, 'max_depth': 3, 'min_samples_split': 4}\n",
      "0.790 (+/-0.027) for {'n_estimators': 100, 'min_samples_leaf': 1, 'learning_rate': 0.07, 'max_depth': 3, 'min_samples_split': 4}\n",
      "0.789 (+/-0.034) for {'n_estimators': 120, 'min_samples_leaf': 1, 'learning_rate': 0.07, 'max_depth': 3, 'min_samples_split': 4}\n",
      "0.795 (+/-0.029) for {'n_estimators': 80, 'min_samples_leaf': 2, 'learning_rate': 0.07, 'max_depth': 3, 'min_samples_split': 2}\n",
      "0.794 (+/-0.035) for {'n_estimators': 100, 'min_samples_leaf': 2, 'learning_rate': 0.07, 'max_depth': 3, 'min_samples_split': 2}\n",
      "0.793 (+/-0.021) for {'n_estimators': 120, 'min_samples_leaf': 2, 'learning_rate': 0.07, 'max_depth': 3, 'min_samples_split': 2}\n",
      "0.795 (+/-0.029) for {'n_estimators': 80, 'min_samples_leaf': 2, 'learning_rate': 0.07, 'max_depth': 3, 'min_samples_split': 3}\n",
      "0.794 (+/-0.035) for {'n_estimators': 100, 'min_samples_leaf': 2, 'learning_rate': 0.07, 'max_depth': 3, 'min_samples_split': 3}\n",
      "0.793 (+/-0.021) for {'n_estimators': 120, 'min_samples_leaf': 2, 'learning_rate': 0.07, 'max_depth': 3, 'min_samples_split': 3}\n",
      "0.795 (+/-0.029) for {'n_estimators': 80, 'min_samples_leaf': 2, 'learning_rate': 0.07, 'max_depth': 3, 'min_samples_split': 4}\n",
      "0.794 (+/-0.035) for {'n_estimators': 100, 'min_samples_leaf': 2, 'learning_rate': 0.07, 'max_depth': 3, 'min_samples_split': 4}\n",
      "0.793 (+/-0.021) for {'n_estimators': 120, 'min_samples_leaf': 2, 'learning_rate': 0.07, 'max_depth': 3, 'min_samples_split': 4}\n",
      "0.793 (+/-0.021) for {'n_estimators': 80, 'min_samples_leaf': 1, 'learning_rate': 0.1, 'max_depth': 3, 'min_samples_split': 2}\n",
      "0.794 (+/-0.023) for {'n_estimators': 100, 'min_samples_leaf': 1, 'learning_rate': 0.1, 'max_depth': 3, 'min_samples_split': 2}\n",
      "0.792 (+/-0.022) for {'n_estimators': 120, 'min_samples_leaf': 1, 'learning_rate': 0.1, 'max_depth': 3, 'min_samples_split': 2}\n",
      "0.793 (+/-0.018) for {'n_estimators': 80, 'min_samples_leaf': 1, 'learning_rate': 0.1, 'max_depth': 3, 'min_samples_split': 3}\n",
      "0.792 (+/-0.020) for {'n_estimators': 100, 'min_samples_leaf': 1, 'learning_rate': 0.1, 'max_depth': 3, 'min_samples_split': 3}\n",
      "0.792 (+/-0.020) for {'n_estimators': 120, 'min_samples_leaf': 1, 'learning_rate': 0.1, 'max_depth': 3, 'min_samples_split': 3}\n",
      "0.792 (+/-0.033) for {'n_estimators': 80, 'min_samples_leaf': 1, 'learning_rate': 0.1, 'max_depth': 3, 'min_samples_split': 4}\n",
      "0.786 (+/-0.022) for {'n_estimators': 100, 'min_samples_leaf': 1, 'learning_rate': 0.1, 'max_depth': 3, 'min_samples_split': 4}\n",
      "0.790 (+/-0.014) for {'n_estimators': 120, 'min_samples_leaf': 1, 'learning_rate': 0.1, 'max_depth': 3, 'min_samples_split': 4}\n",
      "0.793 (+/-0.027) for {'n_estimators': 80, 'min_samples_leaf': 2, 'learning_rate': 0.1, 'max_depth': 3, 'min_samples_split': 2}\n",
      "0.792 (+/-0.014) for {'n_estimators': 100, 'min_samples_leaf': 2, 'learning_rate': 0.1, 'max_depth': 3, 'min_samples_split': 2}\n",
      "0.793 (+/-0.015) for {'n_estimators': 120, 'min_samples_leaf': 2, 'learning_rate': 0.1, 'max_depth': 3, 'min_samples_split': 2}\n",
      "0.793 (+/-0.027) for {'n_estimators': 80, 'min_samples_leaf': 2, 'learning_rate': 0.1, 'max_depth': 3, 'min_samples_split': 3}\n",
      "0.792 (+/-0.014) for {'n_estimators': 100, 'min_samples_leaf': 2, 'learning_rate': 0.1, 'max_depth': 3, 'min_samples_split': 3}\n",
      "0.793 (+/-0.015) for {'n_estimators': 120, 'min_samples_leaf': 2, 'learning_rate': 0.1, 'max_depth': 3, 'min_samples_split': 3}\n",
      "0.793 (+/-0.027) for {'n_estimators': 80, 'min_samples_leaf': 2, 'learning_rate': 0.1, 'max_depth': 3, 'min_samples_split': 4}\n",
      "0.792 (+/-0.014) for {'n_estimators': 100, 'min_samples_leaf': 2, 'learning_rate': 0.1, 'max_depth': 3, 'min_samples_split': 4}\n",
      "0.793 (+/-0.015) for {'n_estimators': 120, 'min_samples_leaf': 2, 'learning_rate': 0.1, 'max_depth': 3, 'min_samples_split': 4}\n",
      "             precision    recall  f1-score   support\n",
      "\n",
      "          0       0.74      0.42      0.53       129\n",
      "          1       0.82      0.95      0.88       371\n",
      "\n",
      "avg / total       0.80      0.81      0.79       500\n",
      "\n",
      "\n"
     ]
    }
   ],
   "source": [
    "\n",
    "\n",
    "# Set the parameters by cross-validation\n",
    "tuned_parameters = {'learning_rate': [0.05, 0.07, 0.1], 'n_estimators': [80, 100, 120],\n",
    "                     'min_samples_split': [2, 3, 4], 'min_samples_leaf': [1, 2], 'max_depth': [3]}\n",
    "\n",
    "\n",
    "gbdt = GradientBoostingClassifier(random_state=0)\n",
    "\n",
    "clf = GridSearchCV(gbdt, tuned_parameters, cv=4)\n",
    "clf.fit(X_train, y_train)\n",
    "\n",
    "print(\"Best parameters set found on development set:\")\n",
    "print()\n",
    "print(clf.best_params_)\n",
    "print()\n",
    "print(\"Grid scores on development set:\")\n",
    "print()\n",
    "means = clf.cv_results_['mean_test_score']\n",
    "stds = clf.cv_results_['std_test_score']\n",
    "for mean, std, params in zip(means, stds, clf.cv_results_['params']):\n",
    "    print(\"%0.3f (+/-%0.03f) for %r\"\n",
    "          % (mean, std * 2, params))\n",
    "\n",
    "y_true, y_pred = y_test, clf.predict(X_test)\n",
    "print(classification_report(y_true, y_pred))\n",
    "print()"
   ]
  },
  {
   "cell_type": "code",
   "execution_count": null,
   "metadata": {
    "collapsed": true
   },
   "outputs": [],
   "source": []
  },
  {
   "cell_type": "code",
   "execution_count": 20,
   "metadata": {
    "collapsed": true
   },
   "outputs": [],
   "source": [
    "X_test_df = pd.read_csv(\"./data/dataset/dataset/shop_classify/test/X_test.txt\", sep='\\t', index_col=0, encoding='UTF-8')"
   ]
  },
  {
   "cell_type": "code",
   "execution_count": 21,
   "metadata": {
    "collapsed": false
   },
   "outputs": [],
   "source": [
    "y_test = clf.predict(X_test_df.values)"
   ]
  },
  {
   "cell_type": "code",
   "execution_count": 22,
   "metadata": {
    "collapsed": true
   },
   "outputs": [],
   "source": [
    "y_test_df = pd.DataFrame(y_test)\n",
    "y_test_df = y_test_df.rename(columns={0:'type'})\n",
    "y_test_df.index.name = 'id'"
   ]
  },
  {
   "cell_type": "code",
   "execution_count": 23,
   "metadata": {
    "collapsed": false
   },
   "outputs": [],
   "source": [
    "y_test_df.to_csv(\"./data/dataset/dataset/shop_classify/test/y_test.txt\", sep='\\t', index=True, encoding='UTF-8')"
   ]
  },
  {
   "cell_type": "code",
   "execution_count": null,
   "metadata": {
    "collapsed": true
   },
   "outputs": [],
   "source": []
  }
 ],
 "metadata": {
  "anaconda-cloud": {},
  "kernelspec": {
   "display_name": "Python [conda root]",
   "language": "python",
   "name": "conda-root-py"
  },
  "language_info": {
   "codemirror_mode": {
    "name": "ipython",
    "version": 3
   },
   "file_extension": ".py",
   "mimetype": "text/x-python",
   "name": "python",
   "nbconvert_exporter": "python",
   "pygments_lexer": "ipython3",
   "version": "3.5.2"
  }
 },
 "nbformat": 4,
 "nbformat_minor": 1
}
