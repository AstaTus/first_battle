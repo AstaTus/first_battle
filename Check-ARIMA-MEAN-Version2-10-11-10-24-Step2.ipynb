{
 "cells": [
  {
   "cell_type": "code",
   "execution_count": 1,
   "metadata": {
    "collapsed": false
   },
   "outputs": [
    {
     "name": "stderr",
     "output_type": "stream",
     "text": [
      "C:\\Program Files\\Anaconda3\\lib\\site-packages\\matplotlib\\__init__.py:1357: UserWarning:  This call to matplotlib.use() has no effect\n",
      "because the backend has already been chosen;\n",
      "matplotlib.use() must be called *before* pylab, matplotlib.pyplot,\n",
      "or matplotlib.backends is imported for the first time.\n",
      "\n",
      "  warnings.warn(_use_error_msg)\n"
     ]
    }
   ],
   "source": [
    "import numpy as np\n",
    "import pandas as pd\n",
    "import matplotlib.pyplot as plt\n",
    "import seaborn as sns\n",
    "from datetime import datetime\n",
    "import datetime\n",
    "import time\n",
    "import predict\n",
    "import base\n",
    "import shop_classify as sc\n",
    "\n",
    "import matplotlib\n",
    "myfont = matplotlib.font_manager.FontProperties(fname=r'C:/Windows/Fonts/msyh.ttf')\n",
    "matplotlib.use('qt4agg')  \n",
    "#指定默认字体  \n",
    "matplotlib.rcParams['font.sans-serif'] = ['SimHei']   \n",
    "matplotlib.rcParams['font.family']='sans-serif'  \n",
    "#解决负号'-'显示为方块的问题  \n",
    "matplotlib.rcParams['axes.unicode_minus'] = False \n",
    "\n",
    "%load_ext autoreload\n",
    "%autoreload 2"
   ]
  },
  {
   "cell_type": "code",
   "execution_count": 2,
   "metadata": {
    "collapsed": true
   },
   "outputs": [],
   "source": [
    "#读取休假表\n",
    "calenders = base.ReadCalendarCSV();\n",
    "#读取user_pay_count\n",
    "user_pay_counts = base.ReadUserPayCountCSV();\n",
    "###读取处理过的商家信息\n",
    "shop_infos = base.ReadProcessShopInfoCSV();\n",
    "##读取城市名称对照表\n",
    "city_names = base.ReadCityNameCSV();\n",
    "#读取开店时间数据\n",
    "shop_open_dates = base.ReadShopOpenDateCSV();\n"
   ]
  },
  {
   "cell_type": "code",
   "execution_count": 3,
   "metadata": {
    "collapsed": true
   },
   "outputs": [],
   "source": [
    "%reload_ext autoreload"
   ]
  },
  {
   "cell_type": "code",
   "execution_count": 4,
   "metadata": {
    "collapsed": true
   },
   "outputs": [],
   "source": [
    "###读取处理过的商家信息\n",
    "shop_infos = base.ReadProcessShopInfoCSV();"
   ]
  },
  {
   "cell_type": "code",
   "execution_count": 5,
   "metadata": {
    "collapsed": true
   },
   "outputs": [],
   "source": [
    "names = ['3_1', '3_2', '3_3', 'arima']\n",
    "train_predictions = []\n",
    "train_evaluations = []\n",
    "\n",
    "for i in range(len(names)):\n",
    "    train_evaluations.append(pd.read_csv(\"./data/dataset/dataset/shop_classify/check/train/\" + names[i] + \"_evaluation.txt\", sep='\\t', encoding='UTF-8', index_col=0))\n",
    "    train_predictions.append(pd.read_csv(\"./data/dataset/dataset/shop_classify/check/train/\" + names[i] + \"_prediction.txt\", sep='\\t', encoding='UTF-8', index_col=0))"
   ]
  },
  {
   "cell_type": "code",
   "execution_count": 6,
   "metadata": {
    "collapsed": true
   },
   "outputs": [],
   "source": [
    "#生成训练集"
   ]
  },
  {
   "cell_type": "code",
   "execution_count": 7,
   "metadata": {
    "collapsed": true
   },
   "outputs": [],
   "source": [
    "#真实数据2016-9-20~~2016-9-20 + 2016-11-10~~2016-10-24\n",
    "#calculatePeriodParams(shop_open_dates, user_pay_counts, calenders, start_time, end_time):"
   ]
  },
  {
   "cell_type": "code",
   "execution_count": 8,
   "metadata": {
    "collapsed": true
   },
   "outputs": [],
   "source": [
    "train_pay_counts = pd.read_csv(\"./data/dataset/dataset/shop_classify/check/train/preprocess_data.txt\", sep=\"\\t\", encoding='UTF-8', index_col=0)"
   ]
  },
  {
   "cell_type": "code",
   "execution_count": 9,
   "metadata": {
    "collapsed": true
   },
   "outputs": [],
   "source": [
    "train_pay_counts.columns = range(0,21)"
   ]
  },
  {
   "cell_type": "code",
   "execution_count": null,
   "metadata": {
    "collapsed": false
   },
   "outputs": [],
   "source": []
  },
  {
   "cell_type": "code",
   "execution_count": 10,
   "metadata": {
    "collapsed": false
   },
   "outputs": [
    {
     "data": {
      "text/plain": [
       "1       232.428571\n",
       "2        83.571429\n",
       "3        76.857143\n",
       "4       124.000000\n",
       "5       218.285714\n",
       "6        75.857143\n",
       "7       132.000000\n",
       "8        64.571429\n",
       "9       249.571429\n",
       "10       80.571429\n",
       "11       79.714286\n",
       "12       83.000000\n",
       "13      229.571429\n",
       "14       69.142857\n",
       "15      140.285714\n",
       "16       48.714286\n",
       "17       99.714286\n",
       "18       87.571429\n",
       "19      165.000000\n",
       "20      137.714286\n",
       "21       92.571429\n",
       "22       87.000000\n",
       "23      110.857143\n",
       "24       71.428571\n",
       "25      117.428571\n",
       "26       82.857143\n",
       "27       84.714286\n",
       "28       76.714286\n",
       "29      114.428571\n",
       "30       38.285714\n",
       "           ...    \n",
       "1971    228.000000\n",
       "1972     81.857143\n",
       "1973     62.142857\n",
       "1974    153.571429\n",
       "1975    182.857143\n",
       "1976     90.571429\n",
       "1977    147.714286\n",
       "1978    132.142857\n",
       "1979     73.714286\n",
       "1980     52.428571\n",
       "1981     87.428571\n",
       "1982     66.428571\n",
       "1983     67.428571\n",
       "1984     60.857143\n",
       "1985    417.571429\n",
       "1986    101.714286\n",
       "1987     68.142857\n",
       "1988    211.571429\n",
       "1989     70.285714\n",
       "1990     96.714286\n",
       "1991    140.428571\n",
       "1992     61.857143\n",
       "1993     77.428571\n",
       "1994    154.428571\n",
       "1995     58.428571\n",
       "1996     84.000000\n",
       "1997    220.142857\n",
       "1998    362.000000\n",
       "1999    332.857143\n",
       "2000    123.857143\n",
       "dtype: float64"
      ]
     },
     "execution_count": 10,
     "metadata": {},
     "output_type": "execute_result"
    }
   ],
   "source": [
    "np.mean(train_pay_counts[np.array(range(0,7))],axis=1)"
   ]
  },
  {
   "cell_type": "code",
   "execution_count": 11,
   "metadata": {
    "collapsed": false
   },
   "outputs": [],
   "source": [
    "week_num = 3\n",
    "\n",
    "func_names = ['mean', 'std', 'max', 'min']\n",
    "funcs = [np.mean, np.std, np.max, np.min]\n",
    "real_params = {}\n",
    "\n",
    "for t in range(len(func_names)):\n",
    "    params = []\n",
    "    for w in range(week_num):\n",
    "        params.append(funcs[t](train_pay_counts[np.array(range(w*7, w*7+7))],axis=1))\n",
    "    \n",
    "    real_params[func_names[t]] = params"
   ]
  },
  {
   "cell_type": "code",
   "execution_count": 12,
   "metadata": {
    "collapsed": false
   },
   "outputs": [
    {
     "data": {
      "text/plain": [
       "1       264\n",
       "2       155\n",
       "3       119\n",
       "4       200\n",
       "5       274\n",
       "6       137\n",
       "7       208\n",
       "8       103\n",
       "9       282\n",
       "10      111\n",
       "11      113\n",
       "12       83\n",
       "13      297\n",
       "14       79\n",
       "15      203\n",
       "16       69\n",
       "17      123\n",
       "18      112\n",
       "19      255\n",
       "20      167\n",
       "21      114\n",
       "22      127\n",
       "23       18\n",
       "24      124\n",
       "25      147\n",
       "26      147\n",
       "27      101\n",
       "28       86\n",
       "29      187\n",
       "30       58\n",
       "       ... \n",
       "1971    263\n",
       "1972    151\n",
       "1973     76\n",
       "1974    190\n",
       "1975    274\n",
       "1976    107\n",
       "1977    158\n",
       "1978    273\n",
       "1979     74\n",
       "1980     68\n",
       "1981    111\n",
       "1982     81\n",
       "1983    123\n",
       "1984     69\n",
       "1985    571\n",
       "1986    105\n",
       "1987    145\n",
       "1988    305\n",
       "1989    143\n",
       "1990    119\n",
       "1991    150\n",
       "1992    121\n",
       "1993     80\n",
       "1994    158\n",
       "1995     71\n",
       "1996     89\n",
       "1997    341\n",
       "1998    513\n",
       "1999    538\n",
       "2000    177\n",
       "dtype: int64"
      ]
     },
     "execution_count": 12,
     "metadata": {},
     "output_type": "execute_result"
    }
   ],
   "source": [
    "real_params['max'][1]"
   ]
  },
  {
   "cell_type": "code",
   "execution_count": 13,
   "metadata": {
    "collapsed": true
   },
   "outputs": [],
   "source": [
    "predict_params = []\n",
    "\n",
    "for i in range(len(names)):\n",
    "    predction = train_predictions[i];\n",
    "    predict_params.append([predction.mean(axis=1), predction.std(axis=1), predction.max(axis=1), predction.min(axis=1)])"
   ]
  },
  {
   "cell_type": "code",
   "execution_count": 14,
   "metadata": {
    "collapsed": false
   },
   "outputs": [
    {
     "data": {
      "text/plain": [
       "1       229.714286\n",
       "2        92.714286\n",
       "3        83.428571\n",
       "4       121.142857\n",
       "5       229.142857\n",
       "6        99.000000\n",
       "7       138.142857\n",
       "8        69.571429\n",
       "9       228.714286\n",
       "10       94.857143\n",
       "11       82.571429\n",
       "12       58.714286\n",
       "13      243.285714\n",
       "14       53.571429\n",
       "15      143.000000\n",
       "16       48.857143\n",
       "17       94.857143\n",
       "18       79.571429\n",
       "19      166.857143\n",
       "20      150.142857\n",
       "21       86.714286\n",
       "22      105.142857\n",
       "23        9.714286\n",
       "24       92.142857\n",
       "25      122.857143\n",
       "26       88.285714\n",
       "27       83.857143\n",
       "28       70.285714\n",
       "29      117.714286\n",
       "30       43.857143\n",
       "           ...    \n",
       "1971    215.714286\n",
       "1972     90.142857\n",
       "1973     51.571429\n",
       "1974    148.142857\n",
       "1975    209.142857\n",
       "1976     95.857143\n",
       "1977    131.000000\n",
       "1978    198.285714\n",
       "1979     65.857143\n",
       "1980     49.714286\n",
       "1981     99.000000\n",
       "1982     63.714286\n",
       "1983     96.571429\n",
       "1984     57.000000\n",
       "1985    477.142857\n",
       "1986     92.428571\n",
       "1987     70.571429\n",
       "1988    204.571429\n",
       "1989     77.428571\n",
       "1990     93.571429\n",
       "1991    131.142857\n",
       "1992     77.857143\n",
       "1993     65.285714\n",
       "1994    142.285714\n",
       "1995     63.285714\n",
       "1996     77.142857\n",
       "1997    238.142857\n",
       "1998    446.857143\n",
       "1999    354.142857\n",
       "2000    132.571429\n",
       "dtype: float64"
      ]
     },
     "execution_count": 14,
     "metadata": {},
     "output_type": "execute_result"
    }
   ],
   "source": [
    "predict_params[1][0]"
   ]
  },
  {
   "cell_type": "code",
   "execution_count": 15,
   "metadata": {
    "collapsed": false
   },
   "outputs": [],
   "source": [
    "def initFeatures(t):\n",
    "    X_train_df = pd.DataFrame()\n",
    "    X_train_df['mean1'] = real_params['mean'][0]\n",
    "    X_train_df['mean2'] = real_params['mean'][1]\n",
    "    X_train_df['mean3'] = real_params['mean'][2]\n",
    "    X_train_df['std1'] = real_params['std'][0]\n",
    "    X_train_df['std2'] = real_params['std'][1]\n",
    "    X_train_df['std3'] = real_params['std'][2]\n",
    "    X_train_df['min1'] = real_params['min'][0]\n",
    "    X_train_df['min2'] = real_params['min'][1]\n",
    "    X_train_df['min3'] = real_params['min'][2]\n",
    "    X_train_df['max1'] = real_params['max'][0]\n",
    "    X_train_df['max2'] = real_params['max'][1]\n",
    "    X_train_df['max3'] = real_params['max'][2]\n",
    "    X_train_df['mean_diff1'] = real_params['mean'][0] - real_params['mean'][1]\n",
    "    X_train_df['mean_diff2'] = real_params['mean'][1] - real_params['mean'][2]\n",
    "    X_train_df['mean_diff3'] = real_params['mean'][2] - real_params['mean'][0]\n",
    "\n",
    "    X_train_df['std_diff1'] = real_params['std'][0] - real_params['std'][1]\n",
    "    X_train_df['std_diff2'] = real_params['std'][1] - real_params['std'][2]\n",
    "    X_train_df['std_diff3'] = real_params['std'][2] - real_params['std'][0]\n",
    "\n",
    "    X_train_df['max_diff1'] = real_params['max'][0] - real_params['max'][1]\n",
    "    X_train_df['max_diff2'] = real_params['max'][1] - real_params['max'][2]\n",
    "    X_train_df['max_diff3'] = real_params['max'][2] - real_params['max'][0]\n",
    "\n",
    "    X_train_df['min_diff1'] = real_params['min'][0] - real_params['min'][1]\n",
    "    X_train_df['min_diff2'] = real_params['min'][1] - real_params['min'][2]\n",
    "    X_train_df['min_diff3'] = real_params['min'][2] - real_params['min'][0]\n",
    "\n",
    "#     if t == '3_1':\n",
    "#         X_train_df['mean4_pred_1'] = predict_params[0][0]\n",
    "#         X_train_df['std4_pred_1'] = predict_params[0][1]\n",
    "#         X_train_df['max4_pred_1'] = predict_params[0][2]\n",
    "#         X_train_df['min4_pred_1'] = predict_params[0][3]\n",
    "#     elif t == '3_2':\n",
    "#         X_train_df['mean4_pred_1'] = predict_params[1][0]\n",
    "#         X_train_df['std4_pred_1'] = predict_params[1][1]\n",
    "#         X_train_df['max4_pred_1'] = predict_params[1][2]\n",
    "#         X_train_df['min4_pred_1'] = predict_params[1][3]\n",
    "#     elif t == '3_3':\n",
    "#         X_train_df['mean4_pred_1'] = predict_params[2][0]\n",
    "#         X_train_df['std4_pred_1'] = predict_params[2][1]\n",
    "#         X_train_df['max4_pred_1'] = predict_params[2][2]\n",
    "#         X_train_df['min4_pred_1'] = predict_params[2][3]\n",
    "\n",
    "\n",
    "    X_train_df = X_train_df.astype(np.int)\n",
    "    X_train_df = pd.concat([X_train_df, shop_infos], axis=1)\n",
    "    return X_train_df;"
   ]
  },
  {
   "cell_type": "code",
   "execution_count": 16,
   "metadata": {
    "collapsed": false
   },
   "outputs": [],
   "source": [
    "mean_type = '3_3'\n",
    "X_train_df = initFeatures(mean_type)"
   ]
  },
  {
   "cell_type": "code",
   "execution_count": 17,
   "metadata": {
    "collapsed": false
   },
   "outputs": [],
   "source": [
    "#[\"2_2_1\", '2_2_2', '3_3_1', '3_3_2', '3_3_3', 'arima']\n",
    "#[\"2_2_1\", '2_2_2', '3_3_1', '3_3_2', '3_3_3', 'arima']\n",
    "def changeType(name):\n",
    "    if name == 'arima':\n",
    "        return 1\n",
    "    else:\n",
    "        return 0;"
   ]
  },
  {
   "cell_type": "code",
   "execution_count": 18,
   "metadata": {
    "collapsed": false
   },
   "outputs": [],
   "source": [
    "combine_df = pd.DataFrame()\n",
    "for i in range(len(names)):\n",
    "    combine_df[names[i]] = train_evaluations[i]['evaluation']"
   ]
  },
  {
   "cell_type": "code",
   "execution_count": 19,
   "metadata": {
    "collapsed": false
   },
   "outputs": [],
   "source": [
    "delta = 0.01\n",
    "diff_evaluation = combine_df['arima'][combine_df[mean_type] - combine_df['arima'] > delta]"
   ]
  },
  {
   "cell_type": "code",
   "execution_count": 20,
   "metadata": {
    "collapsed": false
   },
   "outputs": [],
   "source": [
    "combine_df[mean_type] = combine_df[mean_type].apply(lambda e : e - delta)"
   ]
  },
  {
   "cell_type": "code",
   "execution_count": 21,
   "metadata": {
    "collapsed": false
   },
   "outputs": [],
   "source": [
    "y_train_df = combine_df[['arima', mean_type]].idxmin(1)"
   ]
  },
  {
   "cell_type": "code",
   "execution_count": 22,
   "metadata": {
    "collapsed": false
   },
   "outputs": [],
   "source": [
    "y_train_df = y_train_df.apply(changeType)"
   ]
  },
  {
   "cell_type": "code",
   "execution_count": 23,
   "metadata": {
    "collapsed": false
   },
   "outputs": [
    {
     "data": {
      "text/plain": [
       "0    1764\n",
       "1     236\n",
       "dtype: int64"
      ]
     },
     "execution_count": 23,
     "metadata": {},
     "output_type": "execute_result"
    }
   ],
   "source": [
    "y_train_df.value_counts()"
   ]
  },
  {
   "cell_type": "code",
   "execution_count": 24,
   "metadata": {
    "collapsed": false
   },
   "outputs": [
    {
     "data": {
      "text/html": [
       "<div>\n",
       "<table border=\"1\" class=\"dataframe\">\n",
       "  <thead>\n",
       "    <tr style=\"text-align: right;\">\n",
       "      <th></th>\n",
       "      <th>arima</th>\n",
       "    </tr>\n",
       "    <tr>\n",
       "      <th>id</th>\n",
       "      <th></th>\n",
       "    </tr>\n",
       "  </thead>\n",
       "  <tbody>\n",
       "    <tr>\n",
       "      <th>1012</th>\n",
       "      <td>0.019339</td>\n",
       "    </tr>\n",
       "    <tr>\n",
       "      <th>145</th>\n",
       "      <td>0.021382</td>\n",
       "    </tr>\n",
       "    <tr>\n",
       "      <th>395</th>\n",
       "      <td>0.022808</td>\n",
       "    </tr>\n",
       "    <tr>\n",
       "      <th>481</th>\n",
       "      <td>0.027326</td>\n",
       "    </tr>\n",
       "    <tr>\n",
       "      <th>1610</th>\n",
       "      <td>0.028371</td>\n",
       "    </tr>\n",
       "    <tr>\n",
       "      <th>185</th>\n",
       "      <td>0.028696</td>\n",
       "    </tr>\n",
       "    <tr>\n",
       "      <th>1363</th>\n",
       "      <td>0.029478</td>\n",
       "    </tr>\n",
       "    <tr>\n",
       "      <th>1937</th>\n",
       "      <td>0.030025</td>\n",
       "    </tr>\n",
       "    <tr>\n",
       "      <th>1667</th>\n",
       "      <td>0.031715</td>\n",
       "    </tr>\n",
       "    <tr>\n",
       "      <th>1341</th>\n",
       "      <td>0.032497</td>\n",
       "    </tr>\n",
       "    <tr>\n",
       "      <th>1976</th>\n",
       "      <td>0.032760</td>\n",
       "    </tr>\n",
       "    <tr>\n",
       "      <th>1791</th>\n",
       "      <td>0.032883</td>\n",
       "    </tr>\n",
       "    <tr>\n",
       "      <th>356</th>\n",
       "      <td>0.033273</td>\n",
       "    </tr>\n",
       "    <tr>\n",
       "      <th>1859</th>\n",
       "      <td>0.034730</td>\n",
       "    </tr>\n",
       "    <tr>\n",
       "      <th>1015</th>\n",
       "      <td>0.036332</td>\n",
       "    </tr>\n",
       "    <tr>\n",
       "      <th>1888</th>\n",
       "      <td>0.036754</td>\n",
       "    </tr>\n",
       "    <tr>\n",
       "      <th>965</th>\n",
       "      <td>0.036819</td>\n",
       "    </tr>\n",
       "    <tr>\n",
       "      <th>1111</th>\n",
       "      <td>0.038968</td>\n",
       "    </tr>\n",
       "    <tr>\n",
       "      <th>1073</th>\n",
       "      <td>0.039309</td>\n",
       "    </tr>\n",
       "    <tr>\n",
       "      <th>409</th>\n",
       "      <td>0.039753</td>\n",
       "    </tr>\n",
       "    <tr>\n",
       "      <th>1244</th>\n",
       "      <td>0.039968</td>\n",
       "    </tr>\n",
       "    <tr>\n",
       "      <th>152</th>\n",
       "      <td>0.040025</td>\n",
       "    </tr>\n",
       "    <tr>\n",
       "      <th>1504</th>\n",
       "      <td>0.040680</td>\n",
       "    </tr>\n",
       "    <tr>\n",
       "      <th>906</th>\n",
       "      <td>0.040895</td>\n",
       "    </tr>\n",
       "    <tr>\n",
       "      <th>247</th>\n",
       "      <td>0.041313</td>\n",
       "    </tr>\n",
       "    <tr>\n",
       "      <th>1603</th>\n",
       "      <td>0.042052</td>\n",
       "    </tr>\n",
       "    <tr>\n",
       "      <th>475</th>\n",
       "      <td>0.042099</td>\n",
       "    </tr>\n",
       "    <tr>\n",
       "      <th>977</th>\n",
       "      <td>0.042199</td>\n",
       "    </tr>\n",
       "    <tr>\n",
       "      <th>742</th>\n",
       "      <td>0.042575</td>\n",
       "    </tr>\n",
       "    <tr>\n",
       "      <th>71</th>\n",
       "      <td>0.042844</td>\n",
       "    </tr>\n",
       "    <tr>\n",
       "      <th>...</th>\n",
       "      <td>...</td>\n",
       "    </tr>\n",
       "    <tr>\n",
       "      <th>840</th>\n",
       "      <td>0.138320</td>\n",
       "    </tr>\n",
       "    <tr>\n",
       "      <th>635</th>\n",
       "      <td>0.142632</td>\n",
       "    </tr>\n",
       "    <tr>\n",
       "      <th>492</th>\n",
       "      <td>0.143029</td>\n",
       "    </tr>\n",
       "    <tr>\n",
       "      <th>222</th>\n",
       "      <td>0.143086</td>\n",
       "    </tr>\n",
       "    <tr>\n",
       "      <th>97</th>\n",
       "      <td>0.143664</td>\n",
       "    </tr>\n",
       "    <tr>\n",
       "      <th>769</th>\n",
       "      <td>0.144883</td>\n",
       "    </tr>\n",
       "    <tr>\n",
       "      <th>735</th>\n",
       "      <td>0.148167</td>\n",
       "    </tr>\n",
       "    <tr>\n",
       "      <th>170</th>\n",
       "      <td>0.149803</td>\n",
       "    </tr>\n",
       "    <tr>\n",
       "      <th>1436</th>\n",
       "      <td>0.153789</td>\n",
       "    </tr>\n",
       "    <tr>\n",
       "      <th>437</th>\n",
       "      <td>0.153906</td>\n",
       "    </tr>\n",
       "    <tr>\n",
       "      <th>1721</th>\n",
       "      <td>0.155362</td>\n",
       "    </tr>\n",
       "    <tr>\n",
       "      <th>254</th>\n",
       "      <td>0.162017</td>\n",
       "    </tr>\n",
       "    <tr>\n",
       "      <th>1397</th>\n",
       "      <td>0.162463</td>\n",
       "    </tr>\n",
       "    <tr>\n",
       "      <th>381</th>\n",
       "      <td>0.167195</td>\n",
       "    </tr>\n",
       "    <tr>\n",
       "      <th>1740</th>\n",
       "      <td>0.186760</td>\n",
       "    </tr>\n",
       "    <tr>\n",
       "      <th>202</th>\n",
       "      <td>0.189718</td>\n",
       "    </tr>\n",
       "    <tr>\n",
       "      <th>81</th>\n",
       "      <td>0.196258</td>\n",
       "    </tr>\n",
       "    <tr>\n",
       "      <th>512</th>\n",
       "      <td>0.197030</td>\n",
       "    </tr>\n",
       "    <tr>\n",
       "      <th>1050</th>\n",
       "      <td>0.198532</td>\n",
       "    </tr>\n",
       "    <tr>\n",
       "      <th>1161</th>\n",
       "      <td>0.225196</td>\n",
       "    </tr>\n",
       "    <tr>\n",
       "      <th>491</th>\n",
       "      <td>0.227069</td>\n",
       "    </tr>\n",
       "    <tr>\n",
       "      <th>1803</th>\n",
       "      <td>0.237042</td>\n",
       "    </tr>\n",
       "    <tr>\n",
       "      <th>1973</th>\n",
       "      <td>0.263168</td>\n",
       "    </tr>\n",
       "    <tr>\n",
       "      <th>308</th>\n",
       "      <td>0.281484</td>\n",
       "    </tr>\n",
       "    <tr>\n",
       "      <th>1650</th>\n",
       "      <td>0.288762</td>\n",
       "    </tr>\n",
       "    <tr>\n",
       "      <th>752</th>\n",
       "      <td>0.327874</td>\n",
       "    </tr>\n",
       "    <tr>\n",
       "      <th>5</th>\n",
       "      <td>0.340457</td>\n",
       "    </tr>\n",
       "    <tr>\n",
       "      <th>1145</th>\n",
       "      <td>0.368954</td>\n",
       "    </tr>\n",
       "    <tr>\n",
       "      <th>1526</th>\n",
       "      <td>0.425332</td>\n",
       "    </tr>\n",
       "    <tr>\n",
       "      <th>659</th>\n",
       "      <td>0.447581</td>\n",
       "    </tr>\n",
       "  </tbody>\n",
       "</table>\n",
       "<p>236 rows × 1 columns</p>\n",
       "</div>"
      ],
      "text/plain": [
       "         arima\n",
       "id            \n",
       "1012  0.019339\n",
       "145   0.021382\n",
       "395   0.022808\n",
       "481   0.027326\n",
       "1610  0.028371\n",
       "185   0.028696\n",
       "1363  0.029478\n",
       "1937  0.030025\n",
       "1667  0.031715\n",
       "1341  0.032497\n",
       "1976  0.032760\n",
       "1791  0.032883\n",
       "356   0.033273\n",
       "1859  0.034730\n",
       "1015  0.036332\n",
       "1888  0.036754\n",
       "965   0.036819\n",
       "1111  0.038968\n",
       "1073  0.039309\n",
       "409   0.039753\n",
       "1244  0.039968\n",
       "152   0.040025\n",
       "1504  0.040680\n",
       "906   0.040895\n",
       "247   0.041313\n",
       "1603  0.042052\n",
       "475   0.042099\n",
       "977   0.042199\n",
       "742   0.042575\n",
       "71    0.042844\n",
       "...        ...\n",
       "840   0.138320\n",
       "635   0.142632\n",
       "492   0.143029\n",
       "222   0.143086\n",
       "97    0.143664\n",
       "769   0.144883\n",
       "735   0.148167\n",
       "170   0.149803\n",
       "1436  0.153789\n",
       "437   0.153906\n",
       "1721  0.155362\n",
       "254   0.162017\n",
       "1397  0.162463\n",
       "381   0.167195\n",
       "1740  0.186760\n",
       "202   0.189718\n",
       "81    0.196258\n",
       "512   0.197030\n",
       "1050  0.198532\n",
       "1161  0.225196\n",
       "491   0.227069\n",
       "1803  0.237042\n",
       "1973  0.263168\n",
       "308   0.281484\n",
       "1650  0.288762\n",
       "752   0.327874\n",
       "5     0.340457\n",
       "1145  0.368954\n",
       "1526  0.425332\n",
       "659   0.447581\n",
       "\n",
       "[236 rows x 1 columns]"
      ]
     },
     "execution_count": 24,
     "metadata": {},
     "output_type": "execute_result"
    }
   ],
   "source": [
    "diff_evaluation.to_frame().sort_values('arima')"
   ]
  },
  {
   "cell_type": "code",
   "execution_count": 25,
   "metadata": {
    "collapsed": true
   },
   "outputs": [],
   "source": [
    "y_train_df.to_csv(\"./data/dataset/dataset/shop_classify/check/train/y_train.txt\", sep='\\t', index=True, encoding='UTF-8')"
   ]
  },
  {
   "cell_type": "code",
   "execution_count": 26,
   "metadata": {
    "collapsed": false
   },
   "outputs": [],
   "source": [
    "\n",
    "X_train_df.to_csv(\"./data/dataset/dataset/shop_classify/check/train/X_train.txt\", sep='\\t', index=True, encoding='UTF-8')"
   ]
  },
  {
   "cell_type": "code",
   "execution_count": 120,
   "metadata": {
    "collapsed": true
   },
   "outputs": [],
   "source": [
    "%reload_ext autoreload"
   ]
  },
  {
   "cell_type": "code",
   "execution_count": null,
   "metadata": {
    "collapsed": true
   },
   "outputs": [],
   "source": []
  }
 ],
 "metadata": {
  "anaconda-cloud": {},
  "kernelspec": {
   "display_name": "Python [conda root]",
   "language": "python",
   "name": "conda-root-py"
  },
  "language_info": {
   "codemirror_mode": {
    "name": "ipython",
    "version": 3
   },
   "file_extension": ".py",
   "mimetype": "text/x-python",
   "name": "python",
   "nbconvert_exporter": "python",
   "pygments_lexer": "ipython3",
   "version": "3.5.2"
  }
 },
 "nbformat": 4,
 "nbformat_minor": 1
}
