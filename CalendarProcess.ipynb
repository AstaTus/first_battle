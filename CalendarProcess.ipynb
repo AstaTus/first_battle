{
 "cells": [
  {
   "cell_type": "code",
   "execution_count": 1,
   "metadata": {
    "collapsed": true
   },
   "outputs": [],
   "source": [
    "import numpy as np\n",
    "import pandas as pd\n",
    "from datetime import datetime\n",
    "import datetime"
   ]
  },
  {
   "cell_type": "code",
   "execution_count": 6,
   "metadata": {
    "collapsed": false
   },
   "outputs": [],
   "source": [
    "date_seroes = pd.date_range(start='6/25/2015', end='10/31/2016', freq='D', normalize=True)\n",
    "s = pd.Series((date_seroes[i].dayofweek for i in range(len(date_seroes))), index=date_seroes)"
   ]
  },
  {
   "cell_type": "code",
   "execution_count": 7,
   "metadata": {
    "collapsed": false
   },
   "outputs": [],
   "source": [
    "#0休息 1工作日\n",
    "t = s.apply(lambda day: 1 if day >= 1 and day <= 5 else 0 )"
   ]
  },
  {
   "cell_type": "code",
   "execution_count": 8,
   "metadata": {
    "collapsed": false
   },
   "outputs": [],
   "source": [
    "#法定假日修正\n",
    "t['2015-09-03'] = 0\n",
    "t['2015-09-04'] = 0\n",
    "t['2015-09-06'] = 1\n",
    "\n",
    "t['2015-10-01'] = 0\n",
    "t['2015-10-02'] = 0\n",
    "t['2015-10-05'] = 0\n",
    "t['2015-10-06'] = 0\n",
    "t['2015-10-07'] = 0\n",
    "t['2015-10-10'] = 1\n",
    "\n",
    "t['2016-01-01'] = 0\n",
    "\n",
    "t['2016-02-06'] = 1\n",
    "t['2016-02-08'] = 0\n",
    "t['2016-02-09'] = 0\n",
    "t['2016-02-10'] = 0\n",
    "t['2016-02-11'] = 0\n",
    "t['2016-02-12'] = 0\n",
    "t['2016-02-14'] = 1\n",
    "\n",
    "t['2016-04-04'] = 0\n",
    "\n",
    "t['2016-05-02'] = 0\n",
    "\n",
    "t['2016-06-09'] = 0\n",
    "t['2016-06-10'] = 0\n",
    "t['2016-06-12'] = 1\n",
    "\n",
    "t['2016-09-15'] = 0\n",
    "t['2016-09-16'] = 0\n",
    "t['2016-09-18'] = 1\n",
    "\n",
    "t['2016-10-03'] = 0\n",
    "t['2016-10-04'] = 0\n",
    "t['2016-10-05'] = 0\n",
    "t['2016-10-06'] = 0\n",
    "t['2016-10-07'] = 0\n",
    "t['2016-10-08'] = 1\n",
    "t['2016-10-09'] = 1\n",
    "\n"
   ]
  },
  {
   "cell_type": "code",
   "execution_count": null,
   "metadata": {
    "collapsed": true
   },
   "outputs": [],
   "source": [
    "#calendar_df = t.to_frame()\n",
    "#calendar_df\n",
    "#假期长短和明天是否假期，加入特征值"
   ]
  },
  {
   "cell_type": "code",
   "execution_count": 9,
   "metadata": {
    "collapsed": false
   },
   "outputs": [],
   "source": [
    "t.to_csv(\"./data/dataset/dataset/calendar.txt\", sep='\\t', index=True, encoding='UTF-8')"
   ]
  },
  {
   "cell_type": "code",
   "execution_count": null,
   "metadata": {
    "collapsed": true
   },
   "outputs": [],
   "source": []
  }
 ],
 "metadata": {
  "anaconda-cloud": {},
  "kernelspec": {
   "display_name": "Python [conda root]",
   "language": "python",
   "name": "conda-root-py"
  },
  "language_info": {
   "codemirror_mode": {
    "name": "ipython",
    "version": 3
   },
   "file_extension": ".py",
   "mimetype": "text/x-python",
   "name": "python",
   "nbconvert_exporter": "python",
   "pygments_lexer": "ipython3",
   "version": "3.5.2"
  }
 },
 "nbformat": 4,
 "nbformat_minor": 1
}
