{
 "cells": [
  {
   "cell_type": "code",
   "execution_count": 1,
   "metadata": {
    "collapsed": true
   },
   "outputs": [],
   "source": [
    "import re\n",
    "import sys\n",
    "import os\n",
    "import numpy as np\n",
    "import pandas as pd\n",
    "import matplotlib.pyplot as plt\n",
    "import seaborn as sns\n",
    "from datetime import datetime\n",
    "import datetime"
   ]
  },
  {
   "cell_type": "code",
   "execution_count": 3,
   "metadata": {
    "collapsed": false
   },
   "outputs": [],
   "source": [
    "date_seroes = pd.date_range(start='6/25/2015', end='11/14/2016', freq='D', normalize=True)\n",
    "s = pd.Series((date_seroes[i].dayofweek for i in range(len(date_seroes))), index=date_seroes)"
   ]
  },
  {
   "cell_type": "code",
   "execution_count": 8,
   "metadata": {
    "collapsed": false
   },
   "outputs": [],
   "source": [
    "#0休息 1工作日\n",
    "t = s.apply(lambda day: 1 if day >= 1 and day <= 5 else 0 )"
   ]
  },
  {
   "cell_type": "code",
   "execution_count": 12,
   "metadata": {
    "collapsed": false
   },
   "outputs": [
    {
     "data": {
      "text/plain": [
       "1"
      ]
     },
     "execution_count": 12,
     "metadata": {},
     "output_type": "execute_result"
    }
   ],
   "source": [
    "#法定假日修正\n",
    "t['2015-09-03'] = 0\n",
    "t['2015-09-04'] = 0\n",
    "t['2015-09-06'] = 1\n",
    "\n",
    "t['2015-10-01'] = 0\n",
    "t['2015-10-02'] = 0\n",
    "t['2015-10-05'] = 0\n",
    "t['2015-10-06'] = 0\n",
    "t['2015-10-07'] = 0\n",
    "t['2015-10-10'] = 1\n",
    "\n",
    "t['2016-01-01'] = 0\n",
    "\n",
    "t['2016-02-06'] = 1\n",
    "t['2016-02-08'] = 0\n",
    "t['2016-02-09'] = 0\n",
    "t['2016-02-10'] = 0\n",
    "t['2016-02-11'] = 0\n",
    "t['2016-02-12'] = 0\n",
    "t['2016-02-14'] = 1\n",
    "\n",
    "t['2016-04-04'] = 0\n",
    "\n",
    "t['2016-05-02'] = 0\n",
    "\n",
    "t['2016-06-09'] = 0\n",
    "t['2016-06-10'] = 0\n",
    "t['2016-06-12'] = 1\n",
    "\n",
    "t['2016-09-15'] = 0\n",
    "t['2016-09-16'] = 0\n",
    "t['2016-09-18'] = 1\n",
    "\n",
    "t['2016-10-03'] = 0\n",
    "t['2016-10-04'] = 0\n",
    "t['2016-10-05'] = 0\n",
    "t['2016-10-06'] = 0\n",
    "t['2016-10-07'] = 0\n",
    "t['2016-10-08'] = 1\n",
    "t['2016-10-09'] = 1\n",
    "\n"
   ]
  },
  {
   "cell_type": "code",
   "execution_count": 13,
   "metadata": {
    "collapsed": false
   },
   "outputs": [
    {
     "data": {
      "text/plain": [
       "2015-06-25    1\n",
       "2015-06-26    1\n",
       "2015-06-27    1\n",
       "2015-06-28    0\n",
       "2015-06-29    0\n",
       "2015-06-30    1\n",
       "2015-07-01    1\n",
       "2015-07-02    1\n",
       "2015-07-03    1\n",
       "2015-07-04    1\n",
       "2015-07-05    0\n",
       "2015-07-06    0\n",
       "2015-07-07    1\n",
       "2015-07-08    1\n",
       "2015-07-09    1\n",
       "2015-07-10    1\n",
       "2015-07-11    1\n",
       "2015-07-12    0\n",
       "2015-07-13    0\n",
       "2015-07-14    1\n",
       "2015-07-15    1\n",
       "2015-07-16    1\n",
       "2015-07-17    1\n",
       "2015-07-18    1\n",
       "2015-07-19    0\n",
       "2015-07-20    0\n",
       "2015-07-21    1\n",
       "2015-07-22    1\n",
       "2015-07-23    1\n",
       "2015-07-24    1\n",
       "             ..\n",
       "2016-10-03    0\n",
       "2016-10-04    1\n",
       "2016-10-05    1\n",
       "2016-10-06    1\n",
       "2016-10-07    1\n",
       "2016-10-08    1\n",
       "2016-10-09    0\n",
       "2016-10-10    0\n",
       "2016-10-11    1\n",
       "2016-10-12    1\n",
       "2016-10-13    1\n",
       "2016-10-14    1\n",
       "2016-10-15    1\n",
       "2016-10-16    0\n",
       "2016-10-17    0\n",
       "2016-10-18    1\n",
       "2016-10-19    1\n",
       "2016-10-20    1\n",
       "2016-10-21    1\n",
       "2016-10-22    1\n",
       "2016-10-23    0\n",
       "2016-10-24    0\n",
       "2016-10-25    1\n",
       "2016-10-26    1\n",
       "2016-10-27    1\n",
       "2016-10-28    1\n",
       "2016-10-29    1\n",
       "2016-10-30    0\n",
       "2016-10-31    0\n",
       "2016-11-01    1\n",
       "Freq: D, dtype: int64"
      ]
     },
     "execution_count": 13,
     "metadata": {},
     "output_type": "execute_result"
    }
   ],
   "source": [
    "t"
   ]
  },
  {
   "cell_type": "code",
   "execution_count": null,
   "metadata": {
    "collapsed": true
   },
   "outputs": [],
   "source": []
  }
 ],
 "metadata": {
  "anaconda-cloud": {},
  "kernelspec": {
   "display_name": "Python [conda root]",
   "language": "python",
   "name": "conda-root-py"
  },
  "language_info": {
   "codemirror_mode": {
    "name": "ipython",
    "version": 3
   },
   "file_extension": ".py",
   "mimetype": "text/x-python",
   "name": "python",
   "nbconvert_exporter": "python",
   "pygments_lexer": "ipython3",
   "version": "3.5.2"
  }
 },
 "nbformat": 4,
 "nbformat_minor": 1
}
