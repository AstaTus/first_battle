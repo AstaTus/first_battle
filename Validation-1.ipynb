{
 "cells": [
  {
   "cell_type": "code",
   "execution_count": null,
   "metadata": {
    "collapsed": true
   },
   "outputs": [],
   "source": [
    "import numpy as np\n",
    "import pandas as pd\n",
    "import matplotlib.pyplot as plt\n",
    "import seaborn as sns\n",
    "from datetime import datetime\n",
    "import datetime\n",
    "import time\n",
    "import predict\n",
    "import base"
   ]
  },
  {
   "cell_type": "code",
   "execution_count": null,
   "metadata": {
    "collapsed": true
   },
   "outputs": [],
   "source": [
    "#读取user_pay_count\n",
    "user_pay_counts = base.ReadUserPayCountCSV();\n",
    "#读取开店时间数据\n",
    "shop_open_dates = base.ReadShopOpenDateCSV();\n",
    "###读取商家信息\n",
    "shop_infos = base.ReadShopInfoCSV();\n",
    "##读取城市名称对照表\n",
    "city_names = base.ReadCityNameCSV();\n",
    "#读取休假表\n",
    "calenders = base.ReadCalendarCSV();"
   ]
  },
  {
   "cell_type": "code",
   "execution_count": null,
   "metadata": {
    "collapsed": true
   },
   "outputs": [],
   "source": [
    "#ARIMA"
   ]
  },
  {
   "cell_type": "code",
   "execution_count": null,
   "metadata": {
    "collapsed": true
   },
   "outputs": [],
   "source": [
    "predict.initTrainSingleArimaData(88, shop_open_dates, user_pay_counts, pd.to_datetime('2015-7-1'), pd.to_datetime('2016-10-17'))"
   ]
  },
  {
   "cell_type": "code",
   "execution_count": null,
   "metadata": {
    "collapsed": true
   },
   "outputs": [],
   "source": [
    "predict.initTrainArimasData('validation', shop_open_dates, user_pay_counts, pd.to_datetime('2016-7-1'), pd.to_datetime('2016-10-17'))"
   ]
  },
  {
   "cell_type": "code",
   "execution_count": null,
   "metadata": {
    "collapsed": true
   },
   "outputs": [],
   "source": [
    "#执行ArimaTrain.R"
   ]
  },
  {
   "cell_type": "code",
   "execution_count": null,
   "metadata": {
    "collapsed": true
   },
   "outputs": [],
   "source": [
    "arima_df = predict.predictArimas('validation')"
   ]
  },
  {
   "cell_type": "code",
   "execution_count": null,
   "metadata": {
    "collapsed": true
   },
   "outputs": [],
   "source": [
    "#ARIMA 时间序列预测\n",
    "evaluations = {}\n",
    "\n",
    "\n",
    "for id in range(1,2001):\n",
    "    y_arima = arima_df.ix[id].values\n",
    "    y_Test = base.getTestCount(user_pay_counts, id, pd.to_datetime('2016-10-18'), pd.to_datetime('2016-10-31')).values\n",
    "    e = base.evaluation_tm(y_Test, y_arima)\n",
    "    print(\"id=%d evaluation=%f\"%(id, e))\n",
    "    evaluations[id] = e\n",
    "    \n",
    "arima_evaluation_df = pd.DataFrame.from_dict(evaluations, orient='index');\n",
    "arima_evaluation_df.columns = ['evaluation']\n",
    "arima_evaluation_df.index.name = 'id'\n",
    "arima_evaluation_df.sort_values('evaluation')\n",
    "arima_evaluation_df.to_csv(\"./data/dataset/dataset/validation/arima_evaluation.txt\", sep='\\t', index=True, encoding='UTF-8')"
   ]
  },
  {
   "cell_type": "code",
   "execution_count": null,
   "metadata": {
    "collapsed": true
   },
   "outputs": [],
   "source": [
    "arima_evaluation_df['evaluation'].mean()"
   ]
  },
  {
   "cell_type": "code",
   "execution_count": null,
   "metadata": {
    "collapsed": true
   },
   "outputs": [],
   "source": [
    "arima_evaluation_df[arima_evaluation_df['evaluation'].isnull()]"
   ]
  },
  {
   "cell_type": "code",
   "execution_count": null,
   "metadata": {
    "collapsed": true
   },
   "outputs": [],
   "source": [
    "#Holiday-Mean"
   ]
  },
  {
   "cell_type": "code",
   "execution_count": null,
   "metadata": {
    "collapsed": true
   },
   "outputs": [],
   "source": [
    "holiday_mean_df = predict.trainHolidayMeansData(\n",
    "    shop_open_dates, user_pay_counts, calenders, pd.to_datetime('2016-9-27'), pd.to_datetime('2016-10-17'))"
   ]
  },
  {
   "cell_type": "code",
   "execution_count": null,
   "metadata": {
    "collapsed": true
   },
   "outputs": [],
   "source": [
    "start_time = pd.to_datetime('10/18/2016');\n",
    "end_time = pd.to_datetime('10/31/2016');\n",
    "predict_date = pd.date_range(start=start_time, end=end_time, freq='D', normalize=True)\n",
    "pridicts = {}\n",
    "evaluations = {}\n",
    "for id in range(1, 2001):\n",
    "    y_Pred = []\n",
    "    for date in predict_date:\n",
    "        daytype = calenders.loc[date.strftime('%Y-%m-%d')]['daytype']\n",
    "        y_Pred.append(holiday_mean_df.loc[id][daytype]);\n",
    "    pridicts[id] = y_Pred\n",
    "    y_Test = base.getTestCount(user_pay_counts, id, start_time, end_time).values\n",
    "    e = base.evaluation(y_Test, y_Pred)\n",
    "    print(\"id=%d evaluation=%f\"%(id, e))\n",
    "    pridicts[id] = y_Pred\n",
    "    evaluations[id] = e"
   ]
  },
  {
   "cell_type": "code",
   "execution_count": null,
   "metadata": {
    "collapsed": true
   },
   "outputs": [],
   "source": [
    "evaluation_df = pd.DataFrame.from_dict(evaluations, orient='index');\n",
    "evaluation_df.columns = ['evaluation']\n",
    "evaluation_df.index.name = 'id'\n",
    "evaluation_df.sort_values('evaluation')"
   ]
  },
  {
   "cell_type": "code",
   "execution_count": null,
   "metadata": {
    "collapsed": true
   },
   "outputs": [],
   "source": [
    "evaluation_df = evaluation_df.fillna(1)\n",
    "evaluation_df.to_csv(\"./data/dataset/dataset/validation/holiday_mean_evaluation.txt\", sep='\\t', index=True, encoding='UTF-8')"
   ]
  },
  {
   "cell_type": "code",
   "execution_count": null,
   "metadata": {
    "collapsed": true
   },
   "outputs": [],
   "source": [
    "evaluation_df['evaluation'].mean()"
   ]
  }
 ],
 "metadata": {
  "kernelspec": {
   "display_name": "Python [conda root]",
   "language": "python",
   "name": "conda-root-py"
  },
  "language_info": {
   "codemirror_mode": {
    "name": "ipython",
    "version": 3
   },
   "file_extension": ".py",
   "mimetype": "text/x-python",
   "name": "python",
   "nbconvert_exporter": "python",
   "pygments_lexer": "ipython3",
   "version": "3.5.2"
  }
 },
 "nbformat": 4,
 "nbformat_minor": 1
}
