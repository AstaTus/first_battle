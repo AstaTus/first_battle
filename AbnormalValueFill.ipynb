{
 "cells": [
  {
   "cell_type": "code",
   "execution_count": 2,
   "metadata": {
    "collapsed": false
   },
   "outputs": [],
   "source": [
    "import numpy as np\n",
    "import pandas as pd\n",
    "import matplotlib.pyplot as plt\n",
    "import seaborn as sns\n",
    "from datetime import datetime\n",
    "import datetime\n",
    "import time\n",
    "import predict\n",
    "import base\n",
    "import shop_classify as sc\n",
    "\n",
    "%load_ext autoreload\n",
    "%autoreload 2"
   ]
  },
  {
   "cell_type": "code",
   "execution_count": 3,
   "metadata": {
    "collapsed": true
   },
   "outputs": [],
   "source": [
    "#读取休假表\n",
    "calenders = base.ReadCalendarCSV();\n",
    "#读取user_pay_count\n",
    "user_pay_counts = base.ReadUserPayCountCSV();\n",
    "###读取商家信息\n",
    "shop_infos = base.ReadShopInfoCSV();\n",
    "##读取城市名称对照表\n",
    "city_names = base.ReadCityNameCSV();\n",
    "#读取开店时间数据\n",
    "shop_open_dates = base.ReadShopOpenDateCSV();"
   ]
  },
  {
   "cell_type": "code",
   "execution_count": null,
   "metadata": {
    "collapsed": true
   },
   "outputs": [],
   "source": []
  },
  {
   "cell_type": "code",
   "execution_count": 43,
   "metadata": {
    "collapsed": false
   },
   "outputs": [],
   "source": [
    "def findPrevMatchDayTypeCount(id, start_time, daytype,shop_open_dates,user_pay_counts, calenders):\n",
    "\n",
    "    open_time = shop_open_dates.loc[id]['date'];\n",
    "    while True:\n",
    "        end_time = start_time - datetime.timedelta(days=6)\n",
    "        print(start_time)\n",
    "        print(end_time)\n",
    "        if open_time > end_time:\n",
    "            return 0\n",
    "        else:\n",
    "            df = base.countShopPayTimePeriods(user_pay_counts, id,\n",
    "                    date_range=[end_time, start_time], time_range=[datetime.timedelta(hours=0), datetime.timedelta(hours=23)])\n",
    "            df['holiday'] = calenders.loc[df.index.strftime('%Y-%m-%d')]['daytype'].values\n",
    "            temp_df = df[df['holiday'] == daytype];\n",
    "            values = temp_df['count'].values;\n",
    "            print(values)\n",
    "            for i in range(len(values)-1, -1, -1):\n",
    "                if values[i] != 0:\n",
    "                    return values[i];\n",
    "                \n",
    "        start_time = start_time - datetime.timedelta(weeks=1)"
   ]
  },
  {
   "cell_type": "code",
   "execution_count": 48,
   "metadata": {
    "collapsed": false
   },
   "outputs": [
    {
     "name": "stdout",
     "output_type": "stream",
     "text": [
      "2016-08-09 00:00:00\n",
      "2016-08-03 00:00:00\n",
      "[140]\n"
     ]
    },
    {
     "data": {
      "text/plain": [
       "140"
      ]
     },
     "execution_count": 48,
     "metadata": {},
     "output_type": "execute_result"
    }
   ],
   "source": [
    "findPrevMatchDayTypeCount(50, pd.to_datetime('2016-8-9'), 5, shop_open_dates, user_pay_counts, calenders)"
   ]
  },
  {
   "cell_type": "code",
   "execution_count": null,
   "metadata": {
    "collapsed": true
   },
   "outputs": [],
   "source": []
  }
 ],
 "metadata": {
  "kernelspec": {
   "display_name": "Python [conda root]",
   "language": "python",
   "name": "conda-root-py"
  },
  "language_info": {
   "codemirror_mode": {
    "name": "ipython",
    "version": 3
   },
   "file_extension": ".py",
   "mimetype": "text/x-python",
   "name": "python",
   "nbconvert_exporter": "python",
   "pygments_lexer": "ipython3",
   "version": "3.5.2"
  }
 },
 "nbformat": 4,
 "nbformat_minor": 1
}
